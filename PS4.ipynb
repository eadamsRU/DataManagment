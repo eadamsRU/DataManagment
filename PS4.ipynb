{
  "nbformat": 4,
  "nbformat_minor": 0,
  "metadata": {
    "colab": {
      "provenance": [],
      "authorship_tag": "ABX9TyMoewvsCzU+avrK/MeFpc4i",
      "include_colab_link": true
    },
    "kernelspec": {
      "name": "python3",
      "display_name": "Python 3"
    },
    "language_info": {
      "name": "python"
    }
  },
  "cells": [
    {
      "cell_type": "markdown",
      "metadata": {
        "id": "view-in-github",
        "colab_type": "text"
      },
      "source": [
        "<a href=\"https://colab.research.google.com/github/eadamsRU/DataManagment/blob/main/PS4.ipynb\" target=\"_parent\"><img src=\"https://colab.research.google.com/assets/colab-badge.svg\" alt=\"Open In Colab\"/></a>"
      ]
    },
    {
      "cell_type": "markdown",
      "source": [
        "Bring in previous PS3, use 5 tools\n",
        "\n",
        "\n",
        "*   Melt\n",
        "*   stack\n",
        "*   plotly (px) Treemap?\n",
        "*   plotly (px) density heatmap\n",
        "*   reshape wide to long\n",
        "*   Mapping\n",
        "\n",
        "\n",
        "\n"
      ],
      "metadata": {
        "id": "NN8aZzgvUylb"
      }
    },
    {
      "cell_type": "code",
      "execution_count": 1,
      "metadata": {
        "id": "GgdtRSLkUo5N"
      },
      "outputs": [],
      "source": [
        "from google.colab import data_table\n",
        "data_table.enable_dataframe_formatter()"
      ]
    },
    {
      "cell_type": "markdown",
      "source": [
        "# NHL"
      ],
      "metadata": {
        "id": "KeblrmXrPCD1"
      }
    },
    {
      "cell_type": "code",
      "source": [
        "import csv\n",
        "!wget -q -O NHL_Goalie.csv https://raw.githubusercontent.com/eadamsRU/DataManagment/main/NHL%202023-2024%20Goalie%20Data%20.csv\n",
        "!wget -q -O NHL_Skater.csv https://raw.githubusercontent.com/eadamsRU/DataManagment/main/NHL%202023-2024%20Skater%20Data.csv"
      ],
      "metadata": {
        "id": "9xJr3DtgMKCG"
      },
      "execution_count": 2,
      "outputs": []
    },
    {
      "cell_type": "code",
      "source": [
        "import pandas as pd\n",
        "NHL_G = pd.read_csv('NHL_Goalie.csv', encoding='unicode_escape')\n",
        "NHL_S = pd.read_csv('NHL_Skater.csv', encoding='unicode_escape')"
      ],
      "metadata": {
        "id": "_EAdyuGOMfMw"
      },
      "execution_count": 3,
      "outputs": []
    },
    {
      "cell_type": "code",
      "source": [
        "NHL_G.head(3)"
      ],
      "metadata": {
        "id": "y0c_atqTMtvP"
      },
      "execution_count": null,
      "outputs": []
    },
    {
      "cell_type": "code",
      "source": [
        "NHL_S #.dtypes"
      ],
      "metadata": {
        "id": "pXhS1fL9Nf9i"
      },
      "execution_count": null,
      "outputs": []
    },
    {
      "cell_type": "code",
      "source": [
        "'''NHL_S['Position'].head(2)'''\n",
        "NHL_S.head(2)"
      ],
      "metadata": {
        "id": "5rnX9lJkNU1u",
        "colab": {
          "base_uri": "https://localhost:8080/",
          "height": 194
        },
        "outputId": "bf7eb377-b6d3-419d-8830-4193e4122d73"
      },
      "execution_count": 14,
      "outputs": [
        {
          "output_type": "stream",
          "name": "stdout",
          "text": [
            "Warning: Total number of columns (29) exceeds max_columns (20). Falling back to pandas display.\n"
          ]
        },
        {
          "output_type": "execute_result",
          "data": {
            "text/plain": [
              "  Season Year  Rk         Player  Age Team Position  Games Played  Goals  \\\n",
              "0   2023-2024   1   Noel Acciari   32  PIT        C             9      0   \n",
              "1   2023-2024   2  Calen Addison   23  MIN        D             9      0   \n",
              "\n",
              "   Assists  Points  ...  Short-Handed Assists  Shots on Goal  \\\n",
              "0        0       0  ...                     0              8   \n",
              "1        4       4  ...                     0             15   \n",
              "\n",
              "   Shooting Percentage  Time on Ice  Average Time on Ice  Blocks  Hits  \\\n",
              "0                  0.0          106                11:44      11    18   \n",
              "1                  0.0          162                18:00       4     3   \n",
              "\n",
              "   Faceoff Wins  Faceoff Losses  Faceoff Win Percentage  \n",
              "0            45              42                    51.7  \n",
              "1             0               0                     NaN  \n",
              "\n",
              "[2 rows x 29 columns]"
            ],
            "text/html": [
              "\n",
              "  <div id=\"df-635b0b08-78e7-4c96-b9c3-a7296503e026\" class=\"colab-df-container\">\n",
              "    <div>\n",
              "<style scoped>\n",
              "    .dataframe tbody tr th:only-of-type {\n",
              "        vertical-align: middle;\n",
              "    }\n",
              "\n",
              "    .dataframe tbody tr th {\n",
              "        vertical-align: top;\n",
              "    }\n",
              "\n",
              "    .dataframe thead th {\n",
              "        text-align: right;\n",
              "    }\n",
              "</style>\n",
              "<table border=\"1\" class=\"dataframe\">\n",
              "  <thead>\n",
              "    <tr style=\"text-align: right;\">\n",
              "      <th></th>\n",
              "      <th>Season Year</th>\n",
              "      <th>Rk</th>\n",
              "      <th>Player</th>\n",
              "      <th>Age</th>\n",
              "      <th>Team</th>\n",
              "      <th>Position</th>\n",
              "      <th>Games Played</th>\n",
              "      <th>Goals</th>\n",
              "      <th>Assists</th>\n",
              "      <th>Points</th>\n",
              "      <th>...</th>\n",
              "      <th>Short-Handed Assists</th>\n",
              "      <th>Shots on Goal</th>\n",
              "      <th>Shooting Percentage</th>\n",
              "      <th>Time on Ice</th>\n",
              "      <th>Average Time on Ice</th>\n",
              "      <th>Blocks</th>\n",
              "      <th>Hits</th>\n",
              "      <th>Faceoff Wins</th>\n",
              "      <th>Faceoff Losses</th>\n",
              "      <th>Faceoff Win Percentage</th>\n",
              "    </tr>\n",
              "  </thead>\n",
              "  <tbody>\n",
              "    <tr>\n",
              "      <th>0</th>\n",
              "      <td>2023-2024</td>\n",
              "      <td>1</td>\n",
              "      <td>Noel Acciari</td>\n",
              "      <td>32</td>\n",
              "      <td>PIT</td>\n",
              "      <td>C</td>\n",
              "      <td>9</td>\n",
              "      <td>0</td>\n",
              "      <td>0</td>\n",
              "      <td>0</td>\n",
              "      <td>...</td>\n",
              "      <td>0</td>\n",
              "      <td>8</td>\n",
              "      <td>0.0</td>\n",
              "      <td>106</td>\n",
              "      <td>11:44</td>\n",
              "      <td>11</td>\n",
              "      <td>18</td>\n",
              "      <td>45</td>\n",
              "      <td>42</td>\n",
              "      <td>51.7</td>\n",
              "    </tr>\n",
              "    <tr>\n",
              "      <th>1</th>\n",
              "      <td>2023-2024</td>\n",
              "      <td>2</td>\n",
              "      <td>Calen Addison</td>\n",
              "      <td>23</td>\n",
              "      <td>MIN</td>\n",
              "      <td>D</td>\n",
              "      <td>9</td>\n",
              "      <td>0</td>\n",
              "      <td>4</td>\n",
              "      <td>4</td>\n",
              "      <td>...</td>\n",
              "      <td>0</td>\n",
              "      <td>15</td>\n",
              "      <td>0.0</td>\n",
              "      <td>162</td>\n",
              "      <td>18:00</td>\n",
              "      <td>4</td>\n",
              "      <td>3</td>\n",
              "      <td>0</td>\n",
              "      <td>0</td>\n",
              "      <td>NaN</td>\n",
              "    </tr>\n",
              "  </tbody>\n",
              "</table>\n",
              "<p>2 rows × 29 columns</p>\n",
              "</div>\n",
              "    <div class=\"colab-df-buttons\">\n",
              "\n",
              "  <div class=\"colab-df-container\">\n",
              "    <button class=\"colab-df-convert\" onclick=\"convertToInteractive('df-635b0b08-78e7-4c96-b9c3-a7296503e026')\"\n",
              "            title=\"Convert this dataframe to an interactive table.\"\n",
              "            style=\"display:none;\">\n",
              "\n",
              "  <svg xmlns=\"http://www.w3.org/2000/svg\" height=\"24px\" viewBox=\"0 -960 960 960\">\n",
              "    <path d=\"M120-120v-720h720v720H120Zm60-500h600v-160H180v160Zm220 220h160v-160H400v160Zm0 220h160v-160H400v160ZM180-400h160v-160H180v160Zm440 0h160v-160H620v160ZM180-180h160v-160H180v160Zm440 0h160v-160H620v160Z\"/>\n",
              "  </svg>\n",
              "    </button>\n",
              "\n",
              "  <style>\n",
              "    .colab-df-container {\n",
              "      display:flex;\n",
              "      gap: 12px;\n",
              "    }\n",
              "\n",
              "    .colab-df-convert {\n",
              "      background-color: #E8F0FE;\n",
              "      border: none;\n",
              "      border-radius: 50%;\n",
              "      cursor: pointer;\n",
              "      display: none;\n",
              "      fill: #1967D2;\n",
              "      height: 32px;\n",
              "      padding: 0 0 0 0;\n",
              "      width: 32px;\n",
              "    }\n",
              "\n",
              "    .colab-df-convert:hover {\n",
              "      background-color: #E2EBFA;\n",
              "      box-shadow: 0px 1px 2px rgba(60, 64, 67, 0.3), 0px 1px 3px 1px rgba(60, 64, 67, 0.15);\n",
              "      fill: #174EA6;\n",
              "    }\n",
              "\n",
              "    .colab-df-buttons div {\n",
              "      margin-bottom: 4px;\n",
              "    }\n",
              "\n",
              "    [theme=dark] .colab-df-convert {\n",
              "      background-color: #3B4455;\n",
              "      fill: #D2E3FC;\n",
              "    }\n",
              "\n",
              "    [theme=dark] .colab-df-convert:hover {\n",
              "      background-color: #434B5C;\n",
              "      box-shadow: 0px 1px 3px 1px rgba(0, 0, 0, 0.15);\n",
              "      filter: drop-shadow(0px 1px 2px rgba(0, 0, 0, 0.3));\n",
              "      fill: #FFFFFF;\n",
              "    }\n",
              "  </style>\n",
              "\n",
              "    <script>\n",
              "      const buttonEl =\n",
              "        document.querySelector('#df-635b0b08-78e7-4c96-b9c3-a7296503e026 button.colab-df-convert');\n",
              "      buttonEl.style.display =\n",
              "        google.colab.kernel.accessAllowed ? 'block' : 'none';\n",
              "\n",
              "      async function convertToInteractive(key) {\n",
              "        const element = document.querySelector('#df-635b0b08-78e7-4c96-b9c3-a7296503e026');\n",
              "        const dataTable =\n",
              "          await google.colab.kernel.invokeFunction('convertToInteractive',\n",
              "                                                    [key], {});\n",
              "        if (!dataTable) return;\n",
              "\n",
              "        const docLinkHtml = 'Like what you see? Visit the ' +\n",
              "          '<a target=\"_blank\" href=https://colab.research.google.com/notebooks/data_table.ipynb>data table notebook</a>'\n",
              "          + ' to learn more about interactive tables.';\n",
              "        element.innerHTML = '';\n",
              "        dataTable['output_type'] = 'display_data';\n",
              "        await google.colab.output.renderOutput(dataTable, element);\n",
              "        const docLink = document.createElement('div');\n",
              "        docLink.innerHTML = docLinkHtml;\n",
              "        element.appendChild(docLink);\n",
              "      }\n",
              "    </script>\n",
              "  </div>\n",
              "\n",
              "\n",
              "<div id=\"df-2406b1d9-76c0-4d0b-b65e-6ee31f4fd413\">\n",
              "  <button class=\"colab-df-quickchart\" onclick=\"quickchart('df-2406b1d9-76c0-4d0b-b65e-6ee31f4fd413')\"\n",
              "            title=\"Suggest charts.\"\n",
              "            style=\"display:none;\">\n",
              "\n",
              "<svg xmlns=\"http://www.w3.org/2000/svg\" height=\"24px\"viewBox=\"0 0 24 24\"\n",
              "     width=\"24px\">\n",
              "    <g>\n",
              "        <path d=\"M19 3H5c-1.1 0-2 .9-2 2v14c0 1.1.9 2 2 2h14c1.1 0 2-.9 2-2V5c0-1.1-.9-2-2-2zM9 17H7v-7h2v7zm4 0h-2V7h2v10zm4 0h-2v-4h2v4z\"/>\n",
              "    </g>\n",
              "</svg>\n",
              "  </button>\n",
              "\n",
              "<style>\n",
              "  .colab-df-quickchart {\n",
              "      --bg-color: #E8F0FE;\n",
              "      --fill-color: #1967D2;\n",
              "      --hover-bg-color: #E2EBFA;\n",
              "      --hover-fill-color: #174EA6;\n",
              "      --disabled-fill-color: #AAA;\n",
              "      --disabled-bg-color: #DDD;\n",
              "  }\n",
              "\n",
              "  [theme=dark] .colab-df-quickchart {\n",
              "      --bg-color: #3B4455;\n",
              "      --fill-color: #D2E3FC;\n",
              "      --hover-bg-color: #434B5C;\n",
              "      --hover-fill-color: #FFFFFF;\n",
              "      --disabled-bg-color: #3B4455;\n",
              "      --disabled-fill-color: #666;\n",
              "  }\n",
              "\n",
              "  .colab-df-quickchart {\n",
              "    background-color: var(--bg-color);\n",
              "    border: none;\n",
              "    border-radius: 50%;\n",
              "    cursor: pointer;\n",
              "    display: none;\n",
              "    fill: var(--fill-color);\n",
              "    height: 32px;\n",
              "    padding: 0;\n",
              "    width: 32px;\n",
              "  }\n",
              "\n",
              "  .colab-df-quickchart:hover {\n",
              "    background-color: var(--hover-bg-color);\n",
              "    box-shadow: 0 1px 2px rgba(60, 64, 67, 0.3), 0 1px 3px 1px rgba(60, 64, 67, 0.15);\n",
              "    fill: var(--button-hover-fill-color);\n",
              "  }\n",
              "\n",
              "  .colab-df-quickchart-complete:disabled,\n",
              "  .colab-df-quickchart-complete:disabled:hover {\n",
              "    background-color: var(--disabled-bg-color);\n",
              "    fill: var(--disabled-fill-color);\n",
              "    box-shadow: none;\n",
              "  }\n",
              "\n",
              "  .colab-df-spinner {\n",
              "    border: 2px solid var(--fill-color);\n",
              "    border-color: transparent;\n",
              "    border-bottom-color: var(--fill-color);\n",
              "    animation:\n",
              "      spin 1s steps(1) infinite;\n",
              "  }\n",
              "\n",
              "  @keyframes spin {\n",
              "    0% {\n",
              "      border-color: transparent;\n",
              "      border-bottom-color: var(--fill-color);\n",
              "      border-left-color: var(--fill-color);\n",
              "    }\n",
              "    20% {\n",
              "      border-color: transparent;\n",
              "      border-left-color: var(--fill-color);\n",
              "      border-top-color: var(--fill-color);\n",
              "    }\n",
              "    30% {\n",
              "      border-color: transparent;\n",
              "      border-left-color: var(--fill-color);\n",
              "      border-top-color: var(--fill-color);\n",
              "      border-right-color: var(--fill-color);\n",
              "    }\n",
              "    40% {\n",
              "      border-color: transparent;\n",
              "      border-right-color: var(--fill-color);\n",
              "      border-top-color: var(--fill-color);\n",
              "    }\n",
              "    60% {\n",
              "      border-color: transparent;\n",
              "      border-right-color: var(--fill-color);\n",
              "    }\n",
              "    80% {\n",
              "      border-color: transparent;\n",
              "      border-right-color: var(--fill-color);\n",
              "      border-bottom-color: var(--fill-color);\n",
              "    }\n",
              "    90% {\n",
              "      border-color: transparent;\n",
              "      border-bottom-color: var(--fill-color);\n",
              "    }\n",
              "  }\n",
              "</style>\n",
              "\n",
              "  <script>\n",
              "    async function quickchart(key) {\n",
              "      const quickchartButtonEl =\n",
              "        document.querySelector('#' + key + ' button');\n",
              "      quickchartButtonEl.disabled = true;  // To prevent multiple clicks.\n",
              "      quickchartButtonEl.classList.add('colab-df-spinner');\n",
              "      try {\n",
              "        const charts = await google.colab.kernel.invokeFunction(\n",
              "            'suggestCharts', [key], {});\n",
              "      } catch (error) {\n",
              "        console.error('Error during call to suggestCharts:', error);\n",
              "      }\n",
              "      quickchartButtonEl.classList.remove('colab-df-spinner');\n",
              "      quickchartButtonEl.classList.add('colab-df-quickchart-complete');\n",
              "    }\n",
              "    (() => {\n",
              "      let quickchartButtonEl =\n",
              "        document.querySelector('#df-2406b1d9-76c0-4d0b-b65e-6ee31f4fd413 button');\n",
              "      quickchartButtonEl.style.display =\n",
              "        google.colab.kernel.accessAllowed ? 'block' : 'none';\n",
              "    })();\n",
              "  </script>\n",
              "</div>\n",
              "    </div>\n",
              "  </div>\n"
            ]
          },
          "metadata": {},
          "execution_count": 14
        }
      ]
    },
    {
      "cell_type": "markdown",
      "source": [
        "Get all unique values in a  column"
      ],
      "metadata": {
        "id": "RoxD-jtdRBxZ"
      }
    },
    {
      "cell_type": "code",
      "source": [
        "#NHL_S['Position'] #.value_counts() #.unique()\n",
        "'''\n",
        "This did not return anything for the positions in the DF, why?\n",
        "'''\n",
        "\n",
        "a = NHL_S['Position'].unique()\n",
        "print(sorted(a))\n",
        "\n",
        "\n"
      ],
      "metadata": {
        "id": "WjhWZklbN5rD",
        "colab": {
          "base_uri": "https://localhost:8080/"
        },
        "outputId": "fccb6a00-4d32-418c-f3cc-392876037150"
      },
      "execution_count": 13,
      "outputs": [
        {
          "output_type": "stream",
          "name": "stdout",
          "text": [
            "['C', 'D', 'F', 'LW', 'RW']\n"
          ]
        }
      ]
    },
    {
      "cell_type": "code",
      "source": [
        "###map/recode\n",
        "\n",
        "S = pd.DataFrame({\"Position\": [\"LW\", \"C\", \"RW\", \"D\"],\n",
        "                             \"Off/Def\": [\"Offense\", \"Offense\", \"Offense\", \"Defense\"]})\n",
        "S"
      ],
      "metadata": {
        "id": "30hTjAtrNCIc"
      },
      "execution_count": null,
      "outputs": []
    },
    {
      "cell_type": "markdown",
      "source": [
        "## NHL Stack"
      ],
      "metadata": {
        "id": "SzRy8fWCUO7l"
      }
    },
    {
      "cell_type": "markdown",
      "source": [
        "This was to see how it works when you map and then stack a DF"
      ],
      "metadata": {
        "id": "epiG8j92b0FA"
      }
    },
    {
      "cell_type": "code",
      "source": [
        "nhlStack=S.stack()\n",
        "nhlStack"
      ],
      "metadata": {
        "id": "bQxm1VI8UIJ-",
        "colab": {
          "base_uri": "https://localhost:8080/"
        },
        "outputId": "ce91a671-85f5-4325-eab2-de84bb38dc3d"
      },
      "execution_count": 64,
      "outputs": [
        {
          "output_type": "execute_result",
          "data": {
            "text/plain": [
              "0  Position         LW\n",
              "   Off/Def     Offense\n",
              "1  Position          C\n",
              "   Off/Def     Offense\n",
              "2  Position         RW\n",
              "   Off/Def     Offense\n",
              "3  Position          D\n",
              "   Off/Def     Defense\n",
              "dtype: object"
            ]
          },
          "metadata": {},
          "execution_count": 64
        }
      ]
    },
    {
      "cell_type": "markdown",
      "source": [
        "This makes it easier to group by player and see all stats in a readable way"
      ],
      "metadata": {
        "id": "kGPjYLqsXPCK"
      }
    },
    {
      "cell_type": "code",
      "source": [
        "nhlOG = NHL_S.stack()\n",
        "nhlOG"
      ],
      "metadata": {
        "id": "BEFUE7T0ae72"
      },
      "execution_count": null,
      "outputs": []
    },
    {
      "cell_type": "markdown",
      "source": [
        "*Can read this in a much better way, I went by index to look up player.\n",
        "  Want to see how I could just do (player = 'player_name')\n",
        "\n",
        "Things to add would be to have those 2 columns to compare you showed where you rename them A B, do that compare with 2 players side by side*"
      ],
      "metadata": {
        "id": "6pno0LkJXtkA"
      }
    },
    {
      "cell_type": "code",
      "source": [
        "nhlOG[0]"
      ],
      "metadata": {
        "id": "p2J3OjFAXbHN"
      },
      "execution_count": null,
      "outputs": []
    },
    {
      "cell_type": "code",
      "source": [
        "nhl_OG_unstack = nhlOG.unstack()\n",
        "nhl_OG_unstack"
      ],
      "metadata": {
        "id": "NJ6ar-0ncLni"
      },
      "execution_count": null,
      "outputs": []
    },
    {
      "cell_type": "markdown",
      "source": [
        "This unstacks the NHL og DF(not the filtered position by offense defense)"
      ],
      "metadata": {
        "id": "5E_Kkc68cYJF"
      }
    },
    {
      "cell_type": "markdown",
      "source": [
        "# Premier League Imports"
      ],
      "metadata": {
        "id": "HjcRxByWPH0l"
      }
    },
    {
      "cell_type": "code",
      "source": [
        "!wget -q -O PL_Keeper.csv https://raw.githubusercontent.com/eadamsRU/DataManagment/main/PremLG%202023-2024%20Goalie%20Data.csv\n",
        "!wget -q -O PL_Player.csv https://raw.githubusercontent.com/eadamsRU/DataManagment/main/PremLG%202023-2024%20Player%20Data.csv"
      ],
      "metadata": {
        "id": "4e8H8qfYPBXz"
      },
      "execution_count": 16,
      "outputs": []
    },
    {
      "cell_type": "code",
      "source": [
        "PL_K = pd.read_csv('PL_Keeper.csv', encoding='unicode_escape')\n",
        "PL_P = pd.read_csv('PL_Player.csv', encoding='unicode_escape')"
      ],
      "metadata": {
        "id": "LRImaSUHPQlg"
      },
      "execution_count": 17,
      "outputs": []
    },
    {
      "cell_type": "markdown",
      "source": [
        "# Mapping"
      ],
      "metadata": {
        "id": "2f7PK508Ont2"
      }
    },
    {
      "cell_type": "code",
      "source": [
        "PL_P.head(2)"
      ],
      "metadata": {
        "id": "mDx270EfRcA8"
      },
      "execution_count": null,
      "outputs": []
    },
    {
      "cell_type": "code",
      "source": [
        "PL_P.dtypes"
      ],
      "metadata": {
        "colab": {
          "base_uri": "https://localhost:8080/"
        },
        "id": "3zi5fhPYSSb0",
        "outputId": "18e789b8-9bb0-4e63-9892-1527d10ef69a"
      },
      "execution_count": 80,
      "outputs": [
        {
          "output_type": "execute_result",
          "data": {
            "text/plain": [
              "Season Year                                        object\n",
              "Rk                                                  int64\n",
              "Player                                             object\n",
              "Nation                                             object\n",
              "Position                                           object\n",
              "Squad                                              object\n",
              "Age                                                object\n",
              "Born                                                int64\n",
              "Matches Played                                      int64\n",
              "Starts                                              int64\n",
              "Minutes                                             int64\n",
              "90s                                               float64\n",
              "Goals                                               int64\n",
              "Assists                                             int64\n",
              "Goals plus Assists                                  int64\n",
              "Non-Penalty Goals                                   int64\n",
              "Penalty Kicks Made                                  int64\n",
              "Penalty Kicks Attempted                             int64\n",
              "Yellow Cards                                        int64\n",
              "Red Cards                                           int64\n",
              "Expected Goals                                    float64\n",
              "Non-Penalty Expected Goals                        float64\n",
              "Expected Assisted Goals                           float64\n",
              "Non-Penalty Expected Goals plus Assisted Goals    float64\n",
              "Progressive Carries                                 int64\n",
              "Progressive Passes                                  int64\n",
              "Progressive Passes Received                         int64\n",
              "dtype: object"
            ]
          },
          "metadata": {},
          "execution_count": 80
        }
      ]
    },
    {
      "cell_type": "code",
      "source": [
        "PL_P[['Player','Position']]"
      ],
      "metadata": {
        "id": "AJanvDUFSOqq"
      },
      "execution_count": null,
      "outputs": []
    },
    {
      "cell_type": "code",
      "source": [
        "gb = PL_P.groupby('Position')\n",
        "gb.first()\n"
      ],
      "metadata": {
        "id": "j3AuxtNuSsnq"
      },
      "execution_count": null,
      "outputs": []
    },
    {
      "cell_type": "markdown",
      "source": [
        "This guy is a forward, this groupby() and also .get_group() is useful to filter and search for specific values in a column"
      ],
      "metadata": {
        "id": "MITwjeQaTL6b"
      }
    },
    {
      "cell_type": "code",
      "source": [
        "gb.get_group('FW,DF')\n"
      ],
      "metadata": {
        "id": "KAov1p-eTCk5"
      },
      "execution_count": null,
      "outputs": []
    },
    {
      "cell_type": "code",
      "source": [
        "b = PL_P['Position'].unique()\n",
        "print(sorted(b))"
      ],
      "metadata": {
        "id": "duMt_RoMRO19"
      },
      "execution_count": null,
      "outputs": []
    },
    {
      "cell_type": "markdown",
      "source": [
        "**Mapping**, The highest position on the field takes seeding, so if DF and FW, the player would be grouped under Forward\n",
        "\n",
        "  This was cool to see in a sports context of grouping positions to offense defense vs what it was like in the NHL DF"
      ],
      "metadata": {
        "id": "oXul2xKKT0S7"
      }
    },
    {
      "cell_type": "code",
      "source": [
        "P = pd.DataFrame({\"Position\": [\"DF\", \"DF,MF\", \"FW\", \"FW,DF\", 'FW,MF', 'GK', 'MF', 'MF,DF', 'MF,FW'],\n",
        "                             \"Off/Def\": [\"Defense\", \"Defense\", \"Forward\", \"Forward\", \"Forward\", \"GoalKeeper\", \"MidFielder\", \"Midfielder\", \"Forward\"]})\n",
        "P"
      ],
      "metadata": {
        "id": "BvruoFTXR3WU"
      },
      "execution_count": null,
      "outputs": []
    },
    {
      "cell_type": "markdown",
      "source": [
        "NHL Mapping to get Forwards with Forwards and pair Defensemen with eachother"
      ],
      "metadata": {
        "id": "Ill3A-dXRvXY"
      }
    },
    {
      "cell_type": "code",
      "source": [
        "S = pd.DataFrame({\"Position\": [\"LW\", \"C\", \"RW\", \"D\"],\n",
        "                             \"Off/Def\": [\"Offense\", \"Offense\", \"Offense\", \"Defense\"]})\n",
        "S"
      ],
      "metadata": {
        "id": "9E_ROrjpO-ol"
      },
      "execution_count": null,
      "outputs": []
    },
    {
      "cell_type": "markdown",
      "source": [
        "# Melt\n"
      ],
      "metadata": {
        "id": "q_zL6qIjcoXt"
      }
    },
    {
      "cell_type": "markdown",
      "source": [
        "Another way to view the data and reshape"
      ],
      "metadata": {
        "id": "wzXDSqqUgwqw"
      }
    },
    {
      "cell_type": "code",
      "source": [
        "NHL_Melt = NHL_S.melt(id_vars = ['Player', 'Team'])\n",
        "NHL_Melt.sort_values('Team')\n",
        "\n"
      ],
      "metadata": {
        "colab": {
          "base_uri": "https://localhost:8080/",
          "height": 669
        },
        "id": "SIPAT9Pzc-zC",
        "outputId": "95b9e5e9-66ab-41f1-a5f9-a73eae166883"
      },
      "execution_count": 73,
      "outputs": [
        {
          "output_type": "execute_result",
          "data": {
            "text/plain": [
              "                 Player Team              variable  value\n",
              "259       Sebastian Aho  CAR            Plus/Minus      0\n",
              "195       Sebastian Aho  CAR               Assists      5\n",
              "35        Sebastian Aho  CAR                    Rk      4\n",
              "99        Sebastian Aho  CAR              Position      F\n",
              "547       Sebastian Aho  CAR  Short-Handed Assists      1\n",
              "..                  ...  ...                   ...    ...\n",
              "69   Alexander Alexeyev  WSH                   Age     24\n",
              "241   Nicklas Bckstrm  WSH                Points      1\n",
              "433   Nicklas Bckstrm  WSH    Short-Handed Goals      0\n",
              "677  Alexander Alexeyev  WSH   Average Time on Ice  10:34\n",
              "645  Alexander Alexeyev  WSH           Time on Ice     42\n",
              "\n",
              "[864 rows x 4 columns]"
            ],
            "text/html": [
              "\n",
              "  <div id=\"df-2d999bff-39ee-4af7-a589-1de2fc1a98b7\" class=\"colab-df-container\">\n",
              "    <div>\n",
              "<style scoped>\n",
              "    .dataframe tbody tr th:only-of-type {\n",
              "        vertical-align: middle;\n",
              "    }\n",
              "\n",
              "    .dataframe tbody tr th {\n",
              "        vertical-align: top;\n",
              "    }\n",
              "\n",
              "    .dataframe thead th {\n",
              "        text-align: right;\n",
              "    }\n",
              "</style>\n",
              "<table border=\"1\" class=\"dataframe\">\n",
              "  <thead>\n",
              "    <tr style=\"text-align: right;\">\n",
              "      <th></th>\n",
              "      <th>Player</th>\n",
              "      <th>Team</th>\n",
              "      <th>variable</th>\n",
              "      <th>value</th>\n",
              "    </tr>\n",
              "  </thead>\n",
              "  <tbody>\n",
              "    <tr>\n",
              "      <th>259</th>\n",
              "      <td>Sebastian Aho</td>\n",
              "      <td>CAR</td>\n",
              "      <td>Plus/Minus</td>\n",
              "      <td>0</td>\n",
              "    </tr>\n",
              "    <tr>\n",
              "      <th>195</th>\n",
              "      <td>Sebastian Aho</td>\n",
              "      <td>CAR</td>\n",
              "      <td>Assists</td>\n",
              "      <td>5</td>\n",
              "    </tr>\n",
              "    <tr>\n",
              "      <th>35</th>\n",
              "      <td>Sebastian Aho</td>\n",
              "      <td>CAR</td>\n",
              "      <td>Rk</td>\n",
              "      <td>4</td>\n",
              "    </tr>\n",
              "    <tr>\n",
              "      <th>99</th>\n",
              "      <td>Sebastian Aho</td>\n",
              "      <td>CAR</td>\n",
              "      <td>Position</td>\n",
              "      <td>F</td>\n",
              "    </tr>\n",
              "    <tr>\n",
              "      <th>547</th>\n",
              "      <td>Sebastian Aho</td>\n",
              "      <td>CAR</td>\n",
              "      <td>Short-Handed Assists</td>\n",
              "      <td>1</td>\n",
              "    </tr>\n",
              "    <tr>\n",
              "      <th>...</th>\n",
              "      <td>...</td>\n",
              "      <td>...</td>\n",
              "      <td>...</td>\n",
              "      <td>...</td>\n",
              "    </tr>\n",
              "    <tr>\n",
              "      <th>69</th>\n",
              "      <td>Alexander Alexeyev</td>\n",
              "      <td>WSH</td>\n",
              "      <td>Age</td>\n",
              "      <td>24</td>\n",
              "    </tr>\n",
              "    <tr>\n",
              "      <th>241</th>\n",
              "      <td>Nicklas Bckstrm</td>\n",
              "      <td>WSH</td>\n",
              "      <td>Points</td>\n",
              "      <td>1</td>\n",
              "    </tr>\n",
              "    <tr>\n",
              "      <th>433</th>\n",
              "      <td>Nicklas Bckstrm</td>\n",
              "      <td>WSH</td>\n",
              "      <td>Short-Handed Goals</td>\n",
              "      <td>0</td>\n",
              "    </tr>\n",
              "    <tr>\n",
              "      <th>677</th>\n",
              "      <td>Alexander Alexeyev</td>\n",
              "      <td>WSH</td>\n",
              "      <td>Average Time on Ice</td>\n",
              "      <td>10:34</td>\n",
              "    </tr>\n",
              "    <tr>\n",
              "      <th>645</th>\n",
              "      <td>Alexander Alexeyev</td>\n",
              "      <td>WSH</td>\n",
              "      <td>Time on Ice</td>\n",
              "      <td>42</td>\n",
              "    </tr>\n",
              "  </tbody>\n",
              "</table>\n",
              "<p>864 rows × 4 columns</p>\n",
              "</div>\n",
              "    <div class=\"colab-df-buttons\">\n",
              "\n",
              "  <div class=\"colab-df-container\">\n",
              "    <button class=\"colab-df-convert\" onclick=\"convertToInteractive('df-2d999bff-39ee-4af7-a589-1de2fc1a98b7')\"\n",
              "            title=\"Convert this dataframe to an interactive table.\"\n",
              "            style=\"display:none;\">\n",
              "\n",
              "  <svg xmlns=\"http://www.w3.org/2000/svg\" height=\"24px\" viewBox=\"0 -960 960 960\">\n",
              "    <path d=\"M120-120v-720h720v720H120Zm60-500h600v-160H180v160Zm220 220h160v-160H400v160Zm0 220h160v-160H400v160ZM180-400h160v-160H180v160Zm440 0h160v-160H620v160ZM180-180h160v-160H180v160Zm440 0h160v-160H620v160Z\"/>\n",
              "  </svg>\n",
              "    </button>\n",
              "\n",
              "  <style>\n",
              "    .colab-df-container {\n",
              "      display:flex;\n",
              "      gap: 12px;\n",
              "    }\n",
              "\n",
              "    .colab-df-convert {\n",
              "      background-color: #E8F0FE;\n",
              "      border: none;\n",
              "      border-radius: 50%;\n",
              "      cursor: pointer;\n",
              "      display: none;\n",
              "      fill: #1967D2;\n",
              "      height: 32px;\n",
              "      padding: 0 0 0 0;\n",
              "      width: 32px;\n",
              "    }\n",
              "\n",
              "    .colab-df-convert:hover {\n",
              "      background-color: #E2EBFA;\n",
              "      box-shadow: 0px 1px 2px rgba(60, 64, 67, 0.3), 0px 1px 3px 1px rgba(60, 64, 67, 0.15);\n",
              "      fill: #174EA6;\n",
              "    }\n",
              "\n",
              "    .colab-df-buttons div {\n",
              "      margin-bottom: 4px;\n",
              "    }\n",
              "\n",
              "    [theme=dark] .colab-df-convert {\n",
              "      background-color: #3B4455;\n",
              "      fill: #D2E3FC;\n",
              "    }\n",
              "\n",
              "    [theme=dark] .colab-df-convert:hover {\n",
              "      background-color: #434B5C;\n",
              "      box-shadow: 0px 1px 3px 1px rgba(0, 0, 0, 0.15);\n",
              "      filter: drop-shadow(0px 1px 2px rgba(0, 0, 0, 0.3));\n",
              "      fill: #FFFFFF;\n",
              "    }\n",
              "  </style>\n",
              "\n",
              "    <script>\n",
              "      const buttonEl =\n",
              "        document.querySelector('#df-2d999bff-39ee-4af7-a589-1de2fc1a98b7 button.colab-df-convert');\n",
              "      buttonEl.style.display =\n",
              "        google.colab.kernel.accessAllowed ? 'block' : 'none';\n",
              "\n",
              "      async function convertToInteractive(key) {\n",
              "        const element = document.querySelector('#df-2d999bff-39ee-4af7-a589-1de2fc1a98b7');\n",
              "        const dataTable =\n",
              "          await google.colab.kernel.invokeFunction('convertToInteractive',\n",
              "                                                    [key], {});\n",
              "        if (!dataTable) return;\n",
              "\n",
              "        const docLinkHtml = 'Like what you see? Visit the ' +\n",
              "          '<a target=\"_blank\" href=https://colab.research.google.com/notebooks/data_table.ipynb>data table notebook</a>'\n",
              "          + ' to learn more about interactive tables.';\n",
              "        element.innerHTML = '';\n",
              "        dataTable['output_type'] = 'display_data';\n",
              "        await google.colab.output.renderOutput(dataTable, element);\n",
              "        const docLink = document.createElement('div');\n",
              "        docLink.innerHTML = docLinkHtml;\n",
              "        element.appendChild(docLink);\n",
              "      }\n",
              "    </script>\n",
              "  </div>\n",
              "\n",
              "\n",
              "<div id=\"df-0433037d-efec-4fbf-93fc-77b115d247af\">\n",
              "  <button class=\"colab-df-quickchart\" onclick=\"quickchart('df-0433037d-efec-4fbf-93fc-77b115d247af')\"\n",
              "            title=\"Suggest charts.\"\n",
              "            style=\"display:none;\">\n",
              "\n",
              "<svg xmlns=\"http://www.w3.org/2000/svg\" height=\"24px\"viewBox=\"0 0 24 24\"\n",
              "     width=\"24px\">\n",
              "    <g>\n",
              "        <path d=\"M19 3H5c-1.1 0-2 .9-2 2v14c0 1.1.9 2 2 2h14c1.1 0 2-.9 2-2V5c0-1.1-.9-2-2-2zM9 17H7v-7h2v7zm4 0h-2V7h2v10zm4 0h-2v-4h2v4z\"/>\n",
              "    </g>\n",
              "</svg>\n",
              "  </button>\n",
              "\n",
              "<style>\n",
              "  .colab-df-quickchart {\n",
              "      --bg-color: #E8F0FE;\n",
              "      --fill-color: #1967D2;\n",
              "      --hover-bg-color: #E2EBFA;\n",
              "      --hover-fill-color: #174EA6;\n",
              "      --disabled-fill-color: #AAA;\n",
              "      --disabled-bg-color: #DDD;\n",
              "  }\n",
              "\n",
              "  [theme=dark] .colab-df-quickchart {\n",
              "      --bg-color: #3B4455;\n",
              "      --fill-color: #D2E3FC;\n",
              "      --hover-bg-color: #434B5C;\n",
              "      --hover-fill-color: #FFFFFF;\n",
              "      --disabled-bg-color: #3B4455;\n",
              "      --disabled-fill-color: #666;\n",
              "  }\n",
              "\n",
              "  .colab-df-quickchart {\n",
              "    background-color: var(--bg-color);\n",
              "    border: none;\n",
              "    border-radius: 50%;\n",
              "    cursor: pointer;\n",
              "    display: none;\n",
              "    fill: var(--fill-color);\n",
              "    height: 32px;\n",
              "    padding: 0;\n",
              "    width: 32px;\n",
              "  }\n",
              "\n",
              "  .colab-df-quickchart:hover {\n",
              "    background-color: var(--hover-bg-color);\n",
              "    box-shadow: 0 1px 2px rgba(60, 64, 67, 0.3), 0 1px 3px 1px rgba(60, 64, 67, 0.15);\n",
              "    fill: var(--button-hover-fill-color);\n",
              "  }\n",
              "\n",
              "  .colab-df-quickchart-complete:disabled,\n",
              "  .colab-df-quickchart-complete:disabled:hover {\n",
              "    background-color: var(--disabled-bg-color);\n",
              "    fill: var(--disabled-fill-color);\n",
              "    box-shadow: none;\n",
              "  }\n",
              "\n",
              "  .colab-df-spinner {\n",
              "    border: 2px solid var(--fill-color);\n",
              "    border-color: transparent;\n",
              "    border-bottom-color: var(--fill-color);\n",
              "    animation:\n",
              "      spin 1s steps(1) infinite;\n",
              "  }\n",
              "\n",
              "  @keyframes spin {\n",
              "    0% {\n",
              "      border-color: transparent;\n",
              "      border-bottom-color: var(--fill-color);\n",
              "      border-left-color: var(--fill-color);\n",
              "    }\n",
              "    20% {\n",
              "      border-color: transparent;\n",
              "      border-left-color: var(--fill-color);\n",
              "      border-top-color: var(--fill-color);\n",
              "    }\n",
              "    30% {\n",
              "      border-color: transparent;\n",
              "      border-left-color: var(--fill-color);\n",
              "      border-top-color: var(--fill-color);\n",
              "      border-right-color: var(--fill-color);\n",
              "    }\n",
              "    40% {\n",
              "      border-color: transparent;\n",
              "      border-right-color: var(--fill-color);\n",
              "      border-top-color: var(--fill-color);\n",
              "    }\n",
              "    60% {\n",
              "      border-color: transparent;\n",
              "      border-right-color: var(--fill-color);\n",
              "    }\n",
              "    80% {\n",
              "      border-color: transparent;\n",
              "      border-right-color: var(--fill-color);\n",
              "      border-bottom-color: var(--fill-color);\n",
              "    }\n",
              "    90% {\n",
              "      border-color: transparent;\n",
              "      border-bottom-color: var(--fill-color);\n",
              "    }\n",
              "  }\n",
              "</style>\n",
              "\n",
              "  <script>\n",
              "    async function quickchart(key) {\n",
              "      const quickchartButtonEl =\n",
              "        document.querySelector('#' + key + ' button');\n",
              "      quickchartButtonEl.disabled = true;  // To prevent multiple clicks.\n",
              "      quickchartButtonEl.classList.add('colab-df-spinner');\n",
              "      try {\n",
              "        const charts = await google.colab.kernel.invokeFunction(\n",
              "            'suggestCharts', [key], {});\n",
              "      } catch (error) {\n",
              "        console.error('Error during call to suggestCharts:', error);\n",
              "      }\n",
              "      quickchartButtonEl.classList.remove('colab-df-spinner');\n",
              "      quickchartButtonEl.classList.add('colab-df-quickchart-complete');\n",
              "    }\n",
              "    (() => {\n",
              "      let quickchartButtonEl =\n",
              "        document.querySelector('#df-0433037d-efec-4fbf-93fc-77b115d247af button');\n",
              "      quickchartButtonEl.style.display =\n",
              "        google.colab.kernel.accessAllowed ? 'block' : 'none';\n",
              "    })();\n",
              "  </script>\n",
              "</div>\n",
              "    </div>\n",
              "  </div>\n"
            ],
            "application/vnd.google.colaboratory.module+javascript": "\n      import \"https://ssl.gstatic.com/colaboratory/data_table/881c4a0d49046431/data_table.js\";\n\n      const table = window.createDataTable({\n        data: [[{\n            'v': 259,\n            'f': \"259\",\n        },\n\"Sebastian Aho\",\n\"CAR\",\n\"Plus/Minus\",\n0],\n [{\n            'v': 195,\n            'f': \"195\",\n        },\n\"Sebastian Aho\",\n\"CAR\",\n\"Assists\",\n5],\n [{\n            'v': 35,\n            'f': \"35\",\n        },\n\"Sebastian Aho\",\n\"CAR\",\n\"Rk\",\n4],\n [{\n            'v': 99,\n            'f': \"99\",\n        },\n\"Sebastian Aho\",\n\"CAR\",\n\"Position\",\n\"F\"],\n [{\n            'v': 547,\n            'f': \"547\",\n        },\n\"Sebastian Aho\",\n\"CAR\",\n\"Short-Handed Assists\",\n1],\n [{\n            'v': 163,\n            'f': \"163\",\n        },\n\"Sebastian Aho\",\n\"CAR\",\n\"Goals\",\n1],\n [{\n            'v': 451,\n            'f': \"451\",\n        },\n\"Sebastian Aho\",\n\"CAR\",\n\"Game-Winning Goals\",\n0],\n [{\n            'v': 355,\n            'f': \"355\",\n        },\n\"Sebastian Aho\",\n\"CAR\",\n\"Even Strength Goals\",\n0],\n [{\n            'v': 483,\n            'f': \"483\",\n        },\n\"Sebastian Aho\",\n\"CAR\",\n\"Even Strength Assists\",\n2],\n [{\n            'v': 643,\n            'f': \"643\",\n        },\n\"Sebastian Aho\",\n\"CAR\",\n\"Time on Ice\",\n143],\n [{\n            'v': 419,\n            'f': \"419\",\n        },\n\"Sebastian Aho\",\n\"CAR\",\n\"Short-Handed Goals\",\n1],\n [{\n            'v': 835,\n            'f': \"835\",\n        },\n\"Sebastian Aho\",\n\"CAR\",\n\"Faceoff Win Percentage\",\n49.2],\n [{\n            'v': 227,\n            'f': \"227\",\n        },\n\"Sebastian Aho\",\n\"CAR\",\n\"Points\",\n6],\n [{\n            'v': 323,\n            'f': \"323\",\n        },\n\"Sebastian Aho\",\n\"CAR\",\n\"Point Shares\",\n0.4],\n [{\n            'v': 771,\n            'f': \"771\",\n        },\n\"Sebastian Aho\",\n\"CAR\",\n\"Faceoff Wins\",\n31],\n [{\n            'v': 131,\n            'f': \"131\",\n        },\n\"Sebastian Aho\",\n\"CAR\",\n\"Games Played\",\n7],\n [{\n            'v': 739,\n            'f': \"739\",\n        },\n\"Sebastian Aho\",\n\"CAR\",\n\"Hits\",\n1],\n [{\n            'v': 611,\n            'f': \"611\",\n        },\n\"Sebastian Aho\",\n\"CAR\",\n\"Shooting Percentage\",\n4.2],\n [{\n            'v': 675,\n            'f': \"675\",\n        },\n\"Sebastian Aho\",\n\"CAR\",\n\"Average Time on Ice\",\n\"20:23\"],\n [{\n            'v': 515,\n            'f': \"515\",\n        },\n\"Sebastian Aho\",\n\"CAR\",\n\"Power Play Assists\",\n2],\n [{\n            'v': 3,\n            'f': \"3\",\n        },\n\"Sebastian Aho\",\n\"CAR\",\n\"Season Year\",\n\"2023-2024\"],\n [{\n            'v': 387,\n            'f': \"387\",\n        },\n\"Sebastian Aho\",\n\"CAR\",\n\"Power Play Goals\",\n0],\n [{\n            'v': 291,\n            'f': \"291\",\n        },\n\"Sebastian Aho\",\n\"CAR\",\n\"Penalities in Minutes\",\n4],\n [{\n            'v': 803,\n            'f': \"803\",\n        },\n\"Sebastian Aho\",\n\"CAR\",\n\"Faceoff Losses\",\n32],\n [{\n            'v': 67,\n            'f': \"67\",\n        },\n\"Sebastian Aho\",\n\"CAR\",\n\"Age\",\n26],\n [{\n            'v': 707,\n            'f': \"707\",\n        },\n\"Sebastian Aho\",\n\"CAR\",\n\"Blocks\",\n1],\n [{\n            'v': 579,\n            'f': \"579\",\n        },\n\"Sebastian Aho\",\n\"CAR\",\n\"Shots on Goal\",\n24],\n [{\n            'v': 830,\n            'f': \"830\",\n        },\n\"Jake Bean\",\n\"CBJ\",\n\"Faceoff Losses\",\n0],\n [{\n            'v': 478,\n            'f': \"478\",\n        },\n\"Jake Bean\",\n\"CBJ\",\n\"Game-Winning Goals\",\n0],\n [{\n            'v': 126,\n            'f': \"126\",\n        },\n\"Jake Bean\",\n\"CBJ\",\n\"Position\",\n\"D\"],\n [{\n            'v': 670,\n            'f': \"670\",\n        },\n\"Jake Bean\",\n\"CBJ\",\n\"Time on Ice\",\n153],\n [{\n            'v': 190,\n            'f': \"190\",\n        },\n\"Jake Bean\",\n\"CBJ\",\n\"Goals\",\n1],\n [{\n            'v': 638,\n            'f': \"638\",\n        },\n\"Jake Bean\",\n\"CBJ\",\n\"Shooting Percentage\",\n7.7],\n [{\n            'v': 766,\n            'f': \"766\",\n        },\n\"Jake Bean\",\n\"CBJ\",\n\"Hits\",\n6],\n [{\n            'v': 94,\n            'f': \"94\",\n        },\n\"Jake Bean\",\n\"CBJ\",\n\"Age\",\n25],\n [{\n            'v': 446,\n            'f': \"446\",\n        },\n\"Jake Bean\",\n\"CBJ\",\n\"Short-Handed Goals\",\n0],\n [{\n            'v': 62,\n            'f': \"62\",\n        },\n\"Jake Bean\",\n\"CBJ\",\n\"Rk\",\n31],\n [{\n            'v': 350,\n            'f': \"350\",\n        },\n\"Jake Bean\",\n\"CBJ\",\n\"Point Shares\",\n0.4],\n [{\n            'v': 222,\n            'f': \"222\",\n        },\n\"Jake Bean\",\n\"CBJ\",\n\"Assists\",\n2],\n [{\n            'v': 254,\n            'f': \"254\",\n        },\n\"Jake Bean\",\n\"CBJ\",\n\"Points\",\n3],\n [{\n            'v': 158,\n            'f': \"158\",\n        },\n\"Jake Bean\",\n\"CBJ\",\n\"Games Played\",\n9],\n [{\n            'v': 542,\n            'f': \"542\",\n        },\n\"Jake Bean\",\n\"CBJ\",\n\"Power Play Assists\",\n0],\n [{\n            'v': 862,\n            'f': \"862\",\n        },\n\"Jake Bean\",\n\"CBJ\",\n\"Faceoff Win Percentage\",\nNaN],\n [{\n            'v': 606,\n            'f': \"606\",\n        },\n\"Jake Bean\",\n\"CBJ\",\n\"Shots on Goal\",\n13],\n [{\n            'v': 510,\n            'f': \"510\",\n        },\n\"Jake Bean\",\n\"CBJ\",\n\"Even Strength Assists\",\n2],\n [{\n            'v': 798,\n            'f': \"798\",\n        },\n\"Jake Bean\",\n\"CBJ\",\n\"Faceoff Wins\",\n0],\n [{\n            'v': 574,\n            'f': \"574\",\n        },\n\"Jake Bean\",\n\"CBJ\",\n\"Short-Handed Assists\",\n0],\n [{\n            'v': 286,\n            'f': \"286\",\n        },\n\"Jake Bean\",\n\"CBJ\",\n\"Plus/Minus\",\n-3],\n [{\n            'v': 318,\n            'f': \"318\",\n        },\n\"Jake Bean\",\n\"CBJ\",\n\"Penalities in Minutes\",\n4],\n [{\n            'v': 702,\n            'f': \"702\",\n        },\n\"Jake Bean\",\n\"CBJ\",\n\"Average Time on Ice\",\n\"17:00\"],\n [{\n            'v': 382,\n            'f': \"382\",\n        },\n\"Jake Bean\",\n\"CBJ\",\n\"Even Strength Goals\",\n1],\n [{\n            'v': 734,\n            'f': \"734\",\n        },\n\"Jake Bean\",\n\"CBJ\",\n\"Blocks\",\n13],\n [{\n            'v': 30,\n            'f': \"30\",\n        },\n\"Jake Bean\",\n\"CBJ\",\n\"Season Year\",\n\"2023-2024\"],\n [{\n            'v': 414,\n            'f': \"414\",\n        },\n\"Jake Bean\",\n\"CBJ\",\n\"Power Play Goals\",\n0],\n [{\n            'v': 170,\n            'f': \"170\",\n        },\n\"Rasmus Andersson\",\n\"CGY\",\n\"Goals\",\n1],\n [{\n            'v': 784,\n            'f': \"784\",\n        },\n\"Mikael Backlund\",\n\"CGY\",\n\"Faceoff Wins\",\n85],\n [{\n            'v': 656,\n            'f': \"656\",\n        },\n\"Mikael Backlund\",\n\"CGY\",\n\"Time on Ice\",\n170],\n [{\n            'v': 432,\n            'f': \"432\",\n        },\n\"Mikael Backlund\",\n\"CGY\",\n\"Short-Handed Goals\",\n0],\n [{\n            'v': 560,\n            'f': \"560\",\n        },\n\"Mikael Backlund\",\n\"CGY\",\n\"Short-Handed Assists\",\n1],\n [{\n            'v': 810,\n            'f': \"810\",\n        },\n\"Rasmus Andersson\",\n\"CGY\",\n\"Faceoff Losses\",\n0],\n [{\n            'v': 80,\n            'f': \"80\",\n        },\n\"Mikael Backlund\",\n\"CGY\",\n\"Age\",\n34],\n [{\n            'v': 106,\n            'f': \"106\",\n        },\n\"Rasmus Andersson\",\n\"CGY\",\n\"Position\",\n\"D\"],\n [{\n            'v': 816,\n            'f': \"816\",\n        },\n\"Mikael Backlund\",\n\"CGY\",\n\"Faceoff Losses\",\n76],\n [{\n            'v': 778,\n            'f': \"778\",\n        },\n\"Rasmus Andersson\",\n\"CGY\",\n\"Faceoff Wins\",\n0],\n [{\n            'v': 458,\n            'f': \"458\",\n        },\n\"Rasmus Andersson\",\n\"CGY\",\n\"Game-Winning Goals\",\n0],\n [{\n            'v': 144,\n            'f': \"144\",\n        },\n\"Mikael Backlund\",\n\"CGY\",\n\"Games Played\",\n9],\n [{\n            'v': 650,\n            'f': \"650\",\n        },\n\"Rasmus Andersson\",\n\"CGY\",\n\"Time on Ice\",\n118],\n [{\n            'v': 400,\n            'f': \"400\",\n        },\n\"Mikael Backlund\",\n\"CGY\",\n\"Power Play Goals\",\n0],\n [{\n            'v': 176,\n            'f': \"176\",\n        },\n\"Mikael Backlund\",\n\"CGY\",\n\"Goals\",\n0],\n [{\n            'v': 112,\n            'f': \"112\",\n        },\n\"Mikael Backlund\",\n\"CGY\",\n\"Position\",\n\"C\"],\n [{\n            'v': 138,\n            'f': \"138\",\n        },\n\"Rasmus Andersson\",\n\"CGY\",\n\"Games Played\",\n5],\n [{\n            'v': 554,\n            'f': \"554\",\n        },\n\"Rasmus Andersson\",\n\"CGY\",\n\"Short-Handed Assists\",\n0],\n [{\n            'v': 426,\n            'f': \"426\",\n        },\n\"Rasmus Andersson\",\n\"CGY\",\n\"Short-Handed Goals\",\n1],\n [{\n            'v': 394,\n            'f': \"394\",\n        },\n\"Rasmus Andersson\",\n\"CGY\",\n\"Power Play Goals\",\n0],\n [{\n            'v': 752,\n            'f': \"752\",\n        },\n\"Mikael Backlund\",\n\"CGY\",\n\"Hits\",\n7],\n [{\n            'v': 202,\n            'f': \"202\",\n        },\n\"Rasmus Andersson\",\n\"CGY\",\n\"Assists\",\n2],\n [{\n            'v': 74,\n            'f': \"74\",\n        },\n\"Rasmus Andersson\",\n\"CGY\",\n\"Age\",\n27],\n [{\n            'v': 490,\n            'f': \"490\",\n        },\n\"Rasmus Andersson\",\n\"CGY\",\n\"Even Strength Assists\",\n1],\n [{\n            'v': 336,\n            'f': \"336\",\n        },\n\"Mikael Backlund\",\n\"CGY\",\n\"Point Shares\",\n0.1],\n [{\n            'v': 522,\n            'f': \"522\",\n        },\n\"Rasmus Andersson\",\n\"CGY\",\n\"Power Play Assists\",\n1],\n [{\n            'v': 592,\n            'f': \"592\",\n        },\n\"Mikael Backlund\",\n\"CGY\",\n\"Shots on Goal\",\n25],\n [{\n            'v': 330,\n            'f': \"330\",\n        },\n\"Rasmus Andersson\",\n\"CGY\",\n\"Point Shares\",\n0.7],\n [{\n            'v': 848,\n            'f': \"848\",\n        },\n\"Mikael Backlund\",\n\"CGY\",\n\"Faceoff Win Percentage\",\n52.8],\n [{\n            'v': 842,\n            'f': \"842\",\n        },\n\"Rasmus Andersson\",\n\"CGY\",\n\"Faceoff Win Percentage\",\nNaN],\n [{\n            'v': 266,\n            'f': \"266\",\n        },\n\"Rasmus Andersson\",\n\"CGY\",\n\"Plus/Minus\",\n1],\n [{\n            'v': 272,\n            'f': \"272\",\n        },\n\"Mikael Backlund\",\n\"CGY\",\n\"Plus/Minus\",\n0],\n [{\n            'v': 720,\n            'f': \"720\",\n        },\n\"Mikael Backlund\",\n\"CGY\",\n\"Blocks\",\n5],\n [{\n            'v': 16,\n            'f': \"16\",\n        },\n\"Mikael Backlund\",\n\"CGY\",\n\"Season Year\",\n\"2023-2024\"],\n [{\n            'v': 10,\n            'f': \"10\",\n        },\n\"Rasmus Andersson\",\n\"CGY\",\n\"Season Year\",\n\"2023-2024\"],\n [{\n            'v': 714,\n            'f': \"714\",\n        },\n\"Rasmus Andersson\",\n\"CGY\",\n\"Blocks\",\n14],\n [{\n            'v': 304,\n            'f': \"304\",\n        },\n\"Mikael Backlund\",\n\"CGY\",\n\"Penalities in Minutes\",\n4],\n [{\n            'v': 298,\n            'f': \"298\",\n        },\n\"Rasmus Andersson\",\n\"CGY\",\n\"Penalities in Minutes\",\n15],\n [{\n            'v': 496,\n            'f': \"496\",\n        },\n\"Mikael Backlund\",\n\"CGY\",\n\"Even Strength Assists\",\n2],\n [{\n            'v': 240,\n            'f': \"240\",\n        },\n\"Mikael Backlund\",\n\"CGY\",\n\"Points\",\n3],\n [{\n            'v': 688,\n            'f': \"688\",\n        },\n\"Mikael Backlund\",\n\"CGY\",\n\"Average Time on Ice\",\n\"18:53\"],\n [{\n            'v': 528,\n            'f': \"528\",\n        },\n\"Mikael Backlund\",\n\"CGY\",\n\"Power Play Assists\",\n0],\n [{\n            'v': 624,\n            'f': \"624\",\n        },\n\"Mikael Backlund\",\n\"CGY\",\n\"Shooting Percentage\",\n0.0],\n [{\n            'v': 42,\n            'f': \"42\",\n        },\n\"Rasmus Andersson\",\n\"CGY\",\n\"Rk\",\n11],\n [{\n            'v': 362,\n            'f': \"362\",\n        },\n\"Rasmus Andersson\",\n\"CGY\",\n\"Even Strength Goals\",\n0],\n [{\n            'v': 682,\n            'f': \"682\",\n        },\n\"Rasmus Andersson\",\n\"CGY\",\n\"Average Time on Ice\",\n\"23:39\"],\n [{\n            'v': 586,\n            'f': \"586\",\n        },\n\"Rasmus Andersson\",\n\"CGY\",\n\"Shots on Goal\",\n13],\n [{\n            'v': 746,\n            'f': \"746\",\n        },\n\"Rasmus Andersson\",\n\"CGY\",\n\"Hits\",\n0],\n [{\n            'v': 368,\n            'f': \"368\",\n        },\n\"Mikael Backlund\",\n\"CGY\",\n\"Even Strength Goals\",\n0],\n [{\n            'v': 208,\n            'f': \"208\",\n        },\n\"Mikael Backlund\",\n\"CGY\",\n\"Assists\",\n3],\n [{\n            'v': 234,\n            'f': \"234\",\n        },\n\"Rasmus Andersson\",\n\"CGY\",\n\"Points\",\n3],\n [{\n            'v': 618,\n            'f': \"618\",\n        },\n\"Rasmus Andersson\",\n\"CGY\",\n\"Shooting Percentage\",\n7.7],\n [{\n            'v': 464,\n            'f': \"464\",\n        },\n\"Mikael Backlund\",\n\"CGY\",\n\"Game-Winning Goals\",\n0],\n [{\n            'v': 48,\n            'f': \"48\",\n        },\n\"Mikael Backlund\",\n\"CGY\",\n\"Rk\",\n17],\n [{\n            'v': 718,\n            'f': \"718\",\n        },\n\"Andreas Athanasiou\",\n\"CHI\",\n\"Blocks\",\n2],\n [{\n            'v': 366,\n            'f': \"366\",\n        },\n\"Andreas Athanasiou\",\n\"CHI\",\n\"Even Strength Goals\",\n0],\n [{\n            'v': 206,\n            'f': \"206\",\n        },\n\"Andreas Athanasiou\",\n\"CHI\",\n\"Assists\",\n3],\n [{\n            'v': 590,\n            'f': \"590\",\n        },\n\"Andreas Athanasiou\",\n\"CHI\",\n\"Shots on Goal\",\n15],\n [{\n            'v': 238,\n            'f': \"238\",\n        },\n\"Andreas Athanasiou\",\n\"CHI\",\n\"Points\",\n3],\n [{\n            'v': 142,\n            'f': \"142\",\n        },\n\"Andreas Athanasiou\",\n\"CHI\",\n\"Games Played\",\n8],\n [{\n            'v': 750,\n            'f': \"750\",\n        },\n\"Andreas Athanasiou\",\n\"CHI\",\n\"Hits\",\n1],\n [{\n            'v': 174,\n            'f': \"174\",\n        },\n\"Andreas Athanasiou\",\n\"CHI\",\n\"Goals\",\n0],\n [{\n            'v': 654,\n            'f': \"654\",\n        },\n\"Andreas Athanasiou\",\n\"CHI\",\n\"Time on Ice\",\n107],\n [{\n            'v': 334,\n            'f': \"334\",\n        },\n\"Andreas Athanasiou\",\n\"CHI\",\n\"Point Shares\",\n0.0],\n [{\n            'v': 398,\n            'f': \"398\",\n        },\n\"Andreas Athanasiou\",\n\"CHI\",\n\"Power Play Goals\",\n0],\n [{\n            'v': 686,\n            'f': \"686\",\n        },\n\"Andreas Athanasiou\",\n\"CHI\",\n\"Average Time on Ice\",\n\"13:21\"],\n [{\n            'v': 782,\n            'f': \"782\",\n        },\n\"Andreas Athanasiou\",\n\"CHI\",\n\"Faceoff Wins\",\n5],\n [{\n            'v': 270,\n            'f': \"270\",\n        },\n\"Andreas Athanasiou\",\n\"CHI\",\n\"Plus/Minus\",\n-5],\n [{\n            'v': 558,\n            'f': \"558\",\n        },\n\"Andreas Athanasiou\",\n\"CHI\",\n\"Short-Handed Assists\",\n0],\n [{\n            'v': 302,\n            'f': \"302\",\n        },\n\"Andreas Athanasiou\",\n\"CHI\",\n\"Penalities in Minutes\",\n0],\n [{\n            'v': 46,\n            'f': \"46\",\n        },\n\"Andreas Athanasiou\",\n\"CHI\",\n\"Rk\",\n15],\n [{\n            'v': 846,\n            'f': \"846\",\n        },\n\"Andreas Athanasiou\",\n\"CHI\",\n\"Faceoff Win Percentage\",\n35.7],\n [{\n            'v': 110,\n            'f': \"110\",\n        },\n\"Andreas Athanasiou\",\n\"CHI\",\n\"Position\",\n\"C\"],\n [{\n            'v': 494,\n            'f': \"494\",\n        },\n\"Andreas Athanasiou\",\n\"CHI\",\n\"Even Strength Assists\",\n2],\n [{\n            'v': 814,\n            'f': \"814\",\n        },\n\"Andreas Athanasiou\",\n\"CHI\",\n\"Faceoff Losses\",\n9],\n [{\n            'v': 462,\n            'f': \"462\",\n        },\n\"Andreas Athanasiou\",\n\"CHI\",\n\"Game-Winning Goals\",\n0],\n [{\n            'v': 78,\n            'f': \"78\",\n        },\n\"Andreas Athanasiou\",\n\"CHI\",\n\"Age\",\n29],\n [{\n            'v': 622,\n            'f': \"622\",\n        },\n\"Andreas Athanasiou\",\n\"CHI\",\n\"Shooting Percentage\",\n0.0],\n [{\n            'v': 526,\n            'f': \"526\",\n        },\n\"Andreas Athanasiou\",\n\"CHI\",\n\"Power Play Assists\",\n1],\n [{\n            'v': 14,\n            'f': \"14\",\n        },\n\"Andreas Athanasiou\",\n\"CHI\",\n\"Season Year\",\n\"2023-2024\"],\n [{\n            'v': 430,\n            'f': \"430\",\n        },\n\"Andreas Athanasiou\",\n\"CHI\",\n\"Short-Handed Goals\",\n0],\n [{\n            'v': 627,\n            'f': \"627\",\n        },\n\"Uvis Balinskis\",\n\"FLA\",\n\"Shooting Percentage\",\n0.0],\n [{\n            'v': 214,\n            'f': \"214\",\n        },\n\"Aleksander Barkov\",\n\"FLA\",\n\"Assists\",\n6],\n [{\n            'v': 755,\n            'f': \"755\",\n        },\n\"Uvis Balinskis\",\n\"FLA\",\n\"Hits\",\n12],\n [{\n            'v': 211,\n            'f': \"211\",\n        },\n\"Uvis Balinskis\",\n\"FLA\",\n\"Assists\",\n0],\n [{\n            'v': 534,\n            'f': \"534\",\n        },\n\"Aleksander Barkov\",\n\"FLA\",\n\"Power Play Assists\",\n1],\n [{\n            'v': 630,\n            'f': \"630\",\n        },\n\"Aleksander Barkov\",\n\"FLA\",\n\"Shooting Percentage\",\n14.3],\n [{\n            'v': 467,\n            'f': \"467\",\n        },\n\"Uvis Balinskis\",\n\"FLA\",\n\"Game-Winning Goals\",\n0],\n [{\n            'v': 822,\n            'f': \"822\",\n        },\n\"Aleksander Barkov\",\n\"FLA\",\n\"Faceoff Losses\",\n64],\n [{\n            'v': 83,\n            'f': \"83\",\n        },\n\"Uvis Balinskis\",\n\"FLA\",\n\"Age\",\n27],\n [{\n            'v': 470,\n            'f': \"470\",\n        },\n\"Aleksander Barkov\",\n\"FLA\",\n\"Game-Winning Goals\",\n0],\n [{\n            'v': 179,\n            'f': \"179\",\n        },\n\"Uvis Balinskis\",\n\"FLA\",\n\"Goals\",\n0],\n [{\n            'v': 374,\n            'f': \"374\",\n        },\n\"Aleksander Barkov\",\n\"FLA\",\n\"Even Strength Goals\",\n2],\n [{\n            'v': 566,\n            'f': \"566\",\n        },\n\"Aleksander Barkov\",\n\"FLA\",\n\"Short-Handed Assists\",\n0],\n [{\n            'v': 595,\n            'f': \"595\",\n        },\n\"Uvis Balinskis\",\n\"FLA\",\n\"Shots on Goal\",\n7],\n [{\n            'v': 182,\n            'f': \"182\",\n        },\n\"Aleksander Barkov\",\n\"FLA\",\n\"Goals\",\n2],\n [{\n            'v': 371,\n            'f': \"371\",\n        },\n\"Uvis Balinskis\",\n\"FLA\",\n\"Even Strength Goals\",\n0],\n [{\n            'v': 758,\n            'f': \"758\",\n        },\n\"Aleksander Barkov\",\n\"FLA\",\n\"Hits\",\n8],\n [{\n            'v': 51,\n            'f': \"51\",\n        },\n\"Uvis Balinskis\",\n\"FLA\",\n\"Rk\",\n20],\n [{\n            'v': 307,\n            'f': \"307\",\n        },\n\"Uvis Balinskis\",\n\"FLA\",\n\"Penalities in Minutes\",\n6],\n [{\n            'v': 502,\n            'f': \"502\",\n        },\n\"Aleksander Barkov\",\n\"FLA\",\n\"Even Strength Assists\",\n5],\n [{\n            'v': 310,\n            'f': \"310\",\n        },\n\"Aleksander Barkov\",\n\"FLA\",\n\"Penalities in Minutes\",\n2],\n [{\n            'v': 499,\n            'f': \"499\",\n        },\n\"Uvis Balinskis\",\n\"FLA\",\n\"Even Strength Assists\",\n0],\n [{\n            'v': 19,\n            'f': \"19\",\n        },\n\"Uvis Balinskis\",\n\"FLA\",\n\"Season Year\",\n\"2023-2024\"],\n [{\n            'v': 278,\n            'f': \"278\",\n        },\n\"Aleksander Barkov\",\n\"FLA\",\n\"Plus/Minus\",\n7],\n [{\n            'v': 723,\n            'f': \"723\",\n        },\n\"Uvis Balinskis\",\n\"FLA\",\n\"Blocks\",\n6],\n [{\n            'v': 726,\n            'f': \"726\",\n        },\n\"Aleksander Barkov\",\n\"FLA\",\n\"Blocks\",\n2],\n [{\n            'v': 275,\n            'f': \"275\",\n        },\n\"Uvis Balinskis\",\n\"FLA\",\n\"Plus/Minus\",\n-2],\n [{\n            'v': 854,\n            'f': \"854\",\n        },\n\"Aleksander Barkov\",\n\"FLA\",\n\"Faceoff Win Percentage\",\n50.8],\n [{\n            'v': 851,\n            'f': \"851\",\n        },\n\"Uvis Balinskis\",\n\"FLA\",\n\"Faceoff Win Percentage\",\nNaN],\n [{\n            'v': 22,\n            'f': \"22\",\n        },\n\"Aleksander Barkov\",\n\"FLA\",\n\"Season Year\",\n\"2023-2024\"],\n [{\n            'v': 339,\n            'f': \"339\",\n        },\n\"Uvis Balinskis\",\n\"FLA\",\n\"Point Shares\",\n-0.1],\n [{\n            'v': 694,\n            'f': \"694\",\n        },\n\"Aleksander Barkov\",\n\"FLA\",\n\"Average Time on Ice\",\n\"21:10\"],\n [{\n            'v': 691,\n            'f': \"691\",\n        },\n\"Uvis Balinskis\",\n\"FLA\",\n\"Average Time on Ice\",\n\"14:00\"],\n [{\n            'v': 342,\n            'f': \"342\",\n        },\n\"Aleksander Barkov\",\n\"FLA\",\n\"Point Shares\",\n1.0],\n [{\n            'v': 246,\n            'f': \"246\",\n        },\n\"Aleksander Barkov\",\n\"FLA\",\n\"Points\",\n8],\n [{\n            'v': 243,\n            'f': \"243\",\n        },\n\"Uvis Balinskis\",\n\"FLA\",\n\"Points\",\n0],\n [{\n            'v': 819,\n            'f': \"819\",\n        },\n\"Uvis Balinskis\",\n\"FLA\",\n\"Faceoff Losses\",\n0],\n [{\n            'v': 54,\n            'f': \"54\",\n        },\n\"Aleksander Barkov\",\n\"FLA\",\n\"Rk\",\n23],\n [{\n            'v': 86,\n            'f': \"86\",\n        },\n\"Aleksander Barkov\",\n\"FLA\",\n\"Age\",\n28],\n [{\n            'v': 150,\n            'f': \"150\",\n        },\n\"Aleksander Barkov\",\n\"FLA\",\n\"Games Played\",\n7],\n [{\n            'v': 563,\n            'f': \"563\",\n        },\n\"Uvis Balinskis\",\n\"FLA\",\n\"Short-Handed Assists\",\n0],\n [{\n            'v': 438,\n            'f': \"438\",\n        },\n\"Aleksander Barkov\",\n\"FLA\",\n\"Short-Handed Goals\",\n0],\n [{\n            'v': 147,\n            'f': \"147\",\n        },\n\"Uvis Balinskis\",\n\"FLA\",\n\"Games Played\",\n8],\n [{\n            'v': 403,\n            'f': \"403\",\n        },\n\"Uvis Balinskis\",\n\"FLA\",\n\"Power Play Goals\",\n0],\n [{\n            'v': 662,\n            'f': \"662\",\n        },\n\"Aleksander Barkov\",\n\"FLA\",\n\"Time on Ice\",\n148],\n [{\n            'v': 659,\n            'f': \"659\",\n        },\n\"Uvis Balinskis\",\n\"FLA\",\n\"Time on Ice\",\n112],\n [{\n            'v': 435,\n            'f': \"435\",\n        },\n\"Uvis Balinskis\",\n\"FLA\",\n\"Short-Handed Goals\",\n0],\n [{\n            'v': 115,\n            'f': \"115\",\n        },\n\"Uvis Balinskis\",\n\"FLA\",\n\"Position\",\n\"D\"],\n [{\n            'v': 598,\n            'f': \"598\",\n        },\n\"Aleksander Barkov\",\n\"FLA\",\n\"Shots on Goal\",\n14],\n [{\n            'v': 118,\n            'f': \"118\",\n        },\n\"Aleksander Barkov\",\n\"FLA\",\n\"Position\",\n\"C\"],\n [{\n            'v': 406,\n            'f': \"406\",\n        },\n\"Aleksander Barkov\",\n\"FLA\",\n\"Power Play Goals\",\n0],\n [{\n            'v': 787,\n            'f': \"787\",\n        },\n\"Uvis Balinskis\",\n\"FLA\",\n\"Faceoff Wins\",\n0],\n [{\n            'v': 790,\n            'f': \"790\",\n        },\n\"Aleksander Barkov\",\n\"FLA\",\n\"Faceoff Wins\",\n66],\n [{\n            'v': 531,\n            'f': \"531\",\n        },\n\"Uvis Balinskis\",\n\"FLA\",\n\"Power Play Assists\",\n0],\n [{\n            'v': 745,\n            'f': \"745\",\n        },\n\"Jaret Anderson-Dolan\",\n\"LAK\",\n\"Hits\",\n2],\n [{\n            'v': 809,\n            'f': \"809\",\n        },\n\"Jaret Anderson-Dolan\",\n\"LAK\",\n\"Faceoff Losses\",\n1],\n [{\n            'v': 233,\n            'f': \"233\",\n        },\n\"Jaret Anderson-Dolan\",\n\"LAK\",\n\"Points\",\n0],\n [{\n            'v': 232,\n            'f': \"232\",\n        },\n\"Michael Anderson\",\n\"LAK\",\n\"Points\",\n7],\n [{\n            'v': 41,\n            'f': \"41\",\n        },\n\"Jaret Anderson-Dolan\",\n\"LAK\",\n\"Rk\",\n10],\n [{\n            'v': 744,\n            'f': \"744\",\n        },\n\"Michael Anderson\",\n\"LAK\",\n\"Hits\",\n17],\n [{\n            'v': 840,\n            'f': \"840\",\n        },\n\"Michael Anderson\",\n\"LAK\",\n\"Faceoff Win Percentage\",\nNaN],\n [{\n            'v': 40,\n            'f': \"40\",\n        },\n\"Michael Anderson\",\n\"LAK\",\n\"Rk\",\n9],\n [{\n            'v': 488,\n            'f': \"488\",\n        },\n\"Michael Anderson\",\n\"LAK\",\n\"Even Strength Assists\",\n5],\n [{\n            'v': 104,\n            'f': \"104\",\n        },\n\"Michael Anderson\",\n\"LAK\",\n\"Position\",\n\"D\"],\n [{\n            'v': 105,\n            'f': \"105\",\n        },\n\"Jaret Anderson-Dolan\",\n\"LAK\",\n\"Position\",\n\"C\"],\n [{\n            'v': 777,\n            'f': \"777\",\n        },\n\"Jaret Anderson-Dolan\",\n\"LAK\",\n\"Faceoff Wins\",\n0],\n [{\n            'v': 713,\n            'f': \"713\",\n        },\n\"Jaret Anderson-Dolan\",\n\"LAK\",\n\"Blocks\",\n0],\n [{\n            'v': 297,\n            'f': \"297\",\n        },\n\"Jaret Anderson-Dolan\",\n\"LAK\",\n\"Penalities in Minutes\",\n0],\n [{\n            'v': 296,\n            'f': \"296\",\n        },\n\"Michael Anderson\",\n\"LAK\",\n\"Penalities in Minutes\",\n4],\n [{\n            'v': 520,\n            'f': \"520\",\n        },\n\"Michael Anderson\",\n\"LAK\",\n\"Power Play Assists\",\n0],\n [{\n            'v': 8,\n            'f': \"8\",\n        },\n\"Michael Anderson\",\n\"LAK\",\n\"Season Year\",\n\"2023-2024\"],\n [{\n            'v': 712,\n            'f': \"712\",\n        },\n\"Michael Anderson\",\n\"LAK\",\n\"Blocks\",\n11],\n [{\n            'v': 9,\n            'f': \"9\",\n        },\n\"Jaret Anderson-Dolan\",\n\"LAK\",\n\"Season Year\",\n\"2023-2024\"],\n [{\n            'v': 648,\n            'f': \"648\",\n        },\n\"Michael Anderson\",\n\"LAK\",\n\"Time on Ice\",\n156],\n [{\n            'v': 425,\n            'f': \"425\",\n        },\n\"Jaret Anderson-Dolan\",\n\"LAK\",\n\"Short-Handed Goals\",\n0],\n [{\n            'v': 424,\n            'f': \"424\",\n        },\n\"Michael Anderson\",\n\"LAK\",\n\"Short-Handed Goals\",\n0],\n [{\n            'v': 808,\n            'f': \"808\",\n        },\n\"Michael Anderson\",\n\"LAK\",\n\"Faceoff Losses\",\n0],\n [{\n            'v': 136,\n            'f': \"136\",\n        },\n\"Michael Anderson\",\n\"LAK\",\n\"Games Played\",\n8],\n [{\n            'v': 137,\n            'f': \"137\",\n        },\n\"Jaret Anderson-Dolan\",\n\"LAK\",\n\"Games Played\",\n1],\n [{\n            'v': 584,\n            'f': \"584\",\n        },\n\"Michael Anderson\",\n\"LAK\",\n\"Shots on Goal\",\n8],\n [{\n            'v': 616,\n            'f': \"616\",\n        },\n\"Michael Anderson\",\n\"LAK\",\n\"Shooting Percentage\",\n12.5],\n [{\n            'v': 328,\n            'f': \"328\",\n        },\n\"Michael Anderson\",\n\"LAK\",\n\"Point Shares\",\n1.1],\n [{\n            'v': 521,\n            'f': \"521\",\n        },\n\"Jaret Anderson-Dolan\",\n\"LAK\",\n\"Power Play Assists\",\n0],\n [{\n            'v': 265,\n            'f': \"265\",\n        },\n\"Jaret Anderson-Dolan\",\n\"LAK\",\n\"Plus/Minus\",\n0],\n [{\n            'v': 264,\n            'f': \"264\",\n        },\n\"Michael Anderson\",\n\"LAK\",\n\"Plus/Minus\",\n5],\n [{\n            'v': 329,\n            'f': \"329\",\n        },\n\"Jaret Anderson-Dolan\",\n\"LAK\",\n\"Point Shares\",\n0.0],\n [{\n            'v': 489,\n            'f': \"489\",\n        },\n\"Jaret Anderson-Dolan\",\n\"LAK\",\n\"Even Strength Assists\",\n0],\n [{\n            'v': 617,\n            'f': \"617\",\n        },\n\"Jaret Anderson-Dolan\",\n\"LAK\",\n\"Shooting Percentage\",\n0.0],\n [{\n            'v': 841,\n            'f': \"841\",\n        },\n\"Jaret Anderson-Dolan\",\n\"LAK\",\n\"Faceoff Win Percentage\",\n0.0],\n [{\n            'v': 649,\n            'f': \"649\",\n        },\n\"Jaret Anderson-Dolan\",\n\"LAK\",\n\"Time on Ice\",\n7],\n [{\n            'v': 553,\n            'f': \"553\",\n        },\n\"Jaret Anderson-Dolan\",\n\"LAK\",\n\"Short-Handed Assists\",\n0],\n [{\n            'v': 456,\n            'f': \"456\",\n        },\n\"Michael Anderson\",\n\"LAK\",\n\"Game-Winning Goals\",\n0],\n [{\n            'v': 552,\n            'f': \"552\",\n        },\n\"Michael Anderson\",\n\"LAK\",\n\"Short-Handed Assists\",\n1],\n [{\n            'v': 392,\n            'f': \"392\",\n        },\n\"Michael Anderson\",\n\"LAK\",\n\"Power Play Goals\",\n0],\n [{\n            'v': 73,\n            'f': \"73\",\n        },\n\"Jaret Anderson-Dolan\",\n\"LAK\",\n\"Age\",\n24],\n [{\n            'v': 168,\n            'f': \"168\",\n        },\n\"Michael Anderson\",\n\"LAK\",\n\"Goals\",\n1],\n [{\n            'v': 680,\n            'f': \"680\",\n        },\n\"Michael Anderson\",\n\"LAK\",\n\"Average Time on Ice\",\n\"19:31\"],\n [{\n            'v': 681,\n            'f': \"681\",\n        },\n\"Jaret Anderson-Dolan\",\n\"LAK\",\n\"Average Time on Ice\",\n\"6:51\"],\n [{\n            'v': 201,\n            'f': \"201\",\n        },\n\"Jaret Anderson-Dolan\",\n\"LAK\",\n\"Assists\",\n0],\n [{\n            'v': 169,\n            'f': \"169\",\n        },\n\"Jaret Anderson-Dolan\",\n\"LAK\",\n\"Goals\",\n0],\n [{\n            'v': 361,\n            'f': \"361\",\n        },\n\"Jaret Anderson-Dolan\",\n\"LAK\",\n\"Even Strength Goals\",\n0],\n [{\n            'v': 457,\n            'f': \"457\",\n        },\n\"Jaret Anderson-Dolan\",\n\"LAK\",\n\"Game-Winning Goals\",\n0],\n [{\n            'v': 776,\n            'f': \"776\",\n        },\n\"Michael Anderson\",\n\"LAK\",\n\"Faceoff Wins\",\n0],\n [{\n            'v': 360,\n            'f': \"360\",\n        },\n\"Michael Anderson\",\n\"LAK\",\n\"Even Strength Goals\",\n1],\n [{\n            'v': 72,\n            'f': \"72\",\n        },\n\"Michael Anderson\",\n\"LAK\",\n\"Age\",\n24],\n [{\n            'v': 200,\n            'f': \"200\",\n        },\n\"Michael Anderson\",\n\"LAK\",\n\"Assists\",\n6],\n [{\n            'v': 393,\n            'f': \"393\",\n        },\n\"Jaret Anderson-Dolan\",\n\"LAK\",\n\"Power Play Goals\",\n0],\n [{\n            'v': 585,\n            'f': \"585\",\n        },\n\"Jaret Anderson-Dolan\",\n\"LAK\",\n\"Shots on Goal\",\n1],\n [{\n            'v': 545,\n            'f': \"545\",\n        },\n\"Calen Addison\",\n\"MIN\",\n\"Short-Handed Assists\",\n0],\n [{\n            'v': 193,\n            'f': \"193\",\n        },\n\"Calen Addison\",\n\"MIN\",\n\"Assists\",\n4],\n [{\n            'v': 705,\n            'f': \"705\",\n        },\n\"Calen Addison\",\n\"MIN\",\n\"Blocks\",\n4],\n [{\n            'v': 385,\n            'f': \"385\",\n        },\n\"Calen Addison\",\n\"MIN\",\n\"Power Play Goals\",\n0],\n [{\n            'v': 769,\n            'f': \"769\",\n        },\n\"Calen Addison\",\n\"MIN\",\n\"Faceoff Wins\",\n0],\n [{\n            'v': 673,\n            'f': \"673\",\n        },\n\"Calen Addison\",\n\"MIN\",\n\"Average Time on Ice\",\n\"18:00\"],\n [{\n            'v': 129,\n            'f': \"129\",\n        },\n\"Calen Addison\",\n\"MIN\",\n\"Games Played\",\n9],\n [{\n            'v': 609,\n            'f': \"609\",\n        },\n\"Calen Addison\",\n\"MIN\",\n\"Shooting Percentage\",\n0.0],\n [{\n            'v': 289,\n            'f': \"289\",\n        },\n\"Calen Addison\",\n\"MIN\",\n\"Penalities in Minutes\",\n2],\n [{\n            'v': 801,\n            'f': \"801\",\n        },\n\"Calen Addison\",\n\"MIN\",\n\"Faceoff Losses\",\n0],\n [{\n            'v': 513,\n            'f': \"513\",\n        },\n\"Calen Addison\",\n\"MIN\",\n\"Power Play Assists\",\n2],\n [{\n            'v': 1,\n            'f': \"1\",\n        },\n\"Calen Addison\",\n\"MIN\",\n\"Season Year\",\n\"2023-2024\"],\n [{\n            'v': 321,\n            'f': \"321\",\n        },\n\"Calen Addison\",\n\"MIN\",\n\"Point Shares\",\n0.1],\n [{\n            'v': 449,\n            'f': \"449\",\n        },\n\"Calen Addison\",\n\"MIN\",\n\"Game-Winning Goals\",\n0],\n [{\n            'v': 833,\n            'f': \"833\",\n        },\n\"Calen Addison\",\n\"MIN\",\n\"Faceoff Win Percentage\",\nNaN],\n [{\n            'v': 417,\n            'f': \"417\",\n        },\n\"Calen Addison\",\n\"MIN\",\n\"Short-Handed Goals\",\n0],\n [{\n            'v': 225,\n            'f': \"225\",\n        },\n\"Calen Addison\",\n\"MIN\",\n\"Points\",\n4],\n [{\n            'v': 481,\n            'f': \"481\",\n        },\n\"Calen Addison\",\n\"MIN\",\n\"Even Strength Assists\",\n2],\n [{\n            'v': 353,\n            'f': \"353\",\n        },\n\"Calen Addison\",\n\"MIN\",\n\"Even Strength Goals\",\n0],\n [{\n            'v': 65,\n            'f': \"65\",\n        },\n\"Calen Addison\",\n\"MIN\",\n\"Age\",\n23],\n [{\n            'v': 257,\n            'f': \"257\",\n        },\n\"Calen Addison\",\n\"MIN\",\n\"Plus/Minus\",\n-2],\n [{\n            'v': 97,\n            'f': \"97\",\n        },\n\"Calen Addison\",\n\"MIN\",\n\"Position\",\n\"D\"],\n [{\n            'v': 161,\n            'f': \"161\",\n        },\n\"Calen Addison\",\n\"MIN\",\n\"Goals\",\n0],\n [{\n            'v': 577,\n            'f': \"577\",\n        },\n\"Calen Addison\",\n\"MIN\",\n\"Shots on Goal\",\n15],\n [{\n            'v': 641,\n            'f': \"641\",\n        },\n\"Calen Addison\",\n\"MIN\",\n\"Time on Ice\",\n162],\n [{\n            'v': 737,\n            'f': \"737\",\n        },\n\"Calen Addison\",\n\"MIN\",\n\"Hits\",\n3],\n [{\n            'v': 33,\n            'f': \"33\",\n        },\n\"Calen Addison\",\n\"MIN\",\n\"Rk\",\n2],\n [{\n            'v': 505,\n            'f': \"505\",\n        },\n\"Justin Barron\",\n\"MTL\",\n\"Even Strength Assists\",\n0],\n [{\n            'v': 441,\n            'f': \"441\",\n        },\n\"Justin Barron\",\n\"MTL\",\n\"Short-Handed Goals\",\n0],\n [{\n            'v': 365,\n            'f': \"365\",\n        },\n\"Joel Armia\",\n\"MTL\",\n\"Even Strength Goals\",\n1],\n [{\n            'v': 711,\n            'f': \"711\",\n        },\n\"Josh Anderson\",\n\"MTL\",\n\"Blocks\",\n4],\n [{\n            'v': 697,\n            'f': \"697\",\n        },\n\"Justin Barron\",\n\"MTL\",\n\"Average Time on Ice\",\n\"18:16\"],\n [{\n            'v': 397,\n            'f': \"397\",\n        },\n\"Joel Armia\",\n\"MTL\",\n\"Power Play Goals\",\n0],\n [{\n            'v': 345,\n            'f': \"345\",\n        },\n\"Justin Barron\",\n\"MTL\",\n\"Point Shares\",\n0.9],\n [{\n            'v': 473,\n            'f': \"473\",\n        },\n\"Justin Barron\",\n\"MTL\",\n\"Game-Winning Goals\",\n0],\n [{\n            'v': 685,\n            'f': \"685\",\n        },\n\"Joel Armia\",\n\"MTL\",\n\"Average Time on Ice\",\n\"13:27\"],\n [{\n            'v': 333,\n            'f': \"333\",\n        },\n\"Joel Armia\",\n\"MTL\",\n\"Point Shares\",\n0.2],\n [{\n            'v': 665,\n            'f': \"665\",\n        },\n\"Justin Barron\",\n\"MTL\",\n\"Time on Ice\",\n110],\n [{\n            'v': 359,\n            'f': \"359\",\n        },\n\"Josh Anderson\",\n\"MTL\",\n\"Even Strength Goals\",\n0],\n [{\n            'v': 493,\n            'f': \"493\",\n        },\n\"Joel Armia\",\n\"MTL\",\n\"Even Strength Assists\",\n0],\n [{\n            'v': 409,\n            'f': \"409\",\n        },\n\"Justin Barron\",\n\"MTL\",\n\"Power Play Goals\",\n0],\n [{\n            'v': 621,\n            'f': \"621\",\n        },\n\"Joel Armia\",\n\"MTL\",\n\"Shooting Percentage\",\n33.3],\n [{\n            'v': 487,\n            'f': \"487\",\n        },\n\"Josh Anderson\",\n\"MTL\",\n\"Even Strength Assists\",\n1],\n [{\n            'v': 313,\n            'f': \"313\",\n        },\n\"Justin Barron\",\n\"MTL\",\n\"Penalities in Minutes\",\n8],\n [{\n            'v': 615,\n            'f': \"615\",\n        },\n\"Josh Anderson\",\n\"MTL\",\n\"Shooting Percentage\",\n0.0],\n [{\n            'v': 601,\n            'f': \"601\",\n        },\n\"Justin Barron\",\n\"MTL\",\n\"Shots on Goal\",\n7],\n [{\n            'v': 391,\n            'f': \"391\",\n        },\n\"Josh Anderson\",\n\"MTL\",\n\"Power Play Goals\",\n0],\n [{\n            'v': 377,\n            'f': \"377\",\n        },\n\"Justin Barron\",\n\"MTL\",\n\"Even Strength Goals\",\n3],\n [{\n            'v': 537,\n            'f': \"537\",\n        },\n\"Justin Barron\",\n\"MTL\",\n\"Power Play Assists\",\n0],\n [{\n            'v': 423,\n            'f': \"423\",\n        },\n\"Josh Anderson\",\n\"MTL\",\n\"Short-Handed Goals\",\n0],\n [{\n            'v': 633,\n            'f': \"633\",\n        },\n\"Justin Barron\",\n\"MTL\",\n\"Shooting Percentage\",\n42.9],\n [{\n            'v': 647,\n            'f': \"647\",\n        },\n\"Josh Anderson\",\n\"MTL\",\n\"Time on Ice\",\n150],\n [{\n            'v': 679,\n            'f': \"679\",\n        },\n\"Josh Anderson\",\n\"MTL\",\n\"Average Time on Ice\",\n\"16:42\"],\n [{\n            'v': 461,\n            'f': \"461\",\n        },\n\"Joel Armia\",\n\"MTL\",\n\"Game-Winning Goals\",\n0],\n [{\n            'v': 525,\n            'f': \"525\",\n        },\n\"Joel Armia\",\n\"MTL\",\n\"Power Play Assists\",\n0],\n [{\n            'v': 455,\n            'f': \"455\",\n        },\n\"Josh Anderson\",\n\"MTL\",\n\"Game-Winning Goals\",\n0],\n [{\n            'v': 327,\n            'f': \"327\",\n        },\n\"Josh Anderson\",\n\"MTL\",\n\"Point Shares\",\n-0.3],\n [{\n            'v': 429,\n            'f': \"429\",\n        },\n\"Joel Armia\",\n\"MTL\",\n\"Short-Handed Goals\",\n0],\n [{\n            'v': 653,\n            'f': \"653\",\n        },\n\"Joel Armia\",\n\"MTL\",\n\"Time on Ice\",\n27],\n [{\n            'v': 519,\n            'f': \"519\",\n        },\n\"Josh Anderson\",\n\"MTL\",\n\"Power Play Assists\",\n0],\n [{\n            'v': 199,\n            'f': \"199\",\n        },\n\"Josh Anderson\",\n\"MTL\",\n\"Assists\",\n1],\n [{\n            'v': 793,\n            'f': \"793\",\n        },\n\"Justin Barron\",\n\"MTL\",\n\"Faceoff Wins\",\n0],\n [{\n            'v': 57,\n            'f': \"57\",\n        },\n\"Justin Barron\",\n\"MTL\",\n\"Rk\",\n26],\n [{\n            'v': 141,\n            'f': \"141\",\n        },\n\"Joel Armia\",\n\"MTL\",\n\"Games Played\",\n2],\n [{\n            'v': 217,\n            'f': \"217\",\n        },\n\"Justin Barron\",\n\"MTL\",\n\"Assists\",\n0],\n [{\n            'v': 13,\n            'f': \"13\",\n        },\n\"Joel Armia\",\n\"MTL\",\n\"Season Year\",\n\"2023-2024\"],\n [{\n            'v': 185,\n            'f': \"185\",\n        },\n\"Justin Barron\",\n\"MTL\",\n\"Goals\",\n3],\n [{\n            'v': 301,\n            'f': \"301\",\n        },\n\"Joel Armia\",\n\"MTL\",\n\"Penalities in Minutes\",\n0],\n [{\n            'v': 857,\n            'f': \"857\",\n        },\n\"Justin Barron\",\n\"MTL\",\n\"Faceoff Win Percentage\",\nNaN],\n [{\n            'v': 153,\n            'f': \"153\",\n        },\n\"Justin Barron\",\n\"MTL\",\n\"Games Played\",\n6],\n [{\n            'v': 25,\n            'f': \"25\",\n        },\n\"Justin Barron\",\n\"MTL\",\n\"Season Year\",\n\"2023-2024\"],\n [{\n            'v': 7,\n            'f': \"7\",\n        },\n\"Josh Anderson\",\n\"MTL\",\n\"Season Year\",\n\"2023-2024\"],\n [{\n            'v': 249,\n            'f': \"249\",\n        },\n\"Justin Barron\",\n\"MTL\",\n\"Points\",\n3],\n [{\n            'v': 749,\n            'f': \"749\",\n        },\n\"Joel Armia\",\n\"MTL\",\n\"Hits\",\n1],\n [{\n            'v': 775,\n            'f': \"775\",\n        },\n\"Josh Anderson\",\n\"MTL\",\n\"Faceoff Wins\",\n2],\n [{\n            'v': 557,\n            'f': \"557\",\n        },\n\"Joel Armia\",\n\"MTL\",\n\"Short-Handed Assists\",\n0],\n [{\n            'v': 781,\n            'f': \"781\",\n        },\n\"Joel Armia\",\n\"MTL\",\n\"Faceoff Wins\",\n0],\n [{\n            'v': 167,\n            'f': \"167\",\n        },\n\"Josh Anderson\",\n\"MTL\",\n\"Goals\",\n0],\n [{\n            'v': 845,\n            'f': \"845\",\n        },\n\"Joel Armia\",\n\"MTL\",\n\"Faceoff Win Percentage\",\nNaN],\n [{\n            'v': 743,\n            'f': \"743\",\n        },\n\"Josh Anderson\",\n\"MTL\",\n\"Hits\",\n22],\n [{\n            'v': 173,\n            'f': \"173\",\n        },\n\"Joel Armia\",\n\"MTL\",\n\"Goals\",\n1],\n [{\n            'v': 237,\n            'f': \"237\",\n        },\n\"Joel Armia\",\n\"MTL\",\n\"Points\",\n1],\n [{\n            'v': 589,\n            'f': \"589\",\n        },\n\"Joel Armia\",\n\"MTL\",\n\"Shots on Goal\",\n3],\n [{\n            'v': 89,\n            'f': \"89\",\n        },\n\"Justin Barron\",\n\"MTL\",\n\"Age\",\n22],\n [{\n            'v': 729,\n            'f': \"729\",\n        },\n\"Justin Barron\",\n\"MTL\",\n\"Blocks\",\n10],\n [{\n            'v': 263,\n            'f': \"263\",\n        },\n\"Josh Anderson\",\n\"MTL\",\n\"Plus/Minus\",\n-4],\n [{\n            'v': 761,\n            'f': \"761\",\n        },\n\"Justin Barron\",\n\"MTL\",\n\"Hits\",\n10],\n [{\n            'v': 295,\n            'f': \"295\",\n        },\n\"Josh Anderson\",\n\"MTL\",\n\"Penalities in Minutes\",\n22],\n [{\n            'v': 813,\n            'f': \"813\",\n        },\n\"Joel Armia\",\n\"MTL\",\n\"Faceoff Losses\",\n0],\n [{\n            'v': 583,\n            'f': \"583\",\n        },\n\"Josh Anderson\",\n\"MTL\",\n\"Shots on Goal\",\n20],\n [{\n            'v': 717,\n            'f': \"717\",\n        },\n\"Joel Armia\",\n\"MTL\",\n\"Blocks\",\n0],\n [{\n            'v': 39,\n            'f': \"39\",\n        },\n\"Josh Anderson\",\n\"MTL\",\n\"Rk\",\n8],\n [{\n            'v': 569,\n            'f': \"569\",\n        },\n\"Justin Barron\",\n\"MTL\",\n\"Short-Handed Assists\",\n0],\n [{\n            'v': 103,\n            'f': \"103\",\n        },\n\"Josh Anderson\",\n\"MTL\",\n\"Position\",\n\"RW\"],\n [{\n            'v': 45,\n            'f': \"45\",\n        },\n\"Joel Armia\",\n\"MTL\",\n\"Rk\",\n14],\n [{\n            'v': 71,\n            'f': \"71\",\n        },\n\"Josh Anderson\",\n\"MTL\",\n\"Age\",\n29],\n [{\n            'v': 109,\n            'f': \"109\",\n        },\n\"Joel Armia\",\n\"MTL\",\n\"Position\",\n\"RW\"],\n [{\n            'v': 281,\n            'f': \"281\",\n        },\n\"Justin Barron\",\n\"MTL\",\n\"Plus/Minus\",\n4],\n [{\n            'v': 269,\n            'f': \"269\",\n        },\n\"Joel Armia\",\n\"MTL\",\n\"Plus/Minus\",\n1],\n [{\n            'v': 231,\n            'f': \"231\",\n        },\n\"Josh Anderson\",\n\"MTL\",\n\"Points\",\n1],\n [{\n            'v': 807,\n            'f': \"807\",\n        },\n\"Josh Anderson\",\n\"MTL\",\n\"Faceoff Losses\",\n0],\n [{\n            'v': 121,\n            'f': \"121\",\n        },\n\"Justin Barron\",\n\"MTL\",\n\"Position\",\n\"D\"],\n [{\n            'v': 551,\n            'f': \"551\",\n        },\n\"Josh Anderson\",\n\"MTL\",\n\"Short-Handed Assists\",\n0],\n [{\n            'v': 825,\n            'f': \"825\",\n        },\n\"Justin Barron\",\n\"MTL\",\n\"Faceoff Losses\",\n0],\n [{\n            'v': 77,\n            'f': \"77\",\n        },\n\"Joel Armia\",\n\"MTL\",\n\"Age\",\n30],\n [{\n            'v': 839,\n            'f': \"839\",\n        },\n\"Josh Anderson\",\n\"MTL\",\n\"Faceoff Win Percentage\",\n100.0],\n [{\n            'v': 135,\n            'f': \"135\",\n        },\n\"Josh Anderson\",\n\"MTL\",\n\"Games Played\",\n9],\n [{\n            'v': 205,\n            'f': \"205\",\n        },\n\"Joel Armia\",\n\"MTL\",\n\"Assists\",\n0],\n [{\n            'v': 668,\n            'f': \"668\",\n        },\n\"Nathan Bastian\",\n\"NJD\",\n\"Time on Ice\",\n72],\n [{\n            'v': 380,\n            'f': \"380\",\n        },\n\"Nathan Bastian\",\n\"NJD\",\n\"Even Strength Goals\",\n0],\n [{\n            'v': 818,\n            'f': \"818\",\n        },\n\"Kevin Bahl\",\n\"NJD\",\n\"Faceoff Losses\",\n0],\n [{\n            'v': 188,\n            'f': \"188\",\n        },\n\"Nathan Bastian\",\n\"NJD\",\n\"Goals\",\n0],\n [{\n            'v': 82,\n            'f': \"82\",\n        },\n\"Kevin Bahl\",\n\"NJD\",\n\"Age\",\n23],\n [{\n            'v': 658,\n            'f': \"658\",\n        },\n\"Kevin Bahl\",\n\"NJD\",\n\"Time on Ice\",\n153],\n [{\n            'v': 402,\n            'f': \"402\",\n        },\n\"Kevin Bahl\",\n\"NJD\",\n\"Power Play Goals\",\n0],\n [{\n            'v': 562,\n            'f': \"562\",\n        },\n\"Kevin Bahl\",\n\"NJD\",\n\"Short-Handed Assists\",\n0],\n [{\n            'v': 114,\n            'f': \"114\",\n        },\n\"Kevin Bahl\",\n\"NJD\",\n\"Position\",\n\"D\"],\n [{\n            'v': 434,\n            'f': \"434\",\n        },\n\"Kevin Bahl\",\n\"NJD\",\n\"Short-Handed Goals\",\n0],\n [{\n            'v': 850,\n            'f': \"850\",\n        },\n\"Kevin Bahl\",\n\"NJD\",\n\"Faceoff Win Percentage\",\nNaN],\n [{\n            'v': 124,\n            'f': \"124\",\n        },\n\"Nathan Bastian\",\n\"NJD\",\n\"Position\",\n\"RW\"],\n [{\n            'v': 18,\n            'f': \"18\",\n        },\n\"Kevin Bahl\",\n\"NJD\",\n\"Season Year\",\n\"2023-2024\"],\n [{\n            'v': 92,\n            'f': \"92\",\n        },\n\"Nathan Bastian\",\n\"NJD\",\n\"Age\",\n26],\n [{\n            'v': 178,\n            'f': \"178\",\n        },\n\"Kevin Bahl\",\n\"NJD\",\n\"Goals\",\n0],\n [{\n            'v': 796,\n            'f': \"796\",\n        },\n\"Nathan Bastian\",\n\"NJD\",\n\"Faceoff Wins\",\n1],\n [{\n            'v': 530,\n            'f': \"530\",\n        },\n\"Kevin Bahl\",\n\"NJD\",\n\"Power Play Assists\",\n0],\n [{\n            'v': 146,\n            'f': \"146\",\n        },\n\"Kevin Bahl\",\n\"NJD\",\n\"Games Played\",\n8],\n [{\n            'v': 412,\n            'f': \"412\",\n        },\n\"Nathan Bastian\",\n\"NJD\",\n\"Power Play Goals\",\n0],\n [{\n            'v': 786,\n            'f': \"786\",\n        },\n\"Kevin Bahl\",\n\"NJD\",\n\"Faceoff Wins\",\n0],\n [{\n            'v': 508,\n            'f': \"508\",\n        },\n\"Nathan Bastian\",\n\"NJD\",\n\"Even Strength Assists\",\n0],\n [{\n            'v': 156,\n            'f': \"156\",\n        },\n\"Nathan Bastian\",\n\"NJD\",\n\"Games Played\",\n7],\n [{\n            'v': 636,\n            'f': \"636\",\n        },\n\"Nathan Bastian\",\n\"NJD\",\n\"Shooting Percentage\",\n0.0],\n [{\n            'v': 572,\n            'f': \"572\",\n        },\n\"Nathan Bastian\",\n\"NJD\",\n\"Short-Handed Assists\",\n0],\n [{\n            'v': 764,\n            'f': \"764\",\n        },\n\"Nathan Bastian\",\n\"NJD\",\n\"Hits\",\n14],\n [{\n            'v': 444,\n            'f': \"444\",\n        },\n\"Nathan Bastian\",\n\"NJD\",\n\"Short-Handed Goals\",\n0],\n [{\n            'v': 338,\n            'f': \"338\",\n        },\n\"Kevin Bahl\",\n\"NJD\",\n\"Point Shares\",\n0.3],\n [{\n            'v': 732,\n            'f': \"732\",\n        },\n\"Nathan Bastian\",\n\"NJD\",\n\"Blocks\",\n6],\n [{\n            'v': 60,\n            'f': \"60\",\n        },\n\"Nathan Bastian\",\n\"NJD\",\n\"Rk\",\n29],\n [{\n            'v': 700,\n            'f': \"700\",\n        },\n\"Nathan Bastian\",\n\"NJD\",\n\"Average Time on Ice\",\n\"10:19\"],\n [{\n            'v': 860,\n            'f': \"860\",\n        },\n\"Nathan Bastian\",\n\"NJD\",\n\"Faceoff Win Percentage\",\n33.3],\n [{\n            'v': 252,\n            'f': \"252\",\n        },\n\"Nathan Bastian\",\n\"NJD\",\n\"Points\",\n0],\n [{\n            'v': 690,\n            'f': \"690\",\n        },\n\"Kevin Bahl\",\n\"NJD\",\n\"Average Time on Ice\",\n\"19:05\"],\n [{\n            'v': 274,\n            'f': \"274\",\n        },\n\"Kevin Bahl\",\n\"NJD\",\n\"Plus/Minus\",\n0],\n [{\n            'v': 722,\n            'f': \"722\",\n        },\n\"Kevin Bahl\",\n\"NJD\",\n\"Blocks\",\n9],\n [{\n            'v': 626,\n            'f': \"626\",\n        },\n\"Kevin Bahl\",\n\"NJD\",\n\"Shooting Percentage\",\n0.0],\n [{\n            'v': 540,\n            'f': \"540\",\n        },\n\"Nathan Bastian\",\n\"NJD\",\n\"Power Play Assists\",\n0],\n [{\n            'v': 28,\n            'f': \"28\",\n        },\n\"Nathan Bastian\",\n\"NJD\",\n\"Season Year\",\n\"2023-2024\"],\n [{\n            'v': 348,\n            'f': \"348\",\n        },\n\"Nathan Bastian\",\n\"NJD\",\n\"Point Shares\",\n-0.3],\n [{\n            'v': 242,\n            'f': \"242\",\n        },\n\"Kevin Bahl\",\n\"NJD\",\n\"Points\",\n2],\n [{\n            'v': 50,\n            'f': \"50\",\n        },\n\"Kevin Bahl\",\n\"NJD\",\n\"Rk\",\n19],\n [{\n            'v': 476,\n            'f': \"476\",\n        },\n\"Nathan Bastian\",\n\"NJD\",\n\"Game-Winning Goals\",\n0],\n [{\n            'v': 828,\n            'f': \"828\",\n        },\n\"Nathan Bastian\",\n\"NJD\",\n\"Faceoff Losses\",\n2],\n [{\n            'v': 498,\n            'f': \"498\",\n        },\n\"Kevin Bahl\",\n\"NJD\",\n\"Even Strength Assists\",\n2],\n [{\n            'v': 466,\n            'f': \"466\",\n        },\n\"Kevin Bahl\",\n\"NJD\",\n\"Game-Winning Goals\",\n0],\n [{\n            'v': 220,\n            'f': \"220\",\n        },\n\"Nathan Bastian\",\n\"NJD\",\n\"Assists\",\n0],\n [{\n            'v': 284,\n            'f': \"284\",\n        },\n\"Nathan Bastian\",\n\"NJD\",\n\"Plus/Minus\",\n-4],\n [{\n            'v': 594,\n            'f': \"594\",\n        },\n\"Kevin Bahl\",\n\"NJD\",\n\"Shots on Goal\",\n8],\n [{\n            'v': 306,\n            'f': \"306\",\n        },\n\"Kevin Bahl\",\n\"NJD\",\n\"Penalities in Minutes\",\n2],\n [{\n            'v': 754,\n            'f': \"754\",\n        },\n\"Kevin Bahl\",\n\"NJD\",\n\"Hits\",\n16],\n [{\n            'v': 316,\n            'f': \"316\",\n        },\n\"Nathan Bastian\",\n\"NJD\",\n\"Penalities in Minutes\",\n2],\n [{\n            'v': 370,\n            'f': \"370\",\n        },\n\"Kevin Bahl\",\n\"NJD\",\n\"Even Strength Goals\",\n0],\n [{\n            'v': 210,\n            'f': \"210\",\n        },\n\"Kevin Bahl\",\n\"NJD\",\n\"Assists\",\n2],\n [{\n            'v': 604,\n            'f': \"604\",\n        },\n\"Nathan Bastian\",\n\"NJD\",\n\"Shots on Goal\",\n12],\n [{\n            'v': 568,\n            'f': \"568\",\n        },\n\"Tyson Barrie\",\n\"NSH\",\n\"Short-Handed Assists\",\n0],\n [{\n            'v': 56,\n            'f': \"56\",\n        },\n\"Tyson Barrie\",\n\"NSH\",\n\"Rk\",\n25],\n [{\n            'v': 600,\n            'f': \"600\",\n        },\n\"Tyson Barrie\",\n\"NSH\",\n\"Shots on Goal\",\n11],\n [{\n            'v': 440,\n            'f': \"440\",\n        },\n\"Tyson Barrie\",\n\"NSH\",\n\"Short-Handed Goals\",\n0],\n [{\n            'v': 856,\n            'f': \"856\",\n        },\n\"Tyson Barrie\",\n\"NSH\",\n\"Faceoff Win Percentage\",\nNaN],\n [{\n            'v': 24,\n            'f': \"24\",\n        },\n\"Tyson Barrie\",\n\"NSH\",\n\"Season Year\",\n\"2023-2024\"],\n [{\n            'v': 792,\n            'f': \"792\",\n        },\n\"Tyson Barrie\",\n\"NSH\",\n\"Faceoff Wins\",\n0],\n [{\n            'v': 312,\n            'f': \"312\",\n        },\n\"Tyson Barrie\",\n\"NSH\",\n\"Penalities in Minutes\",\n2],\n [{\n            'v': 280,\n            'f': \"280\",\n        },\n\"Tyson Barrie\",\n\"NSH\",\n\"Plus/Minus\",\n-1],\n [{\n            'v': 728,\n            'f': \"728\",\n        },\n\"Tyson Barrie\",\n\"NSH\",\n\"Blocks\",\n7],\n [{\n            'v': 120,\n            'f': \"120\",\n        },\n\"Tyson Barrie\",\n\"NSH\",\n\"Position\",\n\"D\"],\n [{\n            'v': 504,\n            'f': \"504\",\n        },\n\"Tyson Barrie\",\n\"NSH\",\n\"Even Strength Assists\",\n3],\n [{\n            'v': 472,\n            'f': \"472\",\n        },\n\"Tyson Barrie\",\n\"NSH\",\n\"Game-Winning Goals\",\n0],\n [{\n            'v': 88,\n            'f': \"88\",\n        },\n\"Tyson Barrie\",\n\"NSH\",\n\"Age\",\n32],\n [{\n            'v': 664,\n            'f': \"664\",\n        },\n\"Tyson Barrie\",\n\"NSH\",\n\"Time on Ice\",\n158],\n [{\n            'v': 248,\n            'f': \"248\",\n        },\n\"Tyson Barrie\",\n\"NSH\",\n\"Points\",\n4],\n [{\n            'v': 344,\n            'f': \"344\",\n        },\n\"Tyson Barrie\",\n\"NSH\",\n\"Point Shares\",\n0.5],\n [{\n            'v': 632,\n            'f': \"632\",\n        },\n\"Tyson Barrie\",\n\"NSH\",\n\"Shooting Percentage\",\n0.0],\n [{\n            'v': 184,\n            'f': \"184\",\n        },\n\"Tyson Barrie\",\n\"NSH\",\n\"Goals\",\n0],\n [{\n            'v': 536,\n            'f': \"536\",\n        },\n\"Tyson Barrie\",\n\"NSH\",\n\"Power Play Assists\",\n1],\n [{\n            'v': 216,\n            'f': \"216\",\n        },\n\"Tyson Barrie\",\n\"NSH\",\n\"Assists\",\n4],\n [{\n            'v': 152,\n            'f': \"152\",\n        },\n\"Tyson Barrie\",\n\"NSH\",\n\"Games Played\",\n8],\n [{\n            'v': 376,\n            'f': \"376\",\n        },\n\"Tyson Barrie\",\n\"NSH\",\n\"Even Strength Goals\",\n0],\n [{\n            'v': 824,\n            'f': \"824\",\n        },\n\"Tyson Barrie\",\n\"NSH\",\n\"Faceoff Losses\",\n0],\n [{\n            'v': 696,\n            'f': \"696\",\n        },\n\"Tyson Barrie\",\n\"NSH\",\n\"Average Time on Ice\",\n\"19:43\"],\n [{\n            'v': 760,\n            'f': \"760\",\n        },\n\"Tyson Barrie\",\n\"NSH\",\n\"Hits\",\n3],\n [{\n            'v': 408,\n            'f': \"408\",\n        },\n\"Tyson Barrie\",\n\"NSH\",\n\"Power Play Goals\",\n0],\n [{\n            'v': 571,\n            'f': \"571\",\n        },\n\"Mathew Barzal\",\n\"NYI\",\n\"Short-Handed Assists\",\n0],\n [{\n            'v': 59,\n            'f': \"59\",\n        },\n\"Mathew Barzal\",\n\"NYI\",\n\"Rk\",\n28],\n [{\n            'v': 635,\n            'f': \"635\",\n        },\n\"Mathew Barzal\",\n\"NYI\",\n\"Shooting Percentage\",\n3.2],\n [{\n            'v': 66,\n            'f': \"66\",\n        },\n\"Sebastian Aho\",\n\"NYI\",\n\"Age\",\n27],\n [{\n            'v': 578,\n            'f': \"578\",\n        },\n\"Sebastian Aho\",\n\"NYI\",\n\"Shots on Goal\",\n8],\n [{\n            'v': 475,\n            'f': \"475\",\n        },\n\"Mathew Barzal\",\n\"NYI\",\n\"Game-Winning Goals\",\n1],\n [{\n            'v': 482,\n            'f': \"482\",\n        },\n\"Sebastian Aho\",\n\"NYI\",\n\"Even Strength Assists\",\n1],\n [{\n            'v': 450,\n            'f': \"450\",\n        },\n\"Sebastian Aho\",\n\"NYI\",\n\"Game-Winning Goals\",\n0],\n [{\n            'v': 834,\n            'f': \"834\",\n        },\n\"Sebastian Aho\",\n\"NYI\",\n\"Faceoff Win Percentage\",\nNaN],\n [{\n            'v': 91,\n            'f': \"91\",\n        },\n\"Mathew Barzal\",\n\"NYI\",\n\"Age\",\n26],\n [{\n            'v': 27,\n            'f': \"27\",\n        },\n\"Mathew Barzal\",\n\"NYI\",\n\"Season Year\",\n\"2023-2024\"],\n [{\n            'v': 827,\n            'f': \"827\",\n        },\n\"Mathew Barzal\",\n\"NYI\",\n\"Faceoff Losses\",\n1],\n [{\n            'v': 411,\n            'f': \"411\",\n        },\n\"Mathew Barzal\",\n\"NYI\",\n\"Power Play Goals\",\n1],\n [{\n            'v': 98,\n            'f': \"98\",\n        },\n\"Sebastian Aho\",\n\"NYI\",\n\"Position\",\n\"D\"],\n [{\n            'v': 859,\n            'f': \"859\",\n        },\n\"Mathew Barzal\",\n\"NYI\",\n\"Faceoff Win Percentage\",\n0.0],\n [{\n            'v': 347,\n            'f': \"347\",\n        },\n\"Mathew Barzal\",\n\"NYI\",\n\"Point Shares\",\n0.4],\n [{\n            'v': 738,\n            'f': \"738\",\n        },\n\"Sebastian Aho\",\n\"NYI\",\n\"Hits\",\n2],\n [{\n            'v': 251,\n            'f': \"251\",\n        },\n\"Mathew Barzal\",\n\"NYI\",\n\"Points\",\n6],\n [{\n            'v': 546,\n            'f': \"546\",\n        },\n\"Sebastian Aho\",\n\"NYI\",\n\"Short-Handed Assists\",\n0],\n [{\n            'v': 258,\n            'f': \"258\",\n        },\n\"Sebastian Aho\",\n\"NYI\",\n\"Plus/Minus\",\n-1],\n [{\n            'v': 603,\n            'f': \"603\",\n        },\n\"Mathew Barzal\",\n\"NYI\",\n\"Shots on Goal\",\n31],\n [{\n            'v': 539,\n            'f': \"539\",\n        },\n\"Mathew Barzal\",\n\"NYI\",\n\"Power Play Assists\",\n2],\n [{\n            'v': 731,\n            'f': \"731\",\n        },\n\"Mathew Barzal\",\n\"NYI\",\n\"Blocks\",\n2],\n [{\n            'v': 699,\n            'f': \"699\",\n        },\n\"Mathew Barzal\",\n\"NYI\",\n\"Average Time on Ice\",\n\"17:59\"],\n [{\n            'v': 514,\n            'f': \"514\",\n        },\n\"Sebastian Aho\",\n\"NYI\",\n\"Power Play Assists\",\n0],\n [{\n            'v': 322,\n            'f': \"322\",\n        },\n\"Sebastian Aho\",\n\"NYI\",\n\"Point Shares\",\n0.1],\n [{\n            'v': 2,\n            'f': \"2\",\n        },\n\"Sebastian Aho\",\n\"NYI\",\n\"Season Year\",\n\"2023-2024\"],\n [{\n            'v': 315,\n            'f': \"315\",\n        },\n\"Mathew Barzal\",\n\"NYI\",\n\"Penalities in Minutes\",\n4],\n [{\n            'v': 283,\n            'f': \"283\",\n        },\n\"Mathew Barzal\",\n\"NYI\",\n\"Plus/Minus\",\n-2],\n [{\n            'v': 706,\n            'f': \"706\",\n        },\n\"Sebastian Aho\",\n\"NYI\",\n\"Blocks\",\n13],\n [{\n            'v': 290,\n            'f': \"290\",\n        },\n\"Sebastian Aho\",\n\"NYI\",\n\"Penalities in Minutes\",\n0],\n [{\n            'v': 354,\n            'f': \"354\",\n        },\n\"Sebastian Aho\",\n\"NYI\",\n\"Even Strength Goals\",\n0],\n [{\n            'v': 443,\n            'f': \"443\",\n        },\n\"Mathew Barzal\",\n\"NYI\",\n\"Short-Handed Goals\",\n0],\n [{\n            'v': 226,\n            'f': \"226\",\n        },\n\"Sebastian Aho\",\n\"NYI\",\n\"Points\",\n1],\n [{\n            'v': 770,\n            'f': \"770\",\n        },\n\"Sebastian Aho\",\n\"NYI\",\n\"Faceoff Wins\",\n0],\n [{\n            'v': 642,\n            'f': \"642\",\n        },\n\"Sebastian Aho\",\n\"NYI\",\n\"Time on Ice\",\n108],\n [{\n            'v': 802,\n            'f': \"802\",\n        },\n\"Sebastian Aho\",\n\"NYI\",\n\"Faceoff Losses\",\n0],\n [{\n            'v': 123,\n            'f': \"123\",\n        },\n\"Mathew Barzal\",\n\"NYI\",\n\"Position\",\n\"C\"],\n [{\n            'v': 130,\n            'f': \"130\",\n        },\n\"Sebastian Aho\",\n\"NYI\",\n\"Games Played\",\n8],\n [{\n            'v': 795,\n            'f': \"795\",\n        },\n\"Mathew Barzal\",\n\"NYI\",\n\"Faceoff Wins\",\n0],\n [{\n            'v': 418,\n            'f': \"418\",\n        },\n\"Sebastian Aho\",\n\"NYI\",\n\"Short-Handed Goals\",\n0],\n [{\n            'v': 155,\n            'f': \"155\",\n        },\n\"Mathew Barzal\",\n\"NYI\",\n\"Games Played\",\n8],\n [{\n            'v': 610,\n            'f': \"610\",\n        },\n\"Sebastian Aho\",\n\"NYI\",\n\"Shooting Percentage\",\n0.0],\n [{\n            'v': 162,\n            'f': \"162\",\n        },\n\"Sebastian Aho\",\n\"NYI\",\n\"Goals\",\n0],\n [{\n            'v': 219,\n            'f': \"219\",\n        },\n\"Mathew Barzal\",\n\"NYI\",\n\"Assists\",\n5],\n [{\n            'v': 34,\n            'f': \"34\",\n        },\n\"Sebastian Aho\",\n\"NYI\",\n\"Rk\",\n3],\n [{\n            'v': 667,\n            'f': \"667\",\n        },\n\"Mathew Barzal\",\n\"NYI\",\n\"Time on Ice\",\n144],\n [{\n            'v': 386,\n            'f': \"386\",\n        },\n\"Sebastian Aho\",\n\"NYI\",\n\"Power Play Goals\",\n0],\n [{\n            'v': 187,\n            'f': \"187\",\n        },\n\"Mathew Barzal\",\n\"NYI\",\n\"Goals\",\n1],\n [{\n            'v': 194,\n            'f': \"194\",\n        },\n\"Sebastian Aho\",\n\"NYI\",\n\"Assists\",\n1],\n [{\n            'v': 507,\n            'f': \"507\",\n        },\n\"Mathew Barzal\",\n\"NYI\",\n\"Even Strength Assists\",\n3],\n [{\n            'v': 379,\n            'f': \"379\",\n        },\n\"Mathew Barzal\",\n\"NYI\",\n\"Even Strength Goals\",\n0],\n [{\n            'v': 674,\n            'f': \"674\",\n        },\n\"Sebastian Aho\",\n\"NYI\",\n\"Average Time on Ice\",\n\"13:31\"],\n [{\n            'v': 763,\n            'f': \"763\",\n        },\n\"Mathew Barzal\",\n\"NYI\",\n\"Hits\",\n2],\n [{\n            'v': 861,\n            'f': \"861\",\n        },\n\"Drake Batherson\",\n\"OTT\",\n\"Faceoff Win Percentage\",\n50.0],\n [{\n            'v': 573,\n            'f': \"573\",\n        },\n\"Drake Batherson\",\n\"OTT\",\n\"Short-Handed Assists\",\n0],\n [{\n            'v': 605,\n            'f': \"605\",\n        },\n\"Drake Batherson\",\n\"OTT\",\n\"Shots on Goal\",\n17],\n [{\n            'v': 29,\n            'f': \"29\",\n        },\n\"Drake Batherson\",\n\"OTT\",\n\"Season Year\",\n\"2023-2024\"],\n [{\n            'v': 509,\n            'f': \"509\",\n        },\n\"Drake Batherson\",\n\"OTT\",\n\"Even Strength Assists\",\n1],\n [{\n            'v': 541,\n            'f': \"541\",\n        },\n\"Drake Batherson\",\n\"OTT\",\n\"Power Play Assists\",\n2],\n [{\n            'v': 477,\n            'f': \"477\",\n        },\n\"Drake Batherson\",\n\"OTT\",\n\"Game-Winning Goals\",\n0],\n [{\n            'v': 285,\n            'f': \"285\",\n        },\n\"Drake Batherson\",\n\"OTT\",\n\"Plus/Minus\",\n-5],\n [{\n            'v': 317,\n            'f': \"317\",\n        },\n\"Drake Batherson\",\n\"OTT\",\n\"Penalities in Minutes\",\n2],\n [{\n            'v': 701,\n            'f': \"701\",\n        },\n\"Drake Batherson\",\n\"OTT\",\n\"Average Time on Ice\",\n\"17:11\"],\n [{\n            'v': 733,\n            'f': \"733\",\n        },\n\"Drake Batherson\",\n\"OTT\",\n\"Blocks\",\n3],\n [{\n            'v': 253,\n            'f': \"253\",\n        },\n\"Drake Batherson\",\n\"OTT\",\n\"Points\",\n4],\n [{\n            'v': 349,\n            'f': \"349\",\n        },\n\"Drake Batherson\",\n\"OTT\",\n\"Point Shares\",\n0.0],\n [{\n            'v': 221,\n            'f': \"221\",\n        },\n\"Drake Batherson\",\n\"OTT\",\n\"Assists\",\n3],\n [{\n            'v': 765,\n            'f': \"765\",\n        },\n\"Drake Batherson\",\n\"OTT\",\n\"Hits\",\n7],\n [{\n            'v': 381,\n            'f': \"381\",\n        },\n\"Drake Batherson\",\n\"OTT\",\n\"Even Strength Goals\",\n1],\n [{\n            'v': 189,\n            'f': \"189\",\n        },\n\"Drake Batherson\",\n\"OTT\",\n\"Goals\",\n1],\n [{\n            'v': 669,\n            'f': \"669\",\n        },\n\"Drake Batherson\",\n\"OTT\",\n\"Time on Ice\",\n137],\n [{\n            'v': 413,\n            'f': \"413\",\n        },\n\"Drake Batherson\",\n\"OTT\",\n\"Power Play Goals\",\n0],\n [{\n            'v': 797,\n            'f': \"797\",\n        },\n\"Drake Batherson\",\n\"OTT\",\n\"Faceoff Wins\",\n1],\n [{\n            'v': 125,\n            'f': \"125\",\n        },\n\"Drake Batherson\",\n\"OTT\",\n\"Position\",\n\"C\"],\n [{\n            'v': 445,\n            'f': \"445\",\n        },\n\"Drake Batherson\",\n\"OTT\",\n\"Short-Handed Goals\",\n0],\n [{\n            'v': 93,\n            'f': \"93\",\n        },\n\"Drake Batherson\",\n\"OTT\",\n\"Age\",\n25],\n [{\n            'v': 637,\n            'f': \"637\",\n        },\n\"Drake Batherson\",\n\"OTT\",\n\"Shooting Percentage\",\n5.9],\n [{\n            'v': 829,\n            'f': \"829\",\n        },\n\"Drake Batherson\",\n\"OTT\",\n\"Faceoff Losses\",\n1],\n [{\n            'v': 61,\n            'f': \"61\",\n        },\n\"Drake Batherson\",\n\"OTT\",\n\"Rk\",\n30],\n [{\n            'v': 157,\n            'f': \"157\",\n        },\n\"Drake Batherson\",\n\"OTT\",\n\"Games Played\",\n8],\n [{\n            'v': 555,\n            'f': \"555\",\n        },\n\"Emil Andrae\",\n\"PHI\",\n\"Short-Handed Assists\",\n0],\n [{\n            'v': 523,\n            'f': \"523\",\n        },\n\"Emil Andrae\",\n\"PHI\",\n\"Power Play Assists\",\n0],\n [{\n            'v': 559,\n            'f': \"559\",\n        },\n\"Cam Atkinson\",\n\"PHI\",\n\"Short-Handed Assists\",\n0],\n [{\n            'v': 587,\n            'f': \"587\",\n        },\n\"Emil Andrae\",\n\"PHI\",\n\"Shots on Goal\",\n0],\n [{\n            'v': 527,\n            'f': \"527\",\n        },\n\"Cam Atkinson\",\n\"PHI\",\n\"Power Play Assists\",\n2],\n [{\n            'v': 591,\n            'f': \"591\",\n        },\n\"Cam Atkinson\",\n\"PHI\",\n\"Shots on Goal\",\n24],\n [{\n            'v': 431,\n            'f': \"431\",\n        },\n\"Cam Atkinson\",\n\"PHI\",\n\"Short-Handed Goals\",\n0],\n [{\n            'v': 719,\n            'f': \"719\",\n        },\n\"Cam Atkinson\",\n\"PHI\",\n\"Blocks\",\n5],\n [{\n            'v': 495,\n            'f': \"495\",\n        },\n\"Cam Atkinson\",\n\"PHI\",\n\"Even Strength Assists\",\n1],\n [{\n            'v': 751,\n            'f': \"751\",\n        },\n\"Cam Atkinson\",\n\"PHI\",\n\"Hits\",\n2],\n [{\n            'v': 207,\n            'f': \"207\",\n        },\n\"Cam Atkinson\",\n\"PHI\",\n\"Assists\",\n3],\n [{\n            'v': 203,\n            'f': \"203\",\n        },\n\"Emil Andrae\",\n\"PHI\",\n\"Assists\",\n0],\n [{\n            'v': 175,\n            'f': \"175\",\n        },\n\"Cam Atkinson\",\n\"PHI\",\n\"Goals\",\n5],\n [{\n            'v': 171,\n            'f': \"171\",\n        },\n\"Emil Andrae\",\n\"PHI\",\n\"Goals\",\n0],\n [{\n            'v': 779,\n            'f': \"779\",\n        },\n\"Emil Andrae\",\n\"PHI\",\n\"Faceoff Wins\",\n0],\n [{\n            'v': 783,\n            'f': \"783\",\n        },\n\"Cam Atkinson\",\n\"PHI\",\n\"Faceoff Wins\",\n0],\n [{\n            'v': 143,\n            'f': \"143\",\n        },\n\"Cam Atkinson\",\n\"PHI\",\n\"Games Played\",\n9],\n [{\n            'v': 139,\n            'f': \"139\",\n        },\n\"Emil Andrae\",\n\"PHI\",\n\"Games Played\",\n4],\n [{\n            'v': 111,\n            'f': \"111\",\n        },\n\"Cam Atkinson\",\n\"PHI\",\n\"Position\",\n\"RW\"],\n [{\n            'v': 107,\n            'f': \"107\",\n        },\n\"Emil Andrae\",\n\"PHI\",\n\"Position\",\n\"D\"],\n [{\n            'v': 811,\n            'f': \"811\",\n        },\n\"Emil Andrae\",\n\"PHI\",\n\"Faceoff Losses\",\n0],\n [{\n            'v': 815,\n            'f': \"815\",\n        },\n\"Cam Atkinson\",\n\"PHI\",\n\"Faceoff Losses\",\n0],\n [{\n            'v': 79,\n            'f': \"79\",\n        },\n\"Cam Atkinson\",\n\"PHI\",\n\"Age\",\n34],\n [{\n            'v': 75,\n            'f': \"75\",\n        },\n\"Emil Andrae\",\n\"PHI\",\n\"Age\",\n21],\n [{\n            'v': 47,\n            'f': \"47\",\n        },\n\"Cam Atkinson\",\n\"PHI\",\n\"Rk\",\n16],\n [{\n            'v': 43,\n            'f': \"43\",\n        },\n\"Emil Andrae\",\n\"PHI\",\n\"Rk\",\n12],\n [{\n            'v': 843,\n            'f': \"843\",\n        },\n\"Emil Andrae\",\n\"PHI\",\n\"Faceoff Win Percentage\",\nNaN],\n [{\n            'v': 847,\n            'f': \"847\",\n        },\n\"Cam Atkinson\",\n\"PHI\",\n\"Faceoff Win Percentage\",\nNaN],\n [{\n            'v': 15,\n            'f': \"15\",\n        },\n\"Cam Atkinson\",\n\"PHI\",\n\"Season Year\",\n\"2023-2024\"],\n [{\n            'v': 11,\n            'f': \"11\",\n        },\n\"Emil Andrae\",\n\"PHI\",\n\"Season Year\",\n\"2023-2024\"],\n [{\n            'v': 747,\n            'f': \"747\",\n        },\n\"Emil Andrae\",\n\"PHI\",\n\"Hits\",\n2],\n [{\n            'v': 239,\n            'f': \"239\",\n        },\n\"Cam Atkinson\",\n\"PHI\",\n\"Points\",\n8],\n [{\n            'v': 235,\n            'f': \"235\",\n        },\n\"Emil Andrae\",\n\"PHI\",\n\"Points\",\n0],\n [{\n            'v': 687,\n            'f': \"687\",\n        },\n\"Cam Atkinson\",\n\"PHI\",\n\"Average Time on Ice\",\n\"17:27\"],\n [{\n            'v': 651,\n            'f': \"651\",\n        },\n\"Emil Andrae\",\n\"PHI\",\n\"Time on Ice\",\n52],\n [{\n            'v': 655,\n            'f': \"655\",\n        },\n\"Cam Atkinson\",\n\"PHI\",\n\"Time on Ice\",\n157],\n [{\n            'v': 399,\n            'f': \"399\",\n        },\n\"Cam Atkinson\",\n\"PHI\",\n\"Power Play Goals\",\n0],\n [{\n            'v': 395,\n            'f': \"395\",\n        },\n\"Emil Andrae\",\n\"PHI\",\n\"Power Play Goals\",\n0],\n [{\n            'v': 463,\n            'f': \"463\",\n        },\n\"Cam Atkinson\",\n\"PHI\",\n\"Game-Winning Goals\",\n2],\n [{\n            'v': 267,\n            'f': \"267\",\n        },\n\"Emil Andrae\",\n\"PHI\",\n\"Plus/Minus\",\n-1],\n [{\n            'v': 367,\n            'f': \"367\",\n        },\n\"Cam Atkinson\",\n\"PHI\",\n\"Even Strength Goals\",\n5],\n [{\n            'v': 363,\n            'f': \"363\",\n        },\n\"Emil Andrae\",\n\"PHI\",\n\"Even Strength Goals\",\n0],\n [{\n            'v': 683,\n            'f': \"683\",\n        },\n\"Emil Andrae\",\n\"PHI\",\n\"Average Time on Ice\",\n\"13:00\"],\n [{\n            'v': 459,\n            'f': \"459\",\n        },\n\"Emil Andrae\",\n\"PHI\",\n\"Game-Winning Goals\",\n0],\n [{\n            'v': 335,\n            'f': \"335\",\n        },\n\"Cam Atkinson\",\n\"PHI\",\n\"Point Shares\",\n0.9],\n [{\n            'v': 331,\n            'f': \"331\",\n        },\n\"Emil Andrae\",\n\"PHI\",\n\"Point Shares\",\n-0.1],\n [{\n            'v': 623,\n            'f': \"623\",\n        },\n\"Cam Atkinson\",\n\"PHI\",\n\"Shooting Percentage\",\n20.8],\n [{\n            'v': 619,\n            'f': \"619\",\n        },\n\"Emil Andrae\",\n\"PHI\",\n\"Shooting Percentage\",\nNaN],\n [{\n            'v': 303,\n            'f': \"303\",\n        },\n\"Cam Atkinson\",\n\"PHI\",\n\"Penalities in Minutes\",\n2],\n [{\n            'v': 299,\n            'f': \"299\",\n        },\n\"Emil Andrae\",\n\"PHI\",\n\"Penalities in Minutes\",\n0],\n [{\n            'v': 715,\n            'f': \"715\",\n        },\n\"Emil Andrae\",\n\"PHI\",\n\"Blocks\",\n6],\n [{\n            'v': 491,\n            'f': \"491\",\n        },\n\"Emil Andrae\",\n\"PHI\",\n\"Even Strength Assists\",\n0],\n [{\n            'v': 271,\n            'f': \"271\",\n        },\n\"Cam Atkinson\",\n\"PHI\",\n\"Plus/Minus\",\n-2],\n [{\n            'v': 427,\n            'f': \"427\",\n        },\n\"Emil Andrae\",\n\"PHI\",\n\"Short-Handed Goals\",\n0],\n [{\n            'v': 736,\n            'f': \"736\",\n        },\n\"Noel Acciari\",\n\"PIT\",\n\"Hits\",\n18],\n [{\n            'v': 800,\n            'f': \"800\",\n        },\n\"Noel Acciari\",\n\"PIT\",\n\"Faceoff Losses\",\n42],\n [{\n            'v': 832,\n            'f': \"832\",\n        },\n\"Noel Acciari\",\n\"PIT\",\n\"Faceoff Win Percentage\",\n51.7],\n [{\n            'v': 672,\n            'f': \"672\",\n        },\n\"Noel Acciari\",\n\"PIT\",\n\"Average Time on Ice\",\n\"11:44\"],\n [{\n            'v': 768,\n            'f': \"768\",\n        },\n\"Noel Acciari\",\n\"PIT\",\n\"Faceoff Wins\",\n45],\n [{\n            'v': 704,\n            'f': \"704\",\n        },\n\"Noel Acciari\",\n\"PIT\",\n\"Blocks\",\n11],\n [{\n            'v': 608,\n            'f': \"608\",\n        },\n\"Noel Acciari\",\n\"PIT\",\n\"Shooting Percentage\",\n0.0],\n [{\n            'v': 640,\n            'f': \"640\",\n        },\n\"Noel Acciari\",\n\"PIT\",\n\"Time on Ice\",\n106],\n [{\n            'v': 576,\n            'f': \"576\",\n        },\n\"Noel Acciari\",\n\"PIT\",\n\"Shots on Goal\",\n8],\n [{\n            'v': 0,\n            'f': \"0\",\n        },\n\"Noel Acciari\",\n\"PIT\",\n\"Season Year\",\n\"2023-2024\"],\n [{\n            'v': 256,\n            'f': \"256\",\n        },\n\"Noel Acciari\",\n\"PIT\",\n\"Plus/Minus\",\n-2],\n [{\n            'v': 128,\n            'f': \"128\",\n        },\n\"Noel Acciari\",\n\"PIT\",\n\"Games Played\",\n9],\n [{\n            'v': 480,\n            'f': \"480\",\n        },\n\"Noel Acciari\",\n\"PIT\",\n\"Even Strength Assists\",\n0],\n [{\n            'v': 288,\n            'f': \"288\",\n        },\n\"Noel Acciari\",\n\"PIT\",\n\"Penalities in Minutes\",\n2],\n [{\n            'v': 448,\n            'f': \"448\",\n        },\n\"Noel Acciari\",\n\"PIT\",\n\"Game-Winning Goals\",\n0],\n [{\n            'v': 32,\n            'f': \"32\",\n        },\n\"Noel Acciari\",\n\"PIT\",\n\"Rk\",\n1],\n [{\n            'v': 352,\n            'f': \"352\",\n        },\n\"Noel Acciari\",\n\"PIT\",\n\"Even Strength Goals\",\n0],\n [{\n            'v': 512,\n            'f': \"512\",\n        },\n\"Noel Acciari\",\n\"PIT\",\n\"Power Play Assists\",\n0],\n [{\n            'v': 96,\n            'f': \"96\",\n        },\n\"Noel Acciari\",\n\"PIT\",\n\"Position\",\n\"C\"],\n [{\n            'v': 64,\n            'f': \"64\",\n        },\n\"Noel Acciari\",\n\"PIT\",\n\"Age\",\n32],\n [{\n            'v': 224,\n            'f': \"224\",\n        },\n\"Noel Acciari\",\n\"PIT\",\n\"Points\",\n0],\n [{\n            'v': 160,\n            'f': \"160\",\n        },\n\"Noel Acciari\",\n\"PIT\",\n\"Goals\",\n0],\n [{\n            'v': 544,\n            'f': \"544\",\n        },\n\"Noel Acciari\",\n\"PIT\",\n\"Short-Handed Assists\",\n0],\n [{\n            'v': 320,\n            'f': \"320\",\n        },\n\"Noel Acciari\",\n\"PIT\",\n\"Point Shares\",\n-0.2],\n [{\n            'v': 384,\n            'f': \"384\",\n        },\n\"Noel Acciari\",\n\"PIT\",\n\"Power Play Goals\",\n0],\n [{\n            'v': 416,\n            'f': \"416\",\n        },\n\"Noel Acciari\",\n\"PIT\",\n\"Short-Handed Goals\",\n0],\n [{\n            'v': 192,\n            'f': \"192\",\n        },\n\"Noel Acciari\",\n\"PIT\",\n\"Assists\",\n0],\n [{\n            'v': 372,\n            'f': \"372\",\n        },\n\"Alexander Barabanov\",\n\"SJS\",\n\"Even Strength Goals\",\n0],\n [{\n            'v': 692,\n            'f': \"692\",\n        },\n\"Alexander Barabanov\",\n\"SJS\",\n\"Average Time on Ice\",\n\"16:21\"],\n [{\n            'v': 724,\n            'f': \"724\",\n        },\n\"Alexander Barabanov\",\n\"SJS\",\n\"Blocks\",\n1],\n [{\n            'v': 500,\n            'f': \"500\",\n        },\n\"Alexander Barabanov\",\n\"SJS\",\n\"Even Strength Assists\",\n0],\n [{\n            'v': 340,\n            'f': \"340\",\n        },\n\"Alexander Barabanov\",\n\"SJS\",\n\"Point Shares\",\n-0.1],\n [{\n            'v': 820,\n            'f': \"820\",\n        },\n\"Alexander Barabanov\",\n\"SJS\",\n\"Faceoff Losses\",\n0],\n [{\n            'v': 660,\n            'f': \"660\",\n        },\n\"Alexander Barabanov\",\n\"SJS\",\n\"Time on Ice\",\n98],\n [{\n            'v': 116,\n            'f': \"116\",\n        },\n\"Alexander Barabanov\",\n\"SJS\",\n\"Position\",\n\"F\"],\n [{\n            'v': 84,\n            'f': \"84\",\n        },\n\"Alexander Barabanov\",\n\"SJS\",\n\"Age\",\n29],\n [{\n            'v': 52,\n            'f': \"52\",\n        },\n\"Alexander Barabanov\",\n\"SJS\",\n\"Rk\",\n21],\n [{\n            'v': 308,\n            'f': \"308\",\n        },\n\"Alexander Barabanov\",\n\"SJS\",\n\"Penalities in Minutes\",\n2],\n [{\n            'v': 628,\n            'f': \"628\",\n        },\n\"Alexander Barabanov\",\n\"SJS\",\n\"Shooting Percentage\",\n0.0],\n [{\n            'v': 564,\n            'f': \"564\",\n        },\n\"Alexander Barabanov\",\n\"SJS\",\n\"Short-Handed Assists\",\n0],\n [{\n            'v': 148,\n            'f': \"148\",\n        },\n\"Alexander Barabanov\",\n\"SJS\",\n\"Games Played\",\n6],\n [{\n            'v': 276,\n            'f': \"276\",\n        },\n\"Alexander Barabanov\",\n\"SJS\",\n\"Plus/Minus\",\n-1],\n [{\n            'v': 404,\n            'f': \"404\",\n        },\n\"Alexander Barabanov\",\n\"SJS\",\n\"Power Play Goals\",\n0],\n [{\n            'v': 180,\n            'f': \"180\",\n        },\n\"Alexander Barabanov\",\n\"SJS\",\n\"Goals\",\n0],\n [{\n            'v': 20,\n            'f': \"20\",\n        },\n\"Alexander Barabanov\",\n\"SJS\",\n\"Season Year\",\n\"2023-2024\"],\n [{\n            'v': 468,\n            'f': \"468\",\n        },\n\"Alexander Barabanov\",\n\"SJS\",\n\"Game-Winning Goals\",\n0],\n [{\n            'v': 436,\n            'f': \"436\",\n        },\n\"Alexander Barabanov\",\n\"SJS\",\n\"Short-Handed Goals\",\n0],\n [{\n            'v': 788,\n            'f': \"788\",\n        },\n\"Alexander Barabanov\",\n\"SJS\",\n\"Faceoff Wins\",\n0],\n [{\n            'v': 852,\n            'f': \"852\",\n        },\n\"Alexander Barabanov\",\n\"SJS\",\n\"Faceoff Win Percentage\",\nNaN],\n [{\n            'v': 244,\n            'f': \"244\",\n        },\n\"Alexander Barabanov\",\n\"SJS\",\n\"Points\",\n0],\n [{\n            'v': 532,\n            'f': \"532\",\n        },\n\"Alexander Barabanov\",\n\"SJS\",\n\"Power Play Assists\",\n0],\n [{\n            'v': 212,\n            'f': \"212\",\n        },\n\"Alexander Barabanov\",\n\"SJS\",\n\"Assists\",\n0],\n [{\n            'v': 596,\n            'f': \"596\",\n        },\n\"Alexander Barabanov\",\n\"SJS\",\n\"Shots on Goal\",\n9],\n [{\n            'v': 756,\n            'f': \"756\",\n        },\n\"Alexander Barabanov\",\n\"SJS\",\n\"Hits\",\n3],\n [{\n            'v': 836,\n            'f': \"836\",\n        },\n\"Nikita Alexandrov\",\n\"STL\",\n\"Faceoff Win Percentage\",\n25.0],\n [{\n            'v': 324,\n            'f': \"324\",\n        },\n\"Nikita Alexandrov\",\n\"STL\",\n\"Point Shares\",\n0.0],\n [{\n            'v': 804,\n            'f': \"804\",\n        },\n\"Nikita Alexandrov\",\n\"STL\",\n\"Faceoff Losses\",\n6],\n [{\n            'v': 420,\n            'f': \"420\",\n        },\n\"Nikita Alexandrov\",\n\"STL\",\n\"Short-Handed Goals\",\n0],\n [{\n            'v': 356,\n            'f': \"356\",\n        },\n\"Nikita Alexandrov\",\n\"STL\",\n\"Even Strength Goals\",\n0],\n [{\n            'v': 644,\n            'f': \"644\",\n        },\n\"Nikita Alexandrov\",\n\"STL\",\n\"Time on Ice\",\n18],\n [{\n            'v': 388,\n            'f': \"388\",\n        },\n\"Nikita Alexandrov\",\n\"STL\",\n\"Power Play Goals\",\n0],\n [{\n            'v': 100,\n            'f': \"100\",\n        },\n\"Nikita Alexandrov\",\n\"STL\",\n\"Position\",\n\"C\"],\n [{\n            'v': 676,\n            'f': \"676\",\n        },\n\"Nikita Alexandrov\",\n\"STL\",\n\"Average Time on Ice\",\n\"9:11\"],\n [{\n            'v': 68,\n            'f': \"68\",\n        },\n\"Nikita Alexandrov\",\n\"STL\",\n\"Age\",\n23],\n [{\n            'v': 452,\n            'f': \"452\",\n        },\n\"Nikita Alexandrov\",\n\"STL\",\n\"Game-Winning Goals\",\n0],\n [{\n            'v': 772,\n            'f': \"772\",\n        },\n\"Nikita Alexandrov\",\n\"STL\",\n\"Faceoff Wins\",\n2],\n [{\n            'v': 740,\n            'f': \"740\",\n        },\n\"Nikita Alexandrov\",\n\"STL\",\n\"Hits\",\n4],\n [{\n            'v': 580,\n            'f': \"580\",\n        },\n\"Nikita Alexandrov\",\n\"STL\",\n\"Shots on Goal\",\n1],\n [{\n            'v': 4,\n            'f': \"4\",\n        },\n\"Nikita Alexandrov\",\n\"STL\",\n\"Season Year\",\n\"2023-2024\"],\n [{\n            'v': 196,\n            'f': \"196\",\n        },\n\"Nikita Alexandrov\",\n\"STL\",\n\"Assists\",\n0],\n [{\n            'v': 548,\n            'f': \"548\",\n        },\n\"Nikita Alexandrov\",\n\"STL\",\n\"Short-Handed Assists\",\n0],\n [{\n            'v': 164,\n            'f': \"164\",\n        },\n\"Nikita Alexandrov\",\n\"STL\",\n\"Goals\",\n0],\n [{\n            'v': 228,\n            'f': \"228\",\n        },\n\"Nikita Alexandrov\",\n\"STL\",\n\"Points\",\n0],\n [{\n            'v': 516,\n            'f': \"516\",\n        },\n\"Nikita Alexandrov\",\n\"STL\",\n\"Power Play Assists\",\n0],\n [{\n            'v': 260,\n            'f': \"260\",\n        },\n\"Nikita Alexandrov\",\n\"STL\",\n\"Plus/Minus\",\n0],\n [{\n            'v': 292,\n            'f': \"292\",\n        },\n\"Nikita Alexandrov\",\n\"STL\",\n\"Penalities in Minutes\",\n0],\n [{\n            'v': 612,\n            'f': \"612\",\n        },\n\"Nikita Alexandrov\",\n\"STL\",\n\"Shooting Percentage\",\n0.0],\n [{\n            'v': 708,\n            'f': \"708\",\n        },\n\"Nikita Alexandrov\",\n\"STL\",\n\"Blocks\",\n2],\n [{\n            'v': 484,\n            'f': \"484\",\n        },\n\"Nikita Alexandrov\",\n\"STL\",\n\"Even Strength Assists\",\n0],\n [{\n            'v': 36,\n            'f': \"36\",\n        },\n\"Nikita Alexandrov\",\n\"STL\",\n\"Rk\",\n5],\n [{\n            'v': 132,\n            'f': \"132\",\n        },\n\"Nikita Alexandrov\",\n\"STL\",\n\"Games Played\",\n2],\n [{\n            'v': 791,\n            'f': \"791\",\n        },\n\"Alex Barr\\u008e-Boulet\",\n\"TBL\",\n\"Faceoff Wins\",\n5],\n [{\n            'v': 663,\n            'f': \"663\",\n        },\n\"Alex Barr\\u008e-Boulet\",\n\"TBL\",\n\"Time on Ice\",\n95],\n [{\n            'v': 183,\n            'f': \"183\",\n        },\n\"Alex Barr\\u008e-Boulet\",\n\"TBL\",\n\"Goals\",\n3],\n [{\n            'v': 695,\n            'f': \"695\",\n        },\n\"Alex Barr\\u008e-Boulet\",\n\"TBL\",\n\"Average Time on Ice\",\n\"13:32\"],\n [{\n            'v': 759,\n            'f': \"759\",\n        },\n\"Alex Barr\\u008e-Boulet\",\n\"TBL\",\n\"Hits\",\n1],\n [{\n            'v': 87,\n            'f': \"87\",\n        },\n\"Alex Barr\\u008e-Boulet\",\n\"TBL\",\n\"Age\",\n26],\n [{\n            'v': 727,\n            'f': \"727\",\n        },\n\"Alex Barr\\u008e-Boulet\",\n\"TBL\",\n\"Blocks\",\n0],\n [{\n            'v': 279,\n            'f': \"279\",\n        },\n\"Alex Barr\\u008e-Boulet\",\n\"TBL\",\n\"Plus/Minus\",\n0],\n [{\n            'v': 151,\n            'f': \"151\",\n        },\n\"Alex Barr\\u008e-Boulet\",\n\"TBL\",\n\"Games Played\",\n7],\n [{\n            'v': 119,\n            'f': \"119\",\n        },\n\"Alex Barr\\u008e-Boulet\",\n\"TBL\",\n\"Position\",\n\"F\"],\n [{\n            'v': 247,\n            'f': \"247\",\n        },\n\"Alex Barr\\u008e-Boulet\",\n\"TBL\",\n\"Points\",\n5],\n [{\n            'v': 343,\n            'f': \"343\",\n        },\n\"Alex Barr\\u008e-Boulet\",\n\"TBL\",\n\"Point Shares\",\n0.6],\n [{\n            'v': 215,\n            'f': \"215\",\n        },\n\"Alex Barr\\u008e-Boulet\",\n\"TBL\",\n\"Assists\",\n2],\n [{\n            'v': 311,\n            'f': \"311\",\n        },\n\"Alex Barr\\u008e-Boulet\",\n\"TBL\",\n\"Penalities in Minutes\",\n4],\n [{\n            'v': 375,\n            'f': \"375\",\n        },\n\"Alex Barr\\u008e-Boulet\",\n\"TBL\",\n\"Even Strength Goals\",\n2],\n [{\n            'v': 535,\n            'f': \"535\",\n        },\n\"Alex Barr\\u008e-Boulet\",\n\"TBL\",\n\"Power Play Assists\",\n0],\n [{\n            'v': 407,\n            'f': \"407\",\n        },\n\"Alex Barr\\u008e-Boulet\",\n\"TBL\",\n\"Power Play Goals\",\n1],\n [{\n            'v': 567,\n            'f': \"567\",\n        },\n\"Alex Barr\\u008e-Boulet\",\n\"TBL\",\n\"Short-Handed Assists\",\n0],\n [{\n            'v': 823,\n            'f': \"823\",\n        },\n\"Alex Barr\\u008e-Boulet\",\n\"TBL\",\n\"Faceoff Losses\",\n4],\n [{\n            'v': 503,\n            'f': \"503\",\n        },\n\"Alex Barr\\u008e-Boulet\",\n\"TBL\",\n\"Even Strength Assists\",\n2],\n [{\n            'v': 439,\n            'f': \"439\",\n        },\n\"Alex Barr\\u008e-Boulet\",\n\"TBL\",\n\"Short-Handed Goals\",\n0],\n [{\n            'v': 55,\n            'f': \"55\",\n        },\n\"Alex Barr\\u008e-Boulet\",\n\"TBL\",\n\"Rk\",\n24],\n [{\n            'v': 599,\n            'f': \"599\",\n        },\n\"Alex Barr\\u008e-Boulet\",\n\"TBL\",\n\"Shots on Goal\",\n14],\n [{\n            'v': 631,\n            'f': \"631\",\n        },\n\"Alex Barr\\u008e-Boulet\",\n\"TBL\",\n\"Shooting Percentage\",\n21.4],\n [{\n            'v': 855,\n            'f': \"855\",\n        },\n\"Alex Barr\\u008e-Boulet\",\n\"TBL\",\n\"Faceoff Win Percentage\",\n55.6],\n [{\n            'v': 23,\n            'f': \"23\",\n        },\n\"Alex Barr\\u008e-Boulet\",\n\"TBL\",\n\"Season Year\",\n\"2023-2024\"],\n [{\n            'v': 471,\n            'f': \"471\",\n        },\n\"Alex Barr\\u008e-Boulet\",\n\"TBL\",\n\"Game-Winning Goals\",\n0],\n [{\n            'v': 639,\n            'f': \"639\",\n        },\n\"Anthony Beauvillier\",\n\"VAN\",\n\"Shooting Percentage\",\n0.0],\n [{\n            'v': 703,\n            'f': \"703\",\n        },\n\"Anthony Beauvillier\",\n\"VAN\",\n\"Average Time on Ice\",\n\"13:04\"],\n [{\n            'v': 319,\n            'f': \"319\",\n        },\n\"Anthony Beauvillier\",\n\"VAN\",\n\"Penalities in Minutes\",\n0],\n [{\n            'v': 863,\n            'f': \"863\",\n        },\n\"Anthony Beauvillier\",\n\"VAN\",\n\"Faceoff Win Percentage\",\n71.4],\n [{\n            'v': 447,\n            'f': \"447\",\n        },\n\"Anthony Beauvillier\",\n\"VAN\",\n\"Short-Handed Goals\",\n0],\n [{\n            'v': 127,\n            'f': \"127\",\n        },\n\"Anthony Beauvillier\",\n\"VAN\",\n\"Position\",\n\"LW\"],\n [{\n            'v': 799,\n            'f': \"799\",\n        },\n\"Anthony Beauvillier\",\n\"VAN\",\n\"Faceoff Wins\",\n5],\n [{\n            'v': 607,\n            'f': \"607\",\n        },\n\"Anthony Beauvillier\",\n\"VAN\",\n\"Shots on Goal\",\n16],\n [{\n            'v': 479,\n            'f': \"479\",\n        },\n\"Anthony Beauvillier\",\n\"VAN\",\n\"Game-Winning Goals\",\n0],\n [{\n            'v': 511,\n            'f': \"511\",\n        },\n\"Anthony Beauvillier\",\n\"VAN\",\n\"Even Strength Assists\",\n1],\n [{\n            'v': 31,\n            'f': \"31\",\n        },\n\"Anthony Beauvillier\",\n\"VAN\",\n\"Season Year\",\n\"2023-2024\"],\n [{\n            'v': 287,\n            'f': \"287\",\n        },\n\"Anthony Beauvillier\",\n\"VAN\",\n\"Plus/Minus\",\n2],\n [{\n            'v': 575,\n            'f': \"575\",\n        },\n\"Anthony Beauvillier\",\n\"VAN\",\n\"Short-Handed Assists\",\n0],\n [{\n            'v': 255,\n            'f': \"255\",\n        },\n\"Anthony Beauvillier\",\n\"VAN\",\n\"Points\",\n1],\n [{\n            'v': 735,\n            'f': \"735\",\n        },\n\"Anthony Beauvillier\",\n\"VAN\",\n\"Blocks\",\n7],\n [{\n            'v': 159,\n            'f': \"159\",\n        },\n\"Anthony Beauvillier\",\n\"VAN\",\n\"Games Played\",\n8],\n [{\n            'v': 671,\n            'f': \"671\",\n        },\n\"Anthony Beauvillier\",\n\"VAN\",\n\"Time on Ice\",\n105],\n [{\n            'v': 223,\n            'f': \"223\",\n        },\n\"Anthony Beauvillier\",\n\"VAN\",\n\"Assists\",\n1],\n [{\n            'v': 63,\n            'f': \"63\",\n        },\n\"Anthony Beauvillier\",\n\"VAN\",\n\"Rk\",\n32],\n [{\n            'v': 351,\n            'f': \"351\",\n        },\n\"Anthony Beauvillier\",\n\"VAN\",\n\"Point Shares\",\n-0.1],\n [{\n            'v': 191,\n            'f': \"191\",\n        },\n\"Anthony Beauvillier\",\n\"VAN\",\n\"Goals\",\n0],\n [{\n            'v': 767,\n            'f': \"767\",\n        },\n\"Anthony Beauvillier\",\n\"VAN\",\n\"Hits\",\n5],\n [{\n            'v': 415,\n            'f': \"415\",\n        },\n\"Anthony Beauvillier\",\n\"VAN\",\n\"Power Play Goals\",\n0],\n [{\n            'v': 543,\n            'f': \"543\",\n        },\n\"Anthony Beauvillier\",\n\"VAN\",\n\"Power Play Assists\",\n0],\n [{\n            'v': 383,\n            'f': \"383\",\n        },\n\"Anthony Beauvillier\",\n\"VAN\",\n\"Even Strength Goals\",\n0],\n [{\n            'v': 831,\n            'f': \"831\",\n        },\n\"Anthony Beauvillier\",\n\"VAN\",\n\"Faceoff Losses\",\n2],\n [{\n            'v': 95,\n            'f': \"95\",\n        },\n\"Anthony Beauvillier\",\n\"VAN\",\n\"Age\",\n26],\n [{\n            'v': 6,\n            'f': \"6\",\n        },\n\"Michael Amadio\",\n\"VEG\",\n\"Season Year\",\n\"2023-2024\"],\n [{\n            'v': 582,\n            'f': \"582\",\n        },\n\"Michael Amadio\",\n\"VEG\",\n\"Shots on Goal\",\n12],\n [{\n            'v': 533,\n            'f': \"533\",\n        },\n\"Ivan Barbashev\",\n\"VEG\",\n\"Power Play Assists\",\n0],\n [{\n            'v': 198,\n            'f': \"198\",\n        },\n\"Michael Amadio\",\n\"VEG\",\n\"Assists\",\n3],\n [{\n            'v': 262,\n            'f': \"262\",\n        },\n\"Michael Amadio\",\n\"VEG\",\n\"Plus/Minus\",\n7],\n [{\n            'v': 774,\n            'f': \"774\",\n        },\n\"Michael Amadio\",\n\"VEG\",\n\"Faceoff Wins\",\n3],\n [{\n            'v': 565,\n            'f': \"565\",\n        },\n\"Ivan Barbashev\",\n\"VEG\",\n\"Short-Handed Assists\",\n0],\n [{\n            'v': 166,\n            'f': \"166\",\n        },\n\"Michael Amadio\",\n\"VEG\",\n\"Goals\",\n2],\n [{\n            'v': 518,\n            'f': \"518\",\n        },\n\"Michael Amadio\",\n\"VEG\",\n\"Power Play Assists\",\n1],\n [{\n            'v': 550,\n            'f': \"550\",\n        },\n\"Michael Amadio\",\n\"VEG\",\n\"Short-Handed Assists\",\n0],\n [{\n            'v': 245,\n            'f': \"245\",\n        },\n\"Ivan Barbashev\",\n\"VEG\",\n\"Points\",\n2],\n [{\n            'v': 757,\n            'f': \"757\",\n        },\n\"Ivan Barbashev\",\n\"VEG\",\n\"Hits\",\n20],\n [{\n            'v': 213,\n            'f': \"213\",\n        },\n\"Ivan Barbashev\",\n\"VEG\",\n\"Assists\",\n0],\n [{\n            'v': 21,\n            'f': \"21\",\n        },\n\"Ivan Barbashev\",\n\"VEG\",\n\"Season Year\",\n\"2023-2024\"],\n [{\n            'v': 742,\n            'f': \"742\",\n        },\n\"Michael Amadio\",\n\"VEG\",\n\"Hits\",\n2],\n [{\n            'v': 853,\n            'f': \"853\",\n        },\n\"Ivan Barbashev\",\n\"VEG\",\n\"Faceoff Win Percentage\",\n0.0],\n [{\n            'v': 149,\n            'f': \"149\",\n        },\n\"Ivan Barbashev\",\n\"VEG\",\n\"Games Played\",\n10],\n [{\n            'v': 597,\n            'f': \"597\",\n        },\n\"Ivan Barbashev\",\n\"VEG\",\n\"Shots on Goal\",\n14],\n [{\n            'v': 230,\n            'f': \"230\",\n        },\n\"Michael Amadio\",\n\"VEG\",\n\"Points\",\n5],\n [{\n            'v': 501,\n            'f': \"501\",\n        },\n\"Ivan Barbashev\",\n\"VEG\",\n\"Even Strength Assists\",\n0],\n [{\n            'v': 789,\n            'f': \"789\",\n        },\n\"Ivan Barbashev\",\n\"VEG\",\n\"Faceoff Wins\",\n0],\n [{\n            'v': 725,\n            'f': \"725\",\n        },\n\"Ivan Barbashev\",\n\"VEG\",\n\"Blocks\",\n4],\n [{\n            'v': 405,\n            'f': \"405\",\n        },\n\"Ivan Barbashev\",\n\"VEG\",\n\"Power Play Goals\",\n0],\n [{\n            'v': 277,\n            'f': \"277\",\n        },\n\"Ivan Barbashev\",\n\"VEG\",\n\"Plus/Minus\",\n1],\n [{\n            'v': 454,\n            'f': \"454\",\n        },\n\"Michael Amadio\",\n\"VEG\",\n\"Game-Winning Goals\",\n0],\n [{\n            'v': 614,\n            'f': \"614\",\n        },\n\"Michael Amadio\",\n\"VEG\",\n\"Shooting Percentage\",\n16.7],\n [{\n            'v': 341,\n            'f': \"341\",\n        },\n\"Ivan Barbashev\",\n\"VEG\",\n\"Point Shares\",\n0.2],\n [{\n            'v': 102,\n            'f': \"102\",\n        },\n\"Michael Amadio\",\n\"VEG\",\n\"Position\",\n\"C\"],\n [{\n            'v': 437,\n            'f': \"437\",\n        },\n\"Ivan Barbashev\",\n\"VEG\",\n\"Short-Handed Goals\",\n0],\n [{\n            'v': 358,\n            'f': \"358\",\n        },\n\"Michael Amadio\",\n\"VEG\",\n\"Even Strength Goals\",\n2],\n [{\n            'v': 646,\n            'f': \"646\",\n        },\n\"Michael Amadio\",\n\"VEG\",\n\"Time on Ice\",\n115],\n [{\n            'v': 422,\n            'f': \"422\",\n        },\n\"Michael Amadio\",\n\"VEG\",\n\"Short-Handed Goals\",\n0],\n [{\n            'v': 678,\n            'f': \"678\",\n        },\n\"Michael Amadio\",\n\"VEG\",\n\"Average Time on Ice\",\n\"11:31\"],\n [{\n            'v': 70,\n            'f': \"70\",\n        },\n\"Michael Amadio\",\n\"VEG\",\n\"Age\",\n27],\n [{\n            'v': 373,\n            'f': \"373\",\n        },\n\"Ivan Barbashev\",\n\"VEG\",\n\"Even Strength Goals\",\n2],\n [{\n            'v': 181,\n            'f': \"181\",\n        },\n\"Ivan Barbashev\",\n\"VEG\",\n\"Goals\",\n2],\n [{\n            'v': 85,\n            'f': \"85\",\n        },\n\"Ivan Barbashev\",\n\"VEG\",\n\"Age\",\n28],\n [{\n            'v': 390,\n            'f': \"390\",\n        },\n\"Michael Amadio\",\n\"VEG\",\n\"Power Play Goals\",\n0],\n [{\n            'v': 821,\n            'f': \"821\",\n        },\n\"Ivan Barbashev\",\n\"VEG\",\n\"Faceoff Losses\",\n2],\n [{\n            'v': 806,\n            'f': \"806\",\n        },\n\"Michael Amadio\",\n\"VEG\",\n\"Faceoff Losses\",\n1],\n [{\n            'v': 326,\n            'f': \"326\",\n        },\n\"Michael Amadio\",\n\"VEG\",\n\"Point Shares\",\n0.8],\n [{\n            'v': 693,\n            'f': \"693\",\n        },\n\"Ivan Barbashev\",\n\"VEG\",\n\"Average Time on Ice\",\n\"15:16\"],\n [{\n            'v': 53,\n            'f': \"53\",\n        },\n\"Ivan Barbashev\",\n\"VEG\",\n\"Rk\",\n22],\n [{\n            'v': 134,\n            'f': \"134\",\n        },\n\"Michael Amadio\",\n\"VEG\",\n\"Games Played\",\n10],\n [{\n            'v': 486,\n            'f': \"486\",\n        },\n\"Michael Amadio\",\n\"VEG\",\n\"Even Strength Assists\",\n2],\n [{\n            'v': 661,\n            'f': \"661\",\n        },\n\"Ivan Barbashev\",\n\"VEG\",\n\"Time on Ice\",\n153],\n [{\n            'v': 117,\n            'f': \"117\",\n        },\n\"Ivan Barbashev\",\n\"VEG\",\n\"Position\",\n\"C\"],\n [{\n            'v': 294,\n            'f': \"294\",\n        },\n\"Michael Amadio\",\n\"VEG\",\n\"Penalities in Minutes\",\n0],\n [{\n            'v': 838,\n            'f': \"838\",\n        },\n\"Michael Amadio\",\n\"VEG\",\n\"Faceoff Win Percentage\",\n75.0],\n [{\n            'v': 710,\n            'f': \"710\",\n        },\n\"Michael Amadio\",\n\"VEG\",\n\"Blocks\",\n6],\n [{\n            'v': 38,\n            'f': \"38\",\n        },\n\"Michael Amadio\",\n\"VEG\",\n\"Rk\",\n7],\n [{\n            'v': 629,\n            'f': \"629\",\n        },\n\"Ivan Barbashev\",\n\"VEG\",\n\"Shooting Percentage\",\n14.3],\n [{\n            'v': 309,\n            'f': \"309\",\n        },\n\"Ivan Barbashev\",\n\"VEG\",\n\"Penalities in Minutes\",\n10],\n [{\n            'v': 469,\n            'f': \"469\",\n        },\n\"Ivan Barbashev\",\n\"VEG\",\n\"Game-Winning Goals\",\n0],\n [{\n            'v': 812,\n            'f': \"812\",\n        },\n\"Mason Appleton\",\n\"WPG\",\n\"Faceoff Losses\",\n0],\n [{\n            'v': 844,\n            'f': \"844\",\n        },\n\"Mason Appleton\",\n\"WPG\",\n\"Faceoff Win Percentage\",\nNaN],\n [{\n            'v': 794,\n            'f': \"794\",\n        },\n\"Morgan Barron\",\n\"WPG\",\n\"Faceoff Wins\",\n2],\n [{\n            'v': 76,\n            'f': \"76\",\n        },\n\"Mason Appleton\",\n\"WPG\",\n\"Age\",\n28],\n [{\n            'v': 826,\n            'f': \"826\",\n        },\n\"Morgan Barron\",\n\"WPG\",\n\"Faceoff Losses\",\n3],\n [{\n            'v': 140,\n            'f': \"140\",\n        },\n\"Mason Appleton\",\n\"WPG\",\n\"Games Played\",\n9],\n [{\n            'v': 58,\n            'f': \"58\",\n        },\n\"Morgan Barron\",\n\"WPG\",\n\"Rk\",\n27],\n [{\n            'v': 172,\n            'f': \"172\",\n        },\n\"Mason Appleton\",\n\"WPG\",\n\"Goals\",\n3],\n [{\n            'v': 122,\n            'f': \"122\",\n        },\n\"Morgan Barron\",\n\"WPG\",\n\"Position\",\n\"C\"],\n [{\n            'v': 90,\n            'f': \"90\",\n        },\n\"Morgan Barron\",\n\"WPG\",\n\"Age\",\n25],\n [{\n            'v': 780,\n            'f': \"780\",\n        },\n\"Mason Appleton\",\n\"WPG\",\n\"Faceoff Wins\",\n0],\n [{\n            'v': 858,\n            'f': \"858\",\n        },\n\"Morgan Barron\",\n\"WPG\",\n\"Faceoff Win Percentage\",\n40.0],\n [{\n            'v': 12,\n            'f': \"12\",\n        },\n\"Mason Appleton\",\n\"WPG\",\n\"Season Year\",\n\"2023-2024\"],\n [{\n            'v': 26,\n            'f': \"26\",\n        },\n\"Morgan Barron\",\n\"WPG\",\n\"Season Year\",\n\"2023-2024\"],\n [{\n            'v': 108,\n            'f': \"108\",\n        },\n\"Mason Appleton\",\n\"WPG\",\n\"Position\",\n\"C\"],\n [{\n            'v': 154,\n            'f': \"154\",\n        },\n\"Morgan Barron\",\n\"WPG\",\n\"Games Played\",\n9],\n [{\n            'v': 44,\n            'f': \"44\",\n        },\n\"Mason Appleton\",\n\"WPG\",\n\"Rk\",\n13],\n [{\n            'v': 570,\n            'f': \"570\",\n        },\n\"Morgan Barron\",\n\"WPG\",\n\"Short-Handed Assists\",\n0],\n [{\n            'v': 186,\n            'f': \"186\",\n        },\n\"Morgan Barron\",\n\"WPG\",\n\"Goals\",\n2],\n [{\n            'v': 698,\n            'f': \"698\",\n        },\n\"Morgan Barron\",\n\"WPG\",\n\"Average Time on Ice\",\n\"10:52\"],\n [{\n            'v': 332,\n            'f': \"332\",\n        },\n\"Mason Appleton\",\n\"WPG\",\n\"Point Shares\",\n0.8],\n [{\n            'v': 346,\n            'f': \"346\",\n        },\n\"Morgan Barron\",\n\"WPG\",\n\"Point Shares\",\n0.3],\n [{\n            'v': 684,\n            'f': \"684\",\n        },\n\"Mason Appleton\",\n\"WPG\",\n\"Average Time on Ice\",\n\"15:47\"],\n [{\n            'v': 364,\n            'f': \"364\",\n        },\n\"Mason Appleton\",\n\"WPG\",\n\"Even Strength Goals\",\n2],\n [{\n            'v': 666,\n            'f': \"666\",\n        },\n\"Morgan Barron\",\n\"WPG\",\n\"Time on Ice\",\n98],\n [{\n            'v': 396,\n            'f': \"396\",\n        },\n\"Mason Appleton\",\n\"WPG\",\n\"Power Play Goals\",\n0],\n [{\n            'v': 410,\n            'f': \"410\",\n        },\n\"Morgan Barron\",\n\"WPG\",\n\"Power Play Goals\",\n0],\n [{\n            'v': 652,\n            'f': \"652\",\n        },\n\"Mason Appleton\",\n\"WPG\",\n\"Time on Ice\",\n142],\n [{\n            'v': 428,\n            'f': \"428\",\n        },\n\"Mason Appleton\",\n\"WPG\",\n\"Short-Handed Goals\",\n1],\n [{\n            'v': 314,\n            'f': \"314\",\n        },\n\"Morgan Barron\",\n\"WPG\",\n\"Penalities in Minutes\",\n4],\n [{\n            'v': 442,\n            'f': \"442\",\n        },\n\"Morgan Barron\",\n\"WPG\",\n\"Short-Handed Goals\",\n0],\n [{\n            'v': 460,\n            'f': \"460\",\n        },\n\"Mason Appleton\",\n\"WPG\",\n\"Game-Winning Goals\",\n1],\n [{\n            'v': 474,\n            'f': \"474\",\n        },\n\"Morgan Barron\",\n\"WPG\",\n\"Game-Winning Goals\",\n0],\n [{\n            'v': 620,\n            'f': \"620\",\n        },\n\"Mason Appleton\",\n\"WPG\",\n\"Shooting Percentage\",\n23.1],\n [{\n            'v': 492,\n            'f': \"492\",\n        },\n\"Mason Appleton\",\n\"WPG\",\n\"Even Strength Assists\",\n4],\n [{\n            'v': 506,\n            'f': \"506\",\n        },\n\"Morgan Barron\",\n\"WPG\",\n\"Even Strength Assists\",\n0],\n [{\n            'v': 602,\n            'f': \"602\",\n        },\n\"Morgan Barron\",\n\"WPG\",\n\"Shots on Goal\",\n11],\n [{\n            'v': 524,\n            'f': \"524\",\n        },\n\"Mason Appleton\",\n\"WPG\",\n\"Power Play Assists\",\n0],\n [{\n            'v': 538,\n            'f': \"538\",\n        },\n\"Morgan Barron\",\n\"WPG\",\n\"Power Play Assists\",\n1],\n [{\n            'v': 588,\n            'f': \"588\",\n        },\n\"Mason Appleton\",\n\"WPG\",\n\"Shots on Goal\",\n13],\n [{\n            'v': 556,\n            'f': \"556\",\n        },\n\"Mason Appleton\",\n\"WPG\",\n\"Short-Handed Assists\",\n0],\n [{\n            'v': 634,\n            'f': \"634\",\n        },\n\"Morgan Barron\",\n\"WPG\",\n\"Shooting Percentage\",\n18.2],\n [{\n            'v': 300,\n            'f': \"300\",\n        },\n\"Mason Appleton\",\n\"WPG\",\n\"Penalities in Minutes\",\n2],\n [{\n            'v': 378,\n            'f': \"378\",\n        },\n\"Morgan Barron\",\n\"WPG\",\n\"Even Strength Goals\",\n2],\n [{\n            'v': 282,\n            'f': \"282\",\n        },\n\"Morgan Barron\",\n\"WPG\",\n\"Plus/Minus\",\n0],\n [{\n            'v': 236,\n            'f': \"236\",\n        },\n\"Mason Appleton\",\n\"WPG\",\n\"Points\",\n7],\n [{\n            'v': 204,\n            'f': \"204\",\n        },\n\"Mason Appleton\",\n\"WPG\",\n\"Assists\",\n4],\n [{\n            'v': 268,\n            'f': \"268\",\n        },\n\"Mason Appleton\",\n\"WPG\",\n\"Plus/Minus\",\n1],\n [{\n            'v': 218,\n            'f': \"218\",\n        },\n\"Morgan Barron\",\n\"WPG\",\n\"Assists\",\n1],\n [{\n            'v': 730,\n            'f': \"730\",\n        },\n\"Morgan Barron\",\n\"WPG\",\n\"Blocks\",\n5],\n [{\n            'v': 250,\n            'f': \"250\",\n        },\n\"Morgan Barron\",\n\"WPG\",\n\"Points\",\n3],\n [{\n            'v': 762,\n            'f': \"762\",\n        },\n\"Morgan Barron\",\n\"WPG\",\n\"Hits\",\n7],\n [{\n            'v': 748,\n            'f': \"748\",\n        },\n\"Mason Appleton\",\n\"WPG\",\n\"Hits\",\n4],\n [{\n            'v': 716,\n            'f': \"716\",\n        },\n\"Mason Appleton\",\n\"WPG\",\n\"Blocks\",\n8],\n [{\n            'v': 625,\n            'f': \"625\",\n        },\n\"Nicklas B\\u008ackstr\\u009am\",\n\"WSH\",\n\"Shooting Percentage\",\n0.0],\n [{\n            'v': 837,\n            'f': \"837\",\n        },\n\"Alexander Alexeyev\",\n\"WSH\",\n\"Faceoff Win Percentage\",\nNaN],\n [{\n            'v': 485,\n            'f': \"485\",\n        },\n\"Alexander Alexeyev\",\n\"WSH\",\n\"Even Strength Assists\",\n0],\n [{\n            'v': 465,\n            'f': \"465\",\n        },\n\"Nicklas B\\u008ackstr\\u009am\",\n\"WSH\",\n\"Game-Winning Goals\",\n0],\n [{\n            'v': 37,\n            'f': \"37\",\n        },\n\"Alexander Alexeyev\",\n\"WSH\",\n\"Rk\",\n6],\n [{\n            'v': 753,\n            'f': \"753\",\n        },\n\"Nicklas B\\u008ackstr\\u009am\",\n\"WSH\",\n\"Hits\",\n2],\n [{\n            'v': 229,\n            'f': \"229\",\n        },\n\"Alexander Alexeyev\",\n\"WSH\",\n\"Points\",\n0],\n [{\n            'v': 49,\n            'f': \"49\",\n        },\n\"Nicklas B\\u008ackstr\\u009am\",\n\"WSH\",\n\"Rk\",\n18],\n [{\n            'v': 497,\n            'f': \"497\",\n        },\n\"Nicklas B\\u008ackstr\\u009am\",\n\"WSH\",\n\"Even Strength Assists\",\n1],\n [{\n            'v': 517,\n            'f': \"517\",\n        },\n\"Alexander Alexeyev\",\n\"WSH\",\n\"Power Play Assists\",\n0],\n [{\n            'v': 209,\n            'f': \"209\",\n        },\n\"Nicklas B\\u008ackstr\\u009am\",\n\"WSH\",\n\"Assists\",\n1],\n [{\n            'v': 849,\n            'f': \"849\",\n        },\n\"Nicklas B\\u008ackstr\\u009am\",\n\"WSH\",\n\"Faceoff Win Percentage\",\n52.4],\n [{\n            'v': 165,\n            'f': \"165\",\n        },\n\"Alexander Alexeyev\",\n\"WSH\",\n\"Goals\",\n0],\n [{\n            'v': 529,\n            'f': \"529\",\n        },\n\"Nicklas B\\u008ackstr\\u009am\",\n\"WSH\",\n\"Power Play Assists\",\n0],\n [{\n            'v': 593,\n            'f': \"593\",\n        },\n\"Nicklas B\\u008ackstr\\u009am\",\n\"WSH\",\n\"Shots on Goal\",\n12],\n [{\n            'v': 177,\n            'f': \"177\",\n        },\n\"Nicklas B\\u008ackstr\\u009am\",\n\"WSH\",\n\"Goals\",\n0],\n [{\n            'v': 17,\n            'f': \"17\",\n        },\n\"Nicklas B\\u008ackstr\\u009am\",\n\"WSH\",\n\"Season Year\",\n\"2023-2024\"],\n [{\n            'v': 549,\n            'f': \"549\",\n        },\n\"Alexander Alexeyev\",\n\"WSH\",\n\"Short-Handed Assists\",\n0],\n [{\n            'v': 197,\n            'f': \"197\",\n        },\n\"Alexander Alexeyev\",\n\"WSH\",\n\"Assists\",\n0],\n [{\n            'v': 561,\n            'f': \"561\",\n        },\n\"Nicklas B\\u008ackstr\\u009am\",\n\"WSH\",\n\"Short-Handed Assists\",\n0],\n [{\n            'v': 5,\n            'f': \"5\",\n        },\n\"Alexander Alexeyev\",\n\"WSH\",\n\"Season Year\",\n\"2023-2024\"],\n [{\n            'v': 581,\n            'f': \"581\",\n        },\n\"Alexander Alexeyev\",\n\"WSH\",\n\"Shots on Goal\",\n1],\n [{\n            'v': 613,\n            'f': \"613\",\n        },\n\"Alexander Alexeyev\",\n\"WSH\",\n\"Shooting Percentage\",\n0.0],\n [{\n            'v': 785,\n            'f': \"785\",\n        },\n\"Nicklas B\\u008ackstr\\u009am\",\n\"WSH\",\n\"Faceoff Wins\",\n44],\n [{\n            'v': 305,\n            'f': \"305\",\n        },\n\"Nicklas B\\u008ackstr\\u009am\",\n\"WSH\",\n\"Penalities in Minutes\",\n2],\n [{\n            'v': 293,\n            'f': \"293\",\n        },\n\"Alexander Alexeyev\",\n\"WSH\",\n\"Penalities in Minutes\",\n0],\n [{\n            'v': 709,\n            'f': \"709\",\n        },\n\"Alexander Alexeyev\",\n\"WSH\",\n\"Blocks\",\n4],\n [{\n            'v': 325,\n            'f': \"325\",\n        },\n\"Alexander Alexeyev\",\n\"WSH\",\n\"Point Shares\",\n0.1],\n [{\n            'v': 133,\n            'f': \"133\",\n        },\n\"Alexander Alexeyev\",\n\"WSH\",\n\"Games Played\",\n4],\n [{\n            'v': 805,\n            'f': \"805\",\n        },\n\"Alexander Alexeyev\",\n\"WSH\",\n\"Faceoff Losses\",\n0],\n [{\n            'v': 721,\n            'f': \"721\",\n        },\n\"Nicklas B\\u008ackstr\\u009am\",\n\"WSH\",\n\"Blocks\",\n5],\n [{\n            'v': 337,\n            'f': \"337\",\n        },\n\"Nicklas B\\u008ackstr\\u009am\",\n\"WSH\",\n\"Point Shares\",\n-0.2],\n [{\n            'v': 113,\n            'f': \"113\",\n        },\n\"Nicklas B\\u008ackstr\\u009am\",\n\"WSH\",\n\"Position\",\n\"C\"],\n [{\n            'v': 689,\n            'f': \"689\",\n        },\n\"Nicklas B\\u008ackstr\\u009am\",\n\"WSH\",\n\"Average Time on Ice\",\n\"14:34\"],\n [{\n            'v': 273,\n            'f': \"273\",\n        },\n\"Nicklas B\\u008ackstr\\u009am\",\n\"WSH\",\n\"Plus/Minus\",\n-3],\n [{\n            'v': 101,\n            'f': \"101\",\n        },\n\"Alexander Alexeyev\",\n\"WSH\",\n\"Position\",\n\"D\"],\n [{\n            'v': 357,\n            'f': \"357\",\n        },\n\"Alexander Alexeyev\",\n\"WSH\",\n\"Even Strength Goals\",\n0],\n [{\n            'v': 145,\n            'f': \"145\",\n        },\n\"Nicklas B\\u008ackstr\\u009am\",\n\"WSH\",\n\"Games Played\",\n8],\n [{\n            'v': 453,\n            'f': \"453\",\n        },\n\"Alexander Alexeyev\",\n\"WSH\",\n\"Game-Winning Goals\",\n0],\n [{\n            'v': 369,\n            'f': \"369\",\n        },\n\"Nicklas B\\u008ackstr\\u009am\",\n\"WSH\",\n\"Even Strength Goals\",\n0],\n [{\n            'v': 817,\n            'f': \"817\",\n        },\n\"Nicklas B\\u008ackstr\\u009am\",\n\"WSH\",\n\"Faceoff Losses\",\n40],\n [{\n            'v': 773,\n            'f': \"773\",\n        },\n\"Alexander Alexeyev\",\n\"WSH\",\n\"Faceoff Wins\",\n0],\n [{\n            'v': 389,\n            'f': \"389\",\n        },\n\"Alexander Alexeyev\",\n\"WSH\",\n\"Power Play Goals\",\n0],\n [{\n            'v': 261,\n            'f': \"261\",\n        },\n\"Alexander Alexeyev\",\n\"WSH\",\n\"Plus/Minus\",\n1],\n [{\n            'v': 401,\n            'f': \"401\",\n        },\n\"Nicklas B\\u008ackstr\\u009am\",\n\"WSH\",\n\"Power Play Goals\",\n0],\n [{\n            'v': 657,\n            'f': \"657\",\n        },\n\"Nicklas B\\u008ackstr\\u009am\",\n\"WSH\",\n\"Time on Ice\",\n116],\n [{\n            'v': 81,\n            'f': \"81\",\n        },\n\"Nicklas B\\u008ackstr\\u009am\",\n\"WSH\",\n\"Age\",\n36],\n [{\n            'v': 741,\n            'f': \"741\",\n        },\n\"Alexander Alexeyev\",\n\"WSH\",\n\"Hits\",\n0],\n [{\n            'v': 421,\n            'f': \"421\",\n        },\n\"Alexander Alexeyev\",\n\"WSH\",\n\"Short-Handed Goals\",\n0],\n [{\n            'v': 69,\n            'f': \"69\",\n        },\n\"Alexander Alexeyev\",\n\"WSH\",\n\"Age\",\n24],\n [{\n            'v': 241,\n            'f': \"241\",\n        },\n\"Nicklas B\\u008ackstr\\u009am\",\n\"WSH\",\n\"Points\",\n1],\n [{\n            'v': 433,\n            'f': \"433\",\n        },\n\"Nicklas B\\u008ackstr\\u009am\",\n\"WSH\",\n\"Short-Handed Goals\",\n0],\n [{\n            'v': 677,\n            'f': \"677\",\n        },\n\"Alexander Alexeyev\",\n\"WSH\",\n\"Average Time on Ice\",\n\"10:34\"],\n [{\n            'v': 645,\n            'f': \"645\",\n        },\n\"Alexander Alexeyev\",\n\"WSH\",\n\"Time on Ice\",\n42]],\n        columns: [[\"number\", \"index\"], [\"string\", \"Player\"], [\"string\", \"Team\"], [\"string\", \"variable\"], [\"string\", \"value\"]],\n        columnOptions: [{\"width\": \"1px\", \"className\": \"index_column\"}],\n        rowsPerPage: 25,\n        helpUrl: \"https://colab.research.google.com/notebooks/data_table.ipynb\",\n        suppressOutputScrolling: true,\n        minimumWidth: undefined,\n      });\n\n      function appendQuickchartButton(parentElement) {\n        let quickchartButtonContainerElement = document.createElement('div');\n        quickchartButtonContainerElement.innerHTML = `\n<div id=\"df-c834d1e4-c583-4003-87ff-2f22cb4d449d\">\n  <button class=\"colab-df-quickchart\" onclick=\"quickchart('df-c834d1e4-c583-4003-87ff-2f22cb4d449d')\"\n            title=\"Suggest charts.\"\n            style=\"display:none;\">\n    \n<svg xmlns=\"http://www.w3.org/2000/svg\" height=\"24px\"viewBox=\"0 0 24 24\"\n     width=\"24px\">\n    <g>\n        <path d=\"M19 3H5c-1.1 0-2 .9-2 2v14c0 1.1.9 2 2 2h14c1.1 0 2-.9 2-2V5c0-1.1-.9-2-2-2zM9 17H7v-7h2v7zm4 0h-2V7h2v10zm4 0h-2v-4h2v4z\"/>\n    </g>\n</svg>\n  </button>\n  \n<style>\n  .colab-df-quickchart {\n      --bg-color: #E8F0FE;\n      --fill-color: #1967D2;\n      --hover-bg-color: #E2EBFA;\n      --hover-fill-color: #174EA6;\n      --disabled-fill-color: #AAA;\n      --disabled-bg-color: #DDD;\n  }\n\n  [theme=dark] .colab-df-quickchart {\n      --bg-color: #3B4455;\n      --fill-color: #D2E3FC;\n      --hover-bg-color: #434B5C;\n      --hover-fill-color: #FFFFFF;\n      --disabled-bg-color: #3B4455;\n      --disabled-fill-color: #666;\n  }\n\n  .colab-df-quickchart {\n    background-color: var(--bg-color);\n    border: none;\n    border-radius: 50%;\n    cursor: pointer;\n    display: none;\n    fill: var(--fill-color);\n    height: 32px;\n    padding: 0;\n    width: 32px;\n  }\n\n  .colab-df-quickchart:hover {\n    background-color: var(--hover-bg-color);\n    box-shadow: 0 1px 2px rgba(60, 64, 67, 0.3), 0 1px 3px 1px rgba(60, 64, 67, 0.15);\n    fill: var(--button-hover-fill-color);\n  }\n\n  .colab-df-quickchart-complete:disabled,\n  .colab-df-quickchart-complete:disabled:hover {\n    background-color: var(--disabled-bg-color);\n    fill: var(--disabled-fill-color);\n    box-shadow: none;\n  }\n\n  .colab-df-spinner {\n    border: 2px solid var(--fill-color);\n    border-color: transparent;\n    border-bottom-color: var(--fill-color);\n    animation:\n      spin 1s steps(1) infinite;\n  }\n\n  @keyframes spin {\n    0% {\n      border-color: transparent;\n      border-bottom-color: var(--fill-color);\n      border-left-color: var(--fill-color);\n    }\n    20% {\n      border-color: transparent;\n      border-left-color: var(--fill-color);\n      border-top-color: var(--fill-color);\n    }\n    30% {\n      border-color: transparent;\n      border-left-color: var(--fill-color);\n      border-top-color: var(--fill-color);\n      border-right-color: var(--fill-color);\n    }\n    40% {\n      border-color: transparent;\n      border-right-color: var(--fill-color);\n      border-top-color: var(--fill-color);\n    }\n    60% {\n      border-color: transparent;\n      border-right-color: var(--fill-color);\n    }\n    80% {\n      border-color: transparent;\n      border-right-color: var(--fill-color);\n      border-bottom-color: var(--fill-color);\n    }\n    90% {\n      border-color: transparent;\n      border-bottom-color: var(--fill-color);\n    }\n  }\n</style>\n\n  <script>\n    async function quickchart(key) {\n      const quickchartButtonEl =\n        document.querySelector('#' + key + ' button');\n      quickchartButtonEl.disabled = true;  // To prevent multiple clicks.\n      quickchartButtonEl.classList.add('colab-df-spinner');\n      try {\n        const charts = await google.colab.kernel.invokeFunction(\n            'suggestCharts', [key], {});\n      } catch (error) {\n        console.error('Error during call to suggestCharts:', error);\n      }\n      quickchartButtonEl.classList.remove('colab-df-spinner');\n      quickchartButtonEl.classList.add('colab-df-quickchart-complete');\n    }\n    (() => {\n      let quickchartButtonEl =\n        document.querySelector('#df-c834d1e4-c583-4003-87ff-2f22cb4d449d button');\n      quickchartButtonEl.style.display =\n        google.colab.kernel.accessAllowed ? 'block' : 'none';\n    })();\n  </script>\n</div>`;\n        parentElement.appendChild(quickchartButtonContainerElement);\n      }\n\n      appendQuickchartButton(table);\n    "
          },
          "metadata": {},
          "execution_count": 73
        }
      ]
    },
    {
      "cell_type": "code",
      "source": [
        "PL_Melt = PL_P.melt(id_vars = ['Player', 'Squad'])\n",
        "PL_Melt.sort_values('Squad')"
      ],
      "metadata": {
        "id": "dF2eBM6_n8uL"
      },
      "execution_count": null,
      "outputs": []
    },
    {
      "cell_type": "markdown",
      "source": [
        "**Just need to get a specific player**"
      ],
      "metadata": {
        "id": "EtNnLKULn-C9"
      }
    },
    {
      "cell_type": "code",
      "source": [
        "# NHL_Melt_Reshape = NHL_Melt.Player('Sebastian Aho')\n",
        "# NHL_Melt_Reshape"
      ],
      "metadata": {
        "id": "-5rCGhCdhBEF"
      },
      "execution_count": null,
      "outputs": []
    },
    {
      "cell_type": "markdown",
      "source": [
        "# Pivot"
      ],
      "metadata": {
        "id": "wV-GbDTzdwT3"
      }
    },
    {
      "cell_type": "code",
      "source": [
        "p = NHL_S.pivot_table(index = ['Player'], columns = 'Team')"
      ],
      "metadata": {
        "id": "nHRCG1KzWeKd"
      },
      "execution_count": null,
      "outputs": []
    },
    {
      "cell_type": "markdown",
      "source": [
        "This dropped the index of a player that was in twice, think due to them being traded during the season and the stats are still good for both teams"
      ],
      "metadata": {
        "id": "5-xuKuFOfMlK"
      }
    },
    {
      "cell_type": "code",
      "source": [
        "NHL_R.drop(2)"
      ],
      "metadata": {
        "id": "F_MtoITqfKYK"
      },
      "execution_count": null,
      "outputs": []
    },
    {
      "cell_type": "code",
      "source": [
        "NHL_R = NHL_S[['Player', 'Team', 'Position', 'Goals']]\n",
        "\n",
        "\n",
        "NHL_R"
      ],
      "metadata": {
        "id": "Go-WZoaJdygb"
      },
      "execution_count": null,
      "outputs": []
    },
    {
      "cell_type": "markdown",
      "source": [
        "**Why does this not work?**"
      ],
      "metadata": {
        "id": "-9sK0sdLEtws"
      }
    },
    {
      "cell_type": "code",
      "source": [
        "NHL_R = NHL_R.reindex(columns=['Player','Position','Goals','Assists','Points'])\n",
        "NHL_R.pivot(index = 'Player', columns = 'Position', values = ['Goals','Assists', 'Points'])"
      ],
      "metadata": {
        "id": "6YueigMwl4nx"
      },
      "execution_count": null,
      "outputs": []
    },
    {
      "cell_type": "code",
      "source": [
        "NHL_R = pd.wide_to_long(NHL_R, ['A', 'B'], i = \"index\", j = \"Position\")"
      ],
      "metadata": {
        "id": "o49fYvNBeDDG"
      },
      "execution_count": null,
      "outputs": []
    }
  ]
}