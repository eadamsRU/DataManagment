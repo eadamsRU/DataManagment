{
  "nbformat": 4,
  "nbformat_minor": 0,
  "metadata": {
    "colab": {
      "provenance": [],
      "authorship_tag": "ABX9TyOPB5DmCGnXVJtHp/MeHlad",
      "include_colab_link": true
    },
    "kernelspec": {
      "name": "python3",
      "display_name": "Python 3"
    },
    "language_info": {
      "name": "python"
    }
  },
  "cells": [
    {
      "cell_type": "markdown",
      "metadata": {
        "id": "view-in-github",
        "colab_type": "text"
      },
      "source": [
        "<a href=\"https://colab.research.google.com/github/eadamsRU/DataManagment/blob/main/PS4.ipynb\" target=\"_parent\"><img src=\"https://colab.research.google.com/assets/colab-badge.svg\" alt=\"Open In Colab\"/></a>"
      ]
    },
    {
      "cell_type": "markdown",
      "source": [
        "Bring in previous PS3, use 5 tools\n",
        "\n",
        "\n",
        "*   Melt\n",
        "*   stack\n",
        "*   plotly (px) Treemap?\n",
        "*   plotly (px) density heatmap\n",
        "*   reshape wide to long\n",
        "*   Mapping\n",
        "\n",
        "\n",
        "\n"
      ],
      "metadata": {
        "id": "NN8aZzgvUylb"
      }
    },
    {
      "cell_type": "code",
      "execution_count": 1,
      "metadata": {
        "id": "GgdtRSLkUo5N"
      },
      "outputs": [],
      "source": [
        "from google.colab import data_table\n",
        "data_table.enable_dataframe_formatter()"
      ]
    },
    {
      "cell_type": "markdown",
      "source": [
        "# NHL"
      ],
      "metadata": {
        "id": "KeblrmXrPCD1"
      }
    },
    {
      "cell_type": "code",
      "source": [
        "import csv\n",
        "!wget -q -O NHL_Goalie.csv https://raw.githubusercontent.com/eadamsRU/DataManagment/main/NHL%202023-2024%20Goalie%20Data%20.csv\n",
        "!wget -q -O NHL_Skater.csv https://raw.githubusercontent.com/eadamsRU/DataManagment/main/NHL%202023-2024%20Skater%20Data.csv"
      ],
      "metadata": {
        "id": "9xJr3DtgMKCG"
      },
      "execution_count": 2,
      "outputs": []
    },
    {
      "cell_type": "code",
      "source": [
        "import pandas as pd\n",
        "NHL_G = pd.read_csv('NHL_Goalie.csv', encoding='unicode_escape')\n",
        "NHL_S = pd.read_csv('NHL_Skater.csv', encoding='unicode_escape')"
      ],
      "metadata": {
        "id": "_EAdyuGOMfMw"
      },
      "execution_count": 3,
      "outputs": []
    },
    {
      "cell_type": "code",
      "source": [
        "NHL_G.head(3)"
      ],
      "metadata": {
        "id": "y0c_atqTMtvP"
      },
      "execution_count": null,
      "outputs": []
    },
    {
      "cell_type": "code",
      "source": [
        "NHL_S #.dtypes"
      ],
      "metadata": {
        "id": "pXhS1fL9Nf9i"
      },
      "execution_count": null,
      "outputs": []
    },
    {
      "cell_type": "code",
      "source": [
        "'''NHL_S['Position'].head(2)'''\n",
        "NHL_S.head(2)"
      ],
      "metadata": {
        "id": "5rnX9lJkNU1u",
        "colab": {
          "base_uri": "https://localhost:8080/",
          "height": 194
        },
        "outputId": "bf7eb377-b6d3-419d-8830-4193e4122d73"
      },
      "execution_count": 14,
      "outputs": [
        {
          "output_type": "stream",
          "name": "stdout",
          "text": [
            "Warning: Total number of columns (29) exceeds max_columns (20). Falling back to pandas display.\n"
          ]
        },
        {
          "output_type": "execute_result",
          "data": {
            "text/plain": [
              "  Season Year  Rk         Player  Age Team Position  Games Played  Goals  \\\n",
              "0   2023-2024   1   Noel Acciari   32  PIT        C             9      0   \n",
              "1   2023-2024   2  Calen Addison   23  MIN        D             9      0   \n",
              "\n",
              "   Assists  Points  ...  Short-Handed Assists  Shots on Goal  \\\n",
              "0        0       0  ...                     0              8   \n",
              "1        4       4  ...                     0             15   \n",
              "\n",
              "   Shooting Percentage  Time on Ice  Average Time on Ice  Blocks  Hits  \\\n",
              "0                  0.0          106                11:44      11    18   \n",
              "1                  0.0          162                18:00       4     3   \n",
              "\n",
              "   Faceoff Wins  Faceoff Losses  Faceoff Win Percentage  \n",
              "0            45              42                    51.7  \n",
              "1             0               0                     NaN  \n",
              "\n",
              "[2 rows x 29 columns]"
            ],
            "text/html": [
              "\n",
              "  <div id=\"df-635b0b08-78e7-4c96-b9c3-a7296503e026\" class=\"colab-df-container\">\n",
              "    <div>\n",
              "<style scoped>\n",
              "    .dataframe tbody tr th:only-of-type {\n",
              "        vertical-align: middle;\n",
              "    }\n",
              "\n",
              "    .dataframe tbody tr th {\n",
              "        vertical-align: top;\n",
              "    }\n",
              "\n",
              "    .dataframe thead th {\n",
              "        text-align: right;\n",
              "    }\n",
              "</style>\n",
              "<table border=\"1\" class=\"dataframe\">\n",
              "  <thead>\n",
              "    <tr style=\"text-align: right;\">\n",
              "      <th></th>\n",
              "      <th>Season Year</th>\n",
              "      <th>Rk</th>\n",
              "      <th>Player</th>\n",
              "      <th>Age</th>\n",
              "      <th>Team</th>\n",
              "      <th>Position</th>\n",
              "      <th>Games Played</th>\n",
              "      <th>Goals</th>\n",
              "      <th>Assists</th>\n",
              "      <th>Points</th>\n",
              "      <th>...</th>\n",
              "      <th>Short-Handed Assists</th>\n",
              "      <th>Shots on Goal</th>\n",
              "      <th>Shooting Percentage</th>\n",
              "      <th>Time on Ice</th>\n",
              "      <th>Average Time on Ice</th>\n",
              "      <th>Blocks</th>\n",
              "      <th>Hits</th>\n",
              "      <th>Faceoff Wins</th>\n",
              "      <th>Faceoff Losses</th>\n",
              "      <th>Faceoff Win Percentage</th>\n",
              "    </tr>\n",
              "  </thead>\n",
              "  <tbody>\n",
              "    <tr>\n",
              "      <th>0</th>\n",
              "      <td>2023-2024</td>\n",
              "      <td>1</td>\n",
              "      <td>Noel Acciari</td>\n",
              "      <td>32</td>\n",
              "      <td>PIT</td>\n",
              "      <td>C</td>\n",
              "      <td>9</td>\n",
              "      <td>0</td>\n",
              "      <td>0</td>\n",
              "      <td>0</td>\n",
              "      <td>...</td>\n",
              "      <td>0</td>\n",
              "      <td>8</td>\n",
              "      <td>0.0</td>\n",
              "      <td>106</td>\n",
              "      <td>11:44</td>\n",
              "      <td>11</td>\n",
              "      <td>18</td>\n",
              "      <td>45</td>\n",
              "      <td>42</td>\n",
              "      <td>51.7</td>\n",
              "    </tr>\n",
              "    <tr>\n",
              "      <th>1</th>\n",
              "      <td>2023-2024</td>\n",
              "      <td>2</td>\n",
              "      <td>Calen Addison</td>\n",
              "      <td>23</td>\n",
              "      <td>MIN</td>\n",
              "      <td>D</td>\n",
              "      <td>9</td>\n",
              "      <td>0</td>\n",
              "      <td>4</td>\n",
              "      <td>4</td>\n",
              "      <td>...</td>\n",
              "      <td>0</td>\n",
              "      <td>15</td>\n",
              "      <td>0.0</td>\n",
              "      <td>162</td>\n",
              "      <td>18:00</td>\n",
              "      <td>4</td>\n",
              "      <td>3</td>\n",
              "      <td>0</td>\n",
              "      <td>0</td>\n",
              "      <td>NaN</td>\n",
              "    </tr>\n",
              "  </tbody>\n",
              "</table>\n",
              "<p>2 rows × 29 columns</p>\n",
              "</div>\n",
              "    <div class=\"colab-df-buttons\">\n",
              "\n",
              "  <div class=\"colab-df-container\">\n",
              "    <button class=\"colab-df-convert\" onclick=\"convertToInteractive('df-635b0b08-78e7-4c96-b9c3-a7296503e026')\"\n",
              "            title=\"Convert this dataframe to an interactive table.\"\n",
              "            style=\"display:none;\">\n",
              "\n",
              "  <svg xmlns=\"http://www.w3.org/2000/svg\" height=\"24px\" viewBox=\"0 -960 960 960\">\n",
              "    <path d=\"M120-120v-720h720v720H120Zm60-500h600v-160H180v160Zm220 220h160v-160H400v160Zm0 220h160v-160H400v160ZM180-400h160v-160H180v160Zm440 0h160v-160H620v160ZM180-180h160v-160H180v160Zm440 0h160v-160H620v160Z\"/>\n",
              "  </svg>\n",
              "    </button>\n",
              "\n",
              "  <style>\n",
              "    .colab-df-container {\n",
              "      display:flex;\n",
              "      gap: 12px;\n",
              "    }\n",
              "\n",
              "    .colab-df-convert {\n",
              "      background-color: #E8F0FE;\n",
              "      border: none;\n",
              "      border-radius: 50%;\n",
              "      cursor: pointer;\n",
              "      display: none;\n",
              "      fill: #1967D2;\n",
              "      height: 32px;\n",
              "      padding: 0 0 0 0;\n",
              "      width: 32px;\n",
              "    }\n",
              "\n",
              "    .colab-df-convert:hover {\n",
              "      background-color: #E2EBFA;\n",
              "      box-shadow: 0px 1px 2px rgba(60, 64, 67, 0.3), 0px 1px 3px 1px rgba(60, 64, 67, 0.15);\n",
              "      fill: #174EA6;\n",
              "    }\n",
              "\n",
              "    .colab-df-buttons div {\n",
              "      margin-bottom: 4px;\n",
              "    }\n",
              "\n",
              "    [theme=dark] .colab-df-convert {\n",
              "      background-color: #3B4455;\n",
              "      fill: #D2E3FC;\n",
              "    }\n",
              "\n",
              "    [theme=dark] .colab-df-convert:hover {\n",
              "      background-color: #434B5C;\n",
              "      box-shadow: 0px 1px 3px 1px rgba(0, 0, 0, 0.15);\n",
              "      filter: drop-shadow(0px 1px 2px rgba(0, 0, 0, 0.3));\n",
              "      fill: #FFFFFF;\n",
              "    }\n",
              "  </style>\n",
              "\n",
              "    <script>\n",
              "      const buttonEl =\n",
              "        document.querySelector('#df-635b0b08-78e7-4c96-b9c3-a7296503e026 button.colab-df-convert');\n",
              "      buttonEl.style.display =\n",
              "        google.colab.kernel.accessAllowed ? 'block' : 'none';\n",
              "\n",
              "      async function convertToInteractive(key) {\n",
              "        const element = document.querySelector('#df-635b0b08-78e7-4c96-b9c3-a7296503e026');\n",
              "        const dataTable =\n",
              "          await google.colab.kernel.invokeFunction('convertToInteractive',\n",
              "                                                    [key], {});\n",
              "        if (!dataTable) return;\n",
              "\n",
              "        const docLinkHtml = 'Like what you see? Visit the ' +\n",
              "          '<a target=\"_blank\" href=https://colab.research.google.com/notebooks/data_table.ipynb>data table notebook</a>'\n",
              "          + ' to learn more about interactive tables.';\n",
              "        element.innerHTML = '';\n",
              "        dataTable['output_type'] = 'display_data';\n",
              "        await google.colab.output.renderOutput(dataTable, element);\n",
              "        const docLink = document.createElement('div');\n",
              "        docLink.innerHTML = docLinkHtml;\n",
              "        element.appendChild(docLink);\n",
              "      }\n",
              "    </script>\n",
              "  </div>\n",
              "\n",
              "\n",
              "<div id=\"df-2406b1d9-76c0-4d0b-b65e-6ee31f4fd413\">\n",
              "  <button class=\"colab-df-quickchart\" onclick=\"quickchart('df-2406b1d9-76c0-4d0b-b65e-6ee31f4fd413')\"\n",
              "            title=\"Suggest charts.\"\n",
              "            style=\"display:none;\">\n",
              "\n",
              "<svg xmlns=\"http://www.w3.org/2000/svg\" height=\"24px\"viewBox=\"0 0 24 24\"\n",
              "     width=\"24px\">\n",
              "    <g>\n",
              "        <path d=\"M19 3H5c-1.1 0-2 .9-2 2v14c0 1.1.9 2 2 2h14c1.1 0 2-.9 2-2V5c0-1.1-.9-2-2-2zM9 17H7v-7h2v7zm4 0h-2V7h2v10zm4 0h-2v-4h2v4z\"/>\n",
              "    </g>\n",
              "</svg>\n",
              "  </button>\n",
              "\n",
              "<style>\n",
              "  .colab-df-quickchart {\n",
              "      --bg-color: #E8F0FE;\n",
              "      --fill-color: #1967D2;\n",
              "      --hover-bg-color: #E2EBFA;\n",
              "      --hover-fill-color: #174EA6;\n",
              "      --disabled-fill-color: #AAA;\n",
              "      --disabled-bg-color: #DDD;\n",
              "  }\n",
              "\n",
              "  [theme=dark] .colab-df-quickchart {\n",
              "      --bg-color: #3B4455;\n",
              "      --fill-color: #D2E3FC;\n",
              "      --hover-bg-color: #434B5C;\n",
              "      --hover-fill-color: #FFFFFF;\n",
              "      --disabled-bg-color: #3B4455;\n",
              "      --disabled-fill-color: #666;\n",
              "  }\n",
              "\n",
              "  .colab-df-quickchart {\n",
              "    background-color: var(--bg-color);\n",
              "    border: none;\n",
              "    border-radius: 50%;\n",
              "    cursor: pointer;\n",
              "    display: none;\n",
              "    fill: var(--fill-color);\n",
              "    height: 32px;\n",
              "    padding: 0;\n",
              "    width: 32px;\n",
              "  }\n",
              "\n",
              "  .colab-df-quickchart:hover {\n",
              "    background-color: var(--hover-bg-color);\n",
              "    box-shadow: 0 1px 2px rgba(60, 64, 67, 0.3), 0 1px 3px 1px rgba(60, 64, 67, 0.15);\n",
              "    fill: var(--button-hover-fill-color);\n",
              "  }\n",
              "\n",
              "  .colab-df-quickchart-complete:disabled,\n",
              "  .colab-df-quickchart-complete:disabled:hover {\n",
              "    background-color: var(--disabled-bg-color);\n",
              "    fill: var(--disabled-fill-color);\n",
              "    box-shadow: none;\n",
              "  }\n",
              "\n",
              "  .colab-df-spinner {\n",
              "    border: 2px solid var(--fill-color);\n",
              "    border-color: transparent;\n",
              "    border-bottom-color: var(--fill-color);\n",
              "    animation:\n",
              "      spin 1s steps(1) infinite;\n",
              "  }\n",
              "\n",
              "  @keyframes spin {\n",
              "    0% {\n",
              "      border-color: transparent;\n",
              "      border-bottom-color: var(--fill-color);\n",
              "      border-left-color: var(--fill-color);\n",
              "    }\n",
              "    20% {\n",
              "      border-color: transparent;\n",
              "      border-left-color: var(--fill-color);\n",
              "      border-top-color: var(--fill-color);\n",
              "    }\n",
              "    30% {\n",
              "      border-color: transparent;\n",
              "      border-left-color: var(--fill-color);\n",
              "      border-top-color: var(--fill-color);\n",
              "      border-right-color: var(--fill-color);\n",
              "    }\n",
              "    40% {\n",
              "      border-color: transparent;\n",
              "      border-right-color: var(--fill-color);\n",
              "      border-top-color: var(--fill-color);\n",
              "    }\n",
              "    60% {\n",
              "      border-color: transparent;\n",
              "      border-right-color: var(--fill-color);\n",
              "    }\n",
              "    80% {\n",
              "      border-color: transparent;\n",
              "      border-right-color: var(--fill-color);\n",
              "      border-bottom-color: var(--fill-color);\n",
              "    }\n",
              "    90% {\n",
              "      border-color: transparent;\n",
              "      border-bottom-color: var(--fill-color);\n",
              "    }\n",
              "  }\n",
              "</style>\n",
              "\n",
              "  <script>\n",
              "    async function quickchart(key) {\n",
              "      const quickchartButtonEl =\n",
              "        document.querySelector('#' + key + ' button');\n",
              "      quickchartButtonEl.disabled = true;  // To prevent multiple clicks.\n",
              "      quickchartButtonEl.classList.add('colab-df-spinner');\n",
              "      try {\n",
              "        const charts = await google.colab.kernel.invokeFunction(\n",
              "            'suggestCharts', [key], {});\n",
              "      } catch (error) {\n",
              "        console.error('Error during call to suggestCharts:', error);\n",
              "      }\n",
              "      quickchartButtonEl.classList.remove('colab-df-spinner');\n",
              "      quickchartButtonEl.classList.add('colab-df-quickchart-complete');\n",
              "    }\n",
              "    (() => {\n",
              "      let quickchartButtonEl =\n",
              "        document.querySelector('#df-2406b1d9-76c0-4d0b-b65e-6ee31f4fd413 button');\n",
              "      quickchartButtonEl.style.display =\n",
              "        google.colab.kernel.accessAllowed ? 'block' : 'none';\n",
              "    })();\n",
              "  </script>\n",
              "</div>\n",
              "    </div>\n",
              "  </div>\n"
            ]
          },
          "metadata": {},
          "execution_count": 14
        }
      ]
    },
    {
      "cell_type": "markdown",
      "source": [
        "Get all unique values in a  column"
      ],
      "metadata": {
        "id": "RoxD-jtdRBxZ"
      }
    },
    {
      "cell_type": "code",
      "source": [
        "#NHL_S['Position'] #.value_counts() #.unique()\n",
        "'''\n",
        "This did not return anything for the positions in the DF, why?\n",
        "'''\n",
        "\n",
        "a = NHL_S['Position'].unique()\n",
        "print(sorted(a))\n",
        "\n",
        "\n"
      ],
      "metadata": {
        "id": "WjhWZklbN5rD",
        "colab": {
          "base_uri": "https://localhost:8080/"
        },
        "outputId": "fccb6a00-4d32-418c-f3cc-392876037150"
      },
      "execution_count": 13,
      "outputs": [
        {
          "output_type": "stream",
          "name": "stdout",
          "text": [
            "['C', 'D', 'F', 'LW', 'RW']\n"
          ]
        }
      ]
    },
    {
      "cell_type": "code",
      "source": [
        "###map/recode\n",
        "\n",
        "S = pd.DataFrame({\"Position\": [\"LW\", \"C\", \"RW\", \"D\"],\n",
        "                             \"Off/Def\": [\"Offense\", \"Offense\", \"Offense\", \"Defense\"]})\n",
        "S"
      ],
      "metadata": {
        "id": "30hTjAtrNCIc"
      },
      "execution_count": null,
      "outputs": []
    },
    {
      "cell_type": "markdown",
      "source": [
        "## NHL Stack"
      ],
      "metadata": {
        "id": "SzRy8fWCUO7l"
      }
    },
    {
      "cell_type": "markdown",
      "source": [
        "This was to see how it works when you map and then stack a DF"
      ],
      "metadata": {
        "id": "epiG8j92b0FA"
      }
    },
    {
      "cell_type": "code",
      "source": [
        "nhlStack=S.stack()\n",
        "nhlStack"
      ],
      "metadata": {
        "id": "bQxm1VI8UIJ-",
        "colab": {
          "base_uri": "https://localhost:8080/"
        },
        "outputId": "ce91a671-85f5-4325-eab2-de84bb38dc3d"
      },
      "execution_count": 64,
      "outputs": [
        {
          "output_type": "execute_result",
          "data": {
            "text/plain": [
              "0  Position         LW\n",
              "   Off/Def     Offense\n",
              "1  Position          C\n",
              "   Off/Def     Offense\n",
              "2  Position         RW\n",
              "   Off/Def     Offense\n",
              "3  Position          D\n",
              "   Off/Def     Defense\n",
              "dtype: object"
            ]
          },
          "metadata": {},
          "execution_count": 64
        }
      ]
    },
    {
      "cell_type": "markdown",
      "source": [
        "This makes it easier to group by player and see all stats in a readable way"
      ],
      "metadata": {
        "id": "kGPjYLqsXPCK"
      }
    },
    {
      "cell_type": "code",
      "source": [
        "nhlOG = NHL_S.stack()\n",
        "nhlOG"
      ],
      "metadata": {
        "colab": {
          "base_uri": "https://localhost:8080/"
        },
        "id": "BEFUE7T0ae72",
        "outputId": "ed2e9dd7-9e9d-4808-fb52-ec80c7494b7b"
      },
      "execution_count": 70,
      "outputs": [
        {
          "output_type": "execute_result",
          "data": {
            "text/plain": [
              "0   Season Year                  2023-2024\n",
              "    Rk                                   1\n",
              "    Player                    Noel Acciari\n",
              "    Age                                 32\n",
              "    Team                               PIT\n",
              "                                  ...     \n",
              "31  Blocks                               7\n",
              "    Hits                                 5\n",
              "    Faceoff Wins                         5\n",
              "    Faceoff Losses                       2\n",
              "    Faceoff Win Percentage            71.4\n",
              "Length: 912, dtype: object"
            ]
          },
          "metadata": {},
          "execution_count": 70
        }
      ]
    },
    {
      "cell_type": "markdown",
      "source": [
        "*Can read this in a much better way, I went by index to look up player.\n",
        "  Want to see how I could just do (player = 'player_name')\n",
        "\n",
        "Things to add would be to have those 2 columns to compare you showed where you rename them A B, do that compare with 2 players side by side*"
      ],
      "metadata": {
        "id": "6pno0LkJXtkA"
      }
    },
    {
      "cell_type": "code",
      "source": [
        "nhlOG[0]"
      ],
      "metadata": {
        "colab": {
          "base_uri": "https://localhost:8080/"
        },
        "id": "p2J3OjFAXbHN",
        "outputId": "4dc9091d-f0c4-48d9-e804-a1bdcc1a5837"
      },
      "execution_count": 71,
      "outputs": [
        {
          "output_type": "execute_result",
          "data": {
            "text/plain": [
              "Season Year                  2023-2024\n",
              "Rk                                   1\n",
              "Player                    Noel Acciari\n",
              "Age                                 32\n",
              "Team                               PIT\n",
              "Position                             C\n",
              "Games Played                         9\n",
              "Goals                                0\n",
              "Assists                              0\n",
              "Points                               0\n",
              "Plus/Minus                          -2\n",
              "Penalities in Minutes                2\n",
              "Point Shares                      -0.2\n",
              "Even Strength Goals                  0\n",
              "Power Play Goals                     0\n",
              "Short-Handed Goals                   0\n",
              "Game-Winning Goals                   0\n",
              "Even Strength Assists                0\n",
              "Power Play Assists                   0\n",
              "Short-Handed Assists                 0\n",
              "Shots on Goal                        8\n",
              "Shooting Percentage                0.0\n",
              "Time on Ice                        106\n",
              "Average Time on Ice              11:44\n",
              "Blocks                              11\n",
              "Hits                                18\n",
              "Faceoff Wins                        45\n",
              "Faceoff Losses                      42\n",
              "Faceoff Win Percentage            51.7\n",
              "dtype: object"
            ]
          },
          "metadata": {},
          "execution_count": 71
        }
      ]
    },
    {
      "cell_type": "markdown",
      "source": [
        "This unstacks the NHL og DF(not the filtered position by offense defense)"
      ],
      "metadata": {
        "id": "5E_Kkc68cYJF"
      }
    },
    {
      "cell_type": "code",
      "source": [
        "nhl_OG_unstack = nhlOG.unstack()\n",
        "nhl_OG_unstack"
      ],
      "metadata": {
        "id": "NJ6ar-0ncLni"
      },
      "execution_count": null,
      "outputs": []
    },
    {
      "cell_type": "markdown",
      "source": [
        "# Premier League Imports"
      ],
      "metadata": {
        "id": "HjcRxByWPH0l"
      }
    },
    {
      "cell_type": "code",
      "source": [
        "!wget -q -O PL_Keeper.csv https://raw.githubusercontent.com/eadamsRU/DataManagment/main/PremLG%202023-2024%20Goalie%20Data.csv\n",
        "!wget -q -O PL_Player.csv https://raw.githubusercontent.com/eadamsRU/DataManagment/main/PremLG%202023-2024%20Player%20Data.csv"
      ],
      "metadata": {
        "id": "4e8H8qfYPBXz"
      },
      "execution_count": 16,
      "outputs": []
    },
    {
      "cell_type": "code",
      "source": [
        "PL_K = pd.read_csv('PL_Keeper.csv', encoding='unicode_escape')\n",
        "PL_P = pd.read_csv('PL_Player.csv', encoding='unicode_escape')"
      ],
      "metadata": {
        "id": "LRImaSUHPQlg"
      },
      "execution_count": 17,
      "outputs": []
    },
    {
      "cell_type": "markdown",
      "source": [
        "# Mapping"
      ],
      "metadata": {
        "id": "2f7PK508Ont2"
      }
    },
    {
      "cell_type": "code",
      "source": [
        "PL_P.head(2)"
      ],
      "metadata": {
        "id": "mDx270EfRcA8"
      },
      "execution_count": null,
      "outputs": []
    },
    {
      "cell_type": "code",
      "source": [
        "PL_P.dtypes"
      ],
      "metadata": {
        "id": "3zi5fhPYSSb0"
      },
      "execution_count": null,
      "outputs": []
    },
    {
      "cell_type": "code",
      "source": [
        "PL_P[['Player','Position']]"
      ],
      "metadata": {
        "id": "AJanvDUFSOqq"
      },
      "execution_count": null,
      "outputs": []
    },
    {
      "cell_type": "code",
      "source": [
        "gb = PL_P.groupby('Position')\n",
        "gb.first()\n"
      ],
      "metadata": {
        "id": "j3AuxtNuSsnq"
      },
      "execution_count": null,
      "outputs": []
    },
    {
      "cell_type": "markdown",
      "source": [
        "This guy is a forward, this groupby() and also .get_group() is useful to filter and search for specific values in a column"
      ],
      "metadata": {
        "id": "MITwjeQaTL6b"
      }
    },
    {
      "cell_type": "code",
      "source": [
        "gb.get_group('FW,DF')\n"
      ],
      "metadata": {
        "id": "KAov1p-eTCk5"
      },
      "execution_count": null,
      "outputs": []
    },
    {
      "cell_type": "code",
      "source": [
        "b = PL_P['Position'].unique()\n",
        "print(sorted(b))"
      ],
      "metadata": {
        "id": "duMt_RoMRO19"
      },
      "execution_count": null,
      "outputs": []
    },
    {
      "cell_type": "markdown",
      "source": [
        "**Mapping**, The highest position on the field takes seeding, so if DF and FW, the player would be grouped under Forward"
      ],
      "metadata": {
        "id": "oXul2xKKT0S7"
      }
    },
    {
      "cell_type": "code",
      "source": [
        "P = pd.DataFrame({\"Position\": [\"DF\", \"DF,MF\", \"FW\", \"FW,DF\", 'FW,MF', 'GK', 'MF', 'MF,DF', 'MF,FW'],\n",
        "                             \"Off/Def\": [\"Defense\", \"Defense\", \"Forward\", \"Forward\", \"Forward\", \"GoalKeeper\", \"MidFielder\", \"Midfielder\", \"Forward\"]})\n",
        "P"
      ],
      "metadata": {
        "id": "BvruoFTXR3WU"
      },
      "execution_count": null,
      "outputs": []
    },
    {
      "cell_type": "markdown",
      "source": [
        "NHL Mapping to get Forwards with Forwards and pair Defensemen with eachother"
      ],
      "metadata": {
        "id": "Ill3A-dXRvXY"
      }
    },
    {
      "cell_type": "code",
      "source": [
        "S = pd.DataFrame({\"Position\": [\"LW\", \"C\", \"RW\", \"D\"],\n",
        "                             \"Off/Def\": [\"Offense\", \"Offense\", \"Offense\", \"Defense\"]})\n",
        "S"
      ],
      "metadata": {
        "id": "9E_ROrjpO-ol"
      },
      "execution_count": null,
      "outputs": []
    },
    {
      "cell_type": "markdown",
      "source": [
        "# Melt\n"
      ],
      "metadata": {
        "id": "q_zL6qIjcoXt"
      }
    },
    {
      "cell_type": "code",
      "source": [
        "NHL_Melt = NHL_S.melt(id_vars = ['Player', 'Team'])\n",
        "NHL_Melt.sort_values('Team')"
      ],
      "metadata": {
        "id": "SIPAT9Pzc-zC"
      },
      "execution_count": null,
      "outputs": []
    },
    {
      "cell_type": "markdown",
      "source": [
        "# Pivot"
      ],
      "metadata": {
        "id": "wV-GbDTzdwT3"
      }
    },
    {
      "cell_type": "code",
      "source": [
        "p = NHL_S.pivot_table(index = ['Player'], columns = 'Team')"
      ],
      "metadata": {
        "id": "nHRCG1KzWeKd"
      },
      "execution_count": null,
      "outputs": []
    },
    {
      "cell_type": "markdown",
      "source": [
        "This dropped the index of a player that was in twice, think due to them being traded during the season and the stats are still good for both teams"
      ],
      "metadata": {
        "id": "5-xuKuFOfMlK"
      }
    },
    {
      "cell_type": "code",
      "source": [
        "NHL_R.drop(2)"
      ],
      "metadata": {
        "id": "F_MtoITqfKYK"
      },
      "execution_count": null,
      "outputs": []
    },
    {
      "cell_type": "code",
      "source": [
        "NHL_R = NHL_S[['Player', 'Team', 'Position', 'Goals']]\n",
        "\n",
        "\n",
        "NHL_R"
      ],
      "metadata": {
        "id": "Go-WZoaJdygb"
      },
      "execution_count": null,
      "outputs": []
    },
    {
      "cell_type": "markdown",
      "source": [
        "**Why does this not work?**"
      ],
      "metadata": {
        "id": "-9sK0sdLEtws"
      }
    },
    {
      "cell_type": "code",
      "source": [
        "NHL_R = NHL_R.reindex(columns=['Player','Position','Goals','Assists','Points'])\n",
        "NHL_R.pivot(index = 'Player', columns = 'Position', values = ['Goals','Assists', 'Points'])"
      ],
      "metadata": {
        "id": "6YueigMwl4nx"
      },
      "execution_count": null,
      "outputs": []
    },
    {
      "cell_type": "code",
      "source": [
        "NHL_R = pd.wide_to_long(NHL_R, ['A', 'B'], i = \"index\", j = \"Position\")"
      ],
      "metadata": {
        "id": "o49fYvNBeDDG"
      },
      "execution_count": null,
      "outputs": []
    }
  ]
}