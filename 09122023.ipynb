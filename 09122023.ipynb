{
  "nbformat": 4,
  "nbformat_minor": 0,
  "metadata": {
    "colab": {
      "provenance": [],
      "toc_visible": true
    },
    "kernelspec": {
      "name": "python3",
      "display_name": "Python 3"
    },
    "language_info": {
      "name": "python"
    }
  },
  "cells": [
    {
      "cell_type": "code",
      "execution_count": null,
      "metadata": {
        "id": "OW2rnuQbakrE"
      },
      "outputs": [],
      "source": [
        "#download file from online and save in colab as ex1.csv; note it's from: https://conjointly.com/kb/correlation-statistic/\n",
        "#urllib.request.urlretrieve(\"https://drive.google.com/uc?id=1YH8DfzsQ8suZkVQBk7T9FTKvvm9Vyej8&export=download\", \"ex1.csv\")\n",
        "\n",
        "#update the url with your own dataset\n",
        "!wget -q -O ex1.csv https://drive.google.com/uc?id=1YH8DfzsQ8suZkVQBk7T9FTKvvm9Vyej8&export=download\n",
        "\n"
      ]
    },
    {
      "cell_type": "markdown",
      "source": [
        "#text\n"
      ],
      "metadata": {
        "id": "Odv4Nx5HiMir"
      }
    },
    {
      "cell_type": "markdown",
      "source": [
        "this is test1"
      ],
      "metadata": {
        "id": "suI9hfp2iy4M"
      }
    },
    {
      "cell_type": "markdown",
      "source": [
        "##test 2\n"
      ],
      "metadata": {
        "id": "fraRVH41iQZ1"
      }
    },
    {
      "cell_type": "markdown",
      "source": [
        "###test3\n"
      ],
      "metadata": {
        "id": "-WYGJvvxiTLs"
      }
    },
    {
      "cell_type": "code",
      "source": [],
      "metadata": {
        "id": "I_Dz91wBjUkd"
      },
      "execution_count": null,
      "outputs": []
    },
    {
      "cell_type": "code",
      "source": [
        "#---------------------------SETUP----------------------------------\n",
        "#get useful libraries\n",
        "import time, os, sys, re #basics\n",
        "import zipfile, json, datetime, string   #string for annotating points in scatter\n",
        "import numpy as np #basic math\n",
        "from statistics import * #stats\n",
        "\n",
        "import matplotlib.pyplot as plt #import pylab as plt #apparently discouraged now:\n",
        " #https://stackoverflow.com/questions/11469336/what-is-the-difference-between-pylab-and-pyplot\n",
        " #https://www.tutorialspoint.com/matplotlib/matplotlib_pylab_module.htm\n",
        "\n",
        "import pandas as pd\n",
        "import pandas_datareader as pdr\n",
        "from pandas_datareader import wb\n",
        "from pandas.io.formats.style import Styler\n",
        "#s4 = Styler(df4, uuid_len=0, cell_ids=False)\n",
        "\n",
        "from google.colab import files\n",
        "\n",
        "#import webbrowser\n",
        "\n",
        "import seaborn as sns\n",
        "\n",
        "from google.colab import data_table\n",
        "data_table.enable_dataframe_formatter() #this enables spreadsheet view upon calling dataframe (without() )\n",
        "\n",
        "#many tricks how to extend notebook functionality\n",
        "#https://coderzcolumn.com/tutorials/python/list-of-useful-magic-commands-in-jupyter-notebook-lab\n",
        "#will display all output not just last command\n",
        "from IPython.core.interactiveshell import InteractiveShell\n",
        "InteractiveShell.ast_node_interactivity = \"all\"\n",
        "\n",
        "#MAGICS and THEMES/STYLES: important! does affect not just shading/colors, but also fonts, spacing, etc\n",
        "#(even if you only select default (v not selecting anything) [but does seem to work better if you do make explicit sleections])\n",
        "\n",
        "###magics: https://ipython.readthedocs.io/en/stable/interactive/magics.html\n",
        "#most essential setup for vis: it does affect vis! careful!! stick with inline, maybe notebook; others mostly for non-notebook, eg spyder environ\n",
        "#https://jakevdp.github.io/PythonDataScienceHandbook/04.00-introduction-to-matplotlib.html recomends *inline*!\n",
        "#show current one:\n",
        "#%matplotlib\n",
        "#%matplotlib --list\n",
        "#interactive plots:\n",
        "#%matplotlib notebook\n",
        "#static images of your plot:\n",
        "%matplotlib inline\n",
        "#may play with this one and other magics (btw default is probably agg)\n",
        "#%matplotlib nbagg\n",
        "\n",
        "###themes/styles: https://matplotlib.org/stable/gallery/style_sheets/style_sheets_reference.html\n",
        "#https://jakevdp.github.io/PythonDataScienceHandbook/04.11-settings-and-stylesheets.html\n",
        "#https://matplotlib.org/stable/tutorials/introductory/customizing.html\n",
        "#here more about art and style than under the hood functionality as with magics, explore and experiment\n",
        "#many may find 'default' or seaborn ones more pleasing; my fav 'classic' is back from 90s ;)\n",
        "#plt.style.available #list available styles :) may install more\n",
        "#plt.style.use('default') # more delicate subtle than classic\n",
        "plt.style.use('classic')  #  'seaborn-whitegrid' 'seaborn-white' 'seaborn-poster'\n",
        "# btw: magics v theme/style sequence matters, eg if i specify classic style before inline magic, i wouldnt get grey bounding box im getting"
      ],
      "metadata": {
        "id": "oWvYlr0KjcIy"
      },
      "execution_count": null,
      "outputs": []
    },
    {
      "cell_type": "markdown",
      "source": [
        "Pandas Webscrape and read a file\n",
        "\n",
        "\n",
        "\n",
        "\n"
      ],
      "metadata": {
        "id": "f2W5sipmkemv"
      }
    },
    {
      "cell_type": "code",
      "source": [
        "#lets start with html, and especially handy wikipedia\n",
        "#for match use header of col; ideally unique; case may matter\n",
        "pd.read_html('https://en.wikipedia.org/wiki/List_of_counties_in_New_Jersey',match='Density',flavor=None)[0].head(3)"
      ],
      "metadata": {
        "id": "QHHJHbctkVUa"
      },
      "execution_count": null,
      "outputs": []
    },
    {
      "cell_type": "markdown",
      "source": [
        "Reading a file in and export to a certain filetype"
      ],
      "metadata": {
        "id": "lEQm3SfRmBtq"
      }
    },
    {
      "cell_type": "code",
      "source": [
        "!wget -q -O auto.dta https://docs.google.com/uc?id=1YpkQ-RgAQfB_4olxtbfRWnVmKwkXml5N&export=download\n",
        "auto=pd.read_stata('auto.dta') #load stata data\n",
        "auto.head(2)\n",
        "#auto.to_stata('stata.dta') #save as stata data\n",
        "\n",
        "#useful to set index to sth meaningful as opposed to 0,1,2\n",
        "#auto = auto.set_index('make')"
      ],
      "metadata": {
        "id": "HTGLbY1wmAF2"
      },
      "execution_count": null,
      "outputs": []
    },
    {
      "cell_type": "markdown",
      "source": [
        "Export car data"
      ],
      "metadata": {
        "id": "vb9yV5zDmWYy"
      }
    },
    {
      "cell_type": "code",
      "source": [
        "auto.to_excel('auto.xlsx', sheet_name = 'testing', index = False) #save as xls\n",
        "excelTest1 = pd.read_excel('auto.xlsx', 0)\n",
        "excelTest1.head(2)\n",
        "excelTest1.tail(2)"
      ],
      "metadata": {
        "id": "E8x6hvxfmUOb"
      },
      "execution_count": null,
      "outputs": []
    },
    {
      "cell_type": "markdown",
      "source": [
        "**Use the below to show extremes with data**"
      ],
      "metadata": {
        "id": "g6a42qxjrrb0"
      }
    },
    {
      "cell_type": "code",
      "source": [
        "\n",
        "auto.make[(auto.mpg<15) | (auto.mpg>40)] #https://stackoverflow.com/questions/22591174/pandas-multiple-conditions-while-indexing-data-frame-unexpected-behavior"
      ],
      "metadata": {
        "id": "0Ia0wpLkrwpY"
      },
      "execution_count": null,
      "outputs": []
    },
    {
      "cell_type": "markdown",
      "source": [
        "Subsetting"
      ],
      "metadata": {
        "id": "iNSyIMb9u9Lm"
      }
    },
    {
      "cell_type": "code",
      "source": [
        "#subsetting using query\n",
        "#auto.query(\"mpg<15  & foreign=='Foreign'\")\n",
        "#auto.query(\"weight <2000 | length <150\")\n",
        "auto.query(\"weight + length <2000\")"
      ],
      "metadata": {
        "id": "-oqopiuau8ti"
      },
      "execution_count": null,
      "outputs": []
    },
    {
      "cell_type": "markdown",
      "source": [
        ". means any character\n",
        "* as many times"
      ],
      "metadata": {
        "id": "k7MfrUe7wosa"
      }
    },
    {
      "cell_type": "code",
      "source": [
        "#auto.filter(like='wei').head(2) #stata: lookfor wei\n",
        "auto.filter(regex='.*t$').head(2)"
      ],
      "metadata": {
        "id": "E3_C4h2Twni_"
      },
      "execution_count": null,
      "outputs": []
    },
    {
      "cell_type": "markdown",
      "source": [
        "One of the first lines you want to run in a report. Useful in a report"
      ],
      "metadata": {
        "id": "SqFhbEOXxK5K"
      }
    },
    {
      "cell_type": "code",
      "source": [
        "#auto.describe()\n",
        "auto.describe().T.round(2) #T just transposes"
      ],
      "metadata": {
        "id": "NHI2d58RxKUv"
      },
      "execution_count": null,
      "outputs": []
    },
    {
      "cell_type": "markdown",
      "source": [
        "If a variable is categotrical use this value_counts"
      ],
      "metadata": {
        "id": "1s4GGkDy1_TW"
      }
    },
    {
      "cell_type": "code",
      "source": [
        "#auto['rep78'].value_counts() #.nlargest(3)\n",
        "auto['rep78'].value_counts(dropna=False).plot(kind='bar') #.nlargest(3)"
      ],
      "metadata": {
        "id": "8VZi8lLS1-oF"
      },
      "execution_count": null,
      "outputs": []
    },
    {
      "cell_type": "markdown",
      "source": [
        "look at relationships between 2 variables"
      ],
      "metadata": {
        "id": "-9qf03vP2HwB"
      }
    },
    {
      "cell_type": "code",
      "source": [
        "# stata: ta rep78 foreign\n",
        "pd.crosstab(auto.rep78, auto.foreign) # crosstab\n",
        "#pd.crosstab(auto.rep78, auto.foreign,normalize='columns') # col prop (normalize columns)\n",
        "#pd.crosstab(auto.rep78, auto.foreign,normalize='index') #row prop (normalize rows)\n",
        "#pd.crosstab(auto.rep78, auto.foreign,normalize='all') #cell prop"
      ],
      "metadata": {
        "id": "MtVRNpUs2HLF"
      },
      "execution_count": null,
      "outputs": []
    },
    {
      "cell_type": "markdown",
      "source": [
        "This is good to know: **crosstab** kind of like a pivot table\n",
        "Good for analysis"
      ],
      "metadata": {
        "id": "cDioywZb4p4a"
      }
    },
    {
      "cell_type": "code",
      "source": [
        "# stata: ta rep78 foreign\n",
        "pd.crosstab(auto.rep78, auto.foreign) # crosstab\n",
        "#pd.crosstab(auto.rep78, auto.foreign,normalize='columns') # col prop (normalize columns)\n",
        "#pd.crosstab(auto.rep78, auto.foreign,normalize='index') #row prop (normalize rows)\n",
        "#pd.crosstab(auto.rep78, auto.foreign,normalize='all') #cell prop"
      ],
      "metadata": {
        "id": "l7Jc_kOf4m_C"
      },
      "execution_count": null,
      "outputs": []
    },
    {
      "cell_type": "markdown",
      "source": [
        "Pivot table"
      ],
      "metadata": {
        "id": "l6GVpqWw5yuU"
      }
    },
    {
      "cell_type": "code",
      "source": [
        "pd.pivot_table(auto, index=['rep78','foreign'], values= 'mpg' , aggfunc=['median','std','min','max']).round(1)"
      ],
      "metadata": {
        "id": "vpxV56GV5xub"
      },
      "execution_count": null,
      "outputs": []
    }
  ]
}