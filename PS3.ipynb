{
  "nbformat": 4,
  "nbformat_minor": 0,
  "metadata": {
    "colab": {
      "provenance": [],
      "authorship_tag": "ABX9TyMXZYLVukLeL4Kw5U8+51P9",
      "include_colab_link": true
    },
    "kernelspec": {
      "name": "python3",
      "display_name": "Python 3"
    },
    "language_info": {
      "name": "python"
    }
  },
  "cells": [
    {
      "cell_type": "markdown",
      "metadata": {
        "id": "view-in-github",
        "colab_type": "text"
      },
      "source": [
        "<a href=\"https://colab.research.google.com/github/eadamsRU/DataManagment/blob/main/PS3.ipynb\" target=\"_parent\"><img src=\"https://colab.research.google.com/assets/colab-badge.svg\" alt=\"Open In Colab\"/></a>"
      ]
    },
    {
      "cell_type": "markdown",
      "source": [
        "Import datasets, rename them.\n",
        "\n",
        "URL: (international football reference website, has all leagues under competition tab, then went to Squad and Player Stats tab to download some tables for these)\n",
        "https://fbref.com/en/comps/9/Premier-League-Stats\n",
        "\n",
        "Had an issue with PS2 with currency symbols causing errors for ordering. Manually cleaned the files and renamed so any Wage amount should read in English Pounds."
      ],
      "metadata": {
        "id": "LiI_WxrXNsLF"
      }
    },
    {
      "cell_type": "code",
      "execution_count": 20,
      "metadata": {
        "id": "ICrpgi4qxRWo"
      },
      "outputs": [],
      "source": [
        "import csv\n",
        "!wget -q -O PlayerShooting.csv https://raw.githubusercontent.com/eadamsRU/DataManagment/main/PremLG_PlayerShooting_Top20.csv\n",
        "!wget -q -O SquadDef.csv https://raw.githubusercontent.com/eadamsRU/DataManagment/main/PremLG_SquadDefActions.csv\n",
        "!wget -q -O SquadGK.csv https://raw.githubusercontent.com/eadamsRU/DataManagment/main/PremLG_SquadGK.csv\n",
        "!wget -q -O SquadPossession.csv https://raw.githubusercontent.com/eadamsRU/DataManagment/main/PremLG_SquadPossession.csv\n",
        "!wget -q -O SquadPassing.csv https://raw.githubusercontent.com/eadamsRU/DataManagment/main/PremLG_SquadPassing.csv\n",
        "!wget -q -O SquadShot.csv https://raw.githubusercontent.com/eadamsRU/DataManagment/main/PremLG_SquadShoot.csv\n",
        "!wget -q -O SquadStdStats.csv https://raw.githubusercontent.com/eadamsRU/DataManagment/main/PremLG_SquadStdStats.csv\n",
        "!wget -q -O SquadWages.csv https://raw.githubusercontent.com/eadamsRU/DataManagment/main/Squad%20Wages_Updated.csv\n",
        "!wget -q -O PlayerWages.csv https://raw.githubusercontent.com/eadamsRU/DataManagment/main/Player%20Wages_Updated.csv\n",
        "!wget -q -O PlayerTop20.csv https://raw.githubusercontent.com/eadamsRU/DataManagment/main/PremLG_PlayerShooting_Top20.csv"
      ]
    },
    {
      "cell_type": "code",
      "source": [
        "import pandas as pd\n",
        "PlayerShooting = pd.read_csv('PlayerShooting.csv', encoding='unicode_escape')\n",
        "SquadDef = pd.read_csv('SquadDef.csv', encoding='unicode_escape')\n",
        "SquadGK = pd.read_csv('SquadGK.csv', encoding='unicode_escape')\n",
        "SquadPossession = pd.read_csv('SquadPossession.csv', encoding='unicode_escape')\n",
        "SquadPassing = pd.read_csv('SquadPassing.csv', encoding='unicode_escape')\n",
        "SquadShot = pd.read_csv('SquadShot.csv', encoding='unicode_escape')\n",
        "SquadStdStats = pd.read_csv('SquadStdStats.csv', encoding='unicode_escape')\n",
        "SquadWages = pd.read_csv('SquadWages.csv', encoding='unicode_escape')\n",
        "PlayerWages = pd.read_csv('PlayerWages.csv', encoding='unicode_escape')\n",
        "PlayerTop20 = pd.read_csv('PlayerTop20.csv', encoding='unicode_escape')"
      ],
      "metadata": {
        "id": "JNvMFITu4zEs"
      },
      "execution_count": 21,
      "outputs": []
    },
    {
      "cell_type": "markdown",
      "source": [
        "***Use this to get column names for each dataFram.***\n",
        "\n",
        "Useful to see which ones I want to compare or grab from."
      ],
      "metadata": {
        "id": "lBEhBV18wTGe"
      }
    },
    {
      "cell_type": "code",
      "source": [
        "#for col in SquadWages.columns:\n",
        "#    print(col)\n",
        "\n",
        "# Just replace on the var.columns for the df you want to check\n",
        "for col in PremDef.columns:\n",
        "    print(col)"
      ],
      "metadata": {
        "id": "YS3priCbwFp4"
      },
      "execution_count": null,
      "outputs": []
    },
    {
      "cell_type": "markdown",
      "source": [
        "Merges"
      ],
      "metadata": {
        "id": "2wQtiPIfNo_h"
      }
    },
    {
      "cell_type": "code",
      "source": [
        "PremLG = pd.merge(SquadWages,PlayerWages, on ='Squad', how = 'outer', indicator=True)"
      ],
      "metadata": {
        "id": "6eCl2FeINquQ"
      },
      "execution_count": 22,
      "outputs": []
    },
    {
      "cell_type": "code",
      "source": [
        "PremPassing = pd.merge(SquadWages,SquadPassing, on ='Squad', how = 'outer', indicator=True)\n",
        "PremShot = pd.merge(SquadWages,SquadShot, on ='Squad', how = 'outer', indicator=True)\n",
        "PremPossession = pd.merge(SquadWages,SquadPossession, on ='Squad', how = 'outer', indicator=True)\n",
        "PremDef = pd.merge(SquadWages,SquadDef, on ='Squad', how = 'outer', indicator=True)\n",
        "PremGK = pd.merge(SquadWages,SquadGK, on ='Squad', how = 'outer', indicator=True)\n",
        "PremPassPoss = pd.merge(SquadPassing,SquadPossession, on ='Squad', how = 'outer', indicator=True)\n",
        "PremTop20 = pd.merge(PlayerWages,PlayerTop20, on ='Squad', how = 'outer', indicator=True)\n",
        "\n"
      ],
      "metadata": {
        "id": "7QgqU6WjNvZC"
      },
      "execution_count": 79,
      "outputs": []
    },
    {
      "cell_type": "markdown",
      "source": [
        "Many to one merge. No errors, I changed this to right merge expecting it to just be the single columns and no dupes from PlayerWages, why is this stilll have some columns with x and y?"
      ],
      "metadata": {
        "id": "NZlieZ6jONeG"
      }
    },
    {
      "cell_type": "code",
      "source": [
        "PlayerMoney = pd.merge(PlayerWages,PlayerTop20, on = ['Squad','Player'], how = 'right', indicator=True)"
      ],
      "metadata": {
        "id": "Rr0SIXUPhcUr"
      },
      "execution_count": 90,
      "outputs": []
    },
    {
      "cell_type": "code",
      "source": [
        "PlayerMoney.head(3)"
      ],
      "metadata": {
        "id": "5G3hJqfXhowm"
      },
      "execution_count": null,
      "outputs": []
    },
    {
      "cell_type": "markdown",
      "source": [
        "Player goals, why is this not sorting by top goal scorers?"
      ],
      "metadata": {
        "id": "PFLpwFcCFH9L"
      }
    },
    {
      "cell_type": "code",
      "source": [
        "PlayerMoney.sort_values('Gls', ascending =False)\n",
        "PlayerMoney[['Squad','Player','Gls','Weekly Wages (Pounds)']]"
      ],
      "metadata": {
        "id": "pNtEew92FHqu"
      },
      "execution_count": null,
      "outputs": []
    },
    {
      "cell_type": "markdown",
      "source": [
        "Interesting find is the top teams seem to have less crosses into box compared to those lower in the Premier league, they also seem to have more passes attempted and completed.\n",
        "\n",
        "This is odd to me as crosses into box tend to lead to more chances, so they should score more, making"
      ],
      "metadata": {
        "id": "IpgkhKNaxQna"
      }
    },
    {
      "cell_type": "code",
      "source": [
        "#PremPassing.sort_values('Total_Att', ascending =False)\n",
        "PremPassing[['Squad','Weekly Wages (Pounds)','Total_Att','Total_Cmp%','Crosses into Box']]"
      ],
      "metadata": {
        "id": "QgzuEA0Ctm3x"
      },
      "execution_count": null,
      "outputs": []
    },
    {
      "cell_type": "markdown",
      "source": [
        "Wanted to see if there was disparity between top teams having more touches than weaker team in the attacking third. This was expected."
      ],
      "metadata": {
        "id": "Mx39rk87D9cV"
      }
    },
    {
      "cell_type": "code",
      "source": [
        "PremPossession[['Squad','Weekly Wages (Pounds)','Touches','Touches Def 3rd', 'Touches Att 3rd']]"
      ],
      "metadata": {
        "id": "gi3csmTDBmjR"
      },
      "execution_count": null,
      "outputs": []
    },
    {
      "cell_type": "markdown",
      "source": [
        "**I want to compare the merges for how much teams are paying players and if there is something to be said for good goalies and good defense/ good goalies and good offense**"
      ],
      "metadata": {
        "id": "RnhnrdJIEsl_"
      }
    },
    {
      "cell_type": "markdown",
      "source": [
        "Can see that teams with a good keeper tend to win more while also having the higher shots on target %.\n",
        "\n",
        "Could be a reason that in practice the players are giving these keepers more chances to practice game shots, making them better."
      ],
      "metadata": {
        "id": "baIy9VDkLHpl"
      }
    },
    {
      "cell_type": "markdown",
      "source": [
        "I could not find much insight from the defense data for what I was expecting to have from seeing a better offense or a better keeper with them."
      ],
      "metadata": {
        "id": "IqAJaCVmL7QA"
      }
    },
    {
      "cell_type": "code",
      "source": [
        "PremGK[['Squad','Weekly Wages (Pounds)','Save%','W','L','D']]"
      ],
      "metadata": {
        "id": "IeMF7wokJLns"
      },
      "execution_count": null,
      "outputs": []
    },
    {
      "cell_type": "code",
      "source": [
        "PremShot[['Squad','Weekly Wages (Pounds)','Gls','SoT%']]"
      ],
      "metadata": {
        "id": "kjuZfv1aKO7A"
      },
      "execution_count": null,
      "outputs": []
    },
    {
      "cell_type": "code",
      "source": [
        "PremDef[['Squad','Weekly Wages (Pounds)','TklW','Tkl%','Blocks','Int']]"
      ],
      "metadata": {
        "id": "ELGKXk35KRpA"
      },
      "execution_count": null,
      "outputs": []
    },
    {
      "cell_type": "markdown",
      "source": [
        "***ERRORS***"
      ],
      "metadata": {
        "id": "hFUlYYvqDLVY"
      }
    },
    {
      "cell_type": "markdown",
      "source": [
        "I want to see breakdowns of player data and how it works with say a squads passing or possession and if any coorelation. This table does not seem right"
      ],
      "metadata": {
        "id": "LfkMBi7TDKnO"
      }
    },
    {
      "cell_type": "code",
      "source": [
        "#  PremTop20[['Player','Weekly Wages (Pounds)','Gls','SoT%']]"
      ],
      "metadata": {
        "id": "8ZcSh0n4CkWZ"
      },
      "execution_count": null,
      "outputs": []
    },
    {
      "cell_type": "code",
      "source": [
        "#  PremShot[['Squad','Weekly Wages (Pounds)','']]"
      ],
      "metadata": {
        "id": "L6X0CeCmCRY0"
      },
      "execution_count": null,
      "outputs": []
    },
    {
      "cell_type": "markdown",
      "source": [
        "**Errors**:\n",
        "I tried to do this many to one initially below, I think I was just doing wrong columns. Which method is best for many to one?"
      ],
      "metadata": {
        "id": "qRZ7PdKqS1pr"
      }
    },
    {
      "cell_type": "code",
      "source": [
        "#  PremWages = SquadWages.merge(PlayerWages, on=[\"Squad\",\"Weekly Wages (Pounds)\"])\n",
        "#  PremWages3 = SquadWages.merge(PlayerWages, on=[\"Squad\",\"Weekly Wages (Pounds)\"])\n",
        "#  PremWages = SquadWages.merge(SquadPassing, on=[\"Squad\",\"Weekly Wages (Pounds)\"])\n",
        "#  PremWages2 = pd.merge(SquadWages,SquadPassing, on = ['Squad','Total_Att'], how = 'outer', indicator=True)\n",
        "#  PremOffense = pd.merge(SquadWages,SquadPassing, on = ['Squad','Total_Att'], how = 'outer', indicator=True)"
      ],
      "metadata": {
        "id": "hcy2UijeTK0j"
      },
      "execution_count": 25,
      "outputs": []
    },
    {
      "cell_type": "markdown",
      "source": [
        "***What I want to add in future:***"
      ],
      "metadata": {
        "id": "Jfx2KAB6MIvQ"
      }
    },
    {
      "cell_type": "markdown",
      "source": [
        "Bring these dataframes together to create cross tabs between defense and keeper data to seee if any relation between money spent and increase in defense performance. Same for offense, shot creations, on target shooting, etc.\n",
        "\n"
      ],
      "metadata": {
        "id": "jCU6pA-nMLyr"
      }
    }
  ]
}