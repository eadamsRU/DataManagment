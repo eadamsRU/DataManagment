{
  "nbformat": 4,
  "nbformat_minor": 0,
  "metadata": {
    "colab": {
      "provenance": [],
      "include_colab_link": true
    },
    "kernelspec": {
      "name": "python3",
      "display_name": "Python 3"
    },
    "language_info": {
      "name": "python"
    }
  },
  "cells": [
    {
      "cell_type": "markdown",
      "metadata": {
        "id": "view-in-github",
        "colab_type": "text"
      },
      "source": [
        "<a href=\"https://colab.research.google.com/github/eadamsRU/DataManagment/blob/main/PS2.ipynb\" target=\"_parent\"><img src=\"https://colab.research.google.com/assets/colab-badge.svg\" alt=\"Open In Colab\"/></a>"
      ]
    },
    {
      "cell_type": "markdown",
      "source": [
        "Grabs our Datasets uploaded on Github"
      ],
      "metadata": {
        "id": "cDnYqN7--Zqw"
      }
    },
    {
      "cell_type": "markdown",
      "source": [
        "aok: ok but give url to original data sources!\n",
        "\n",
        "and have at least like 2 sentences or a paragraph describing what you are doing eg rationale, hypotheses etc"
      ],
      "metadata": {
        "id": "QOoZP35ldBGd"
      }
    },
    {
      "cell_type": "code",
      "execution_count": 1,
      "metadata": {
        "id": "7RihavzR0uPr"
      },
      "outputs": [],
      "source": [
        "import csv\n",
        "!wget -q -O SquadWages.csv https://github.com/eadamsRU/DataManagment/raw/main/Squad%20Wages.csv\n",
        "!wget -q -O PlayerWages.csv https://github.com/eadamsRU/DataManagment/raw/main/Player%20Wages.csv\n"
      ]
    },
    {
      "cell_type": "markdown",
      "source": [
        "Save our csvs now in our directory as a dataframe"
      ],
      "metadata": {
        "id": "Nw8v7RwW-egy"
      }
    },
    {
      "cell_type": "code",
      "source": [
        "import pandas as pd\n",
        "Squads = pd.read_csv('SquadWages.csv', encoding='unicode_escape')\n",
        "Players = pd.read_csv('PlayerWages.csv', encoding='unicode_escape')\n",
        "\n"
      ],
      "metadata": {
        "id": "9XMIhH732bT_"
      },
      "execution_count": 2,
      "outputs": []
    },
    {
      "cell_type": "markdown",
      "source": [
        "**This data shows the Premier league wages for both individual players and their respective squads for Annual and Weekly wages**"
      ],
      "metadata": {
        "id": "tUsTdQ5bIps7"
      }
    },
    {
      "cell_type": "code",
      "source": [
        "Squads.head(5)\n",
        "Players.head(5)"
      ],
      "metadata": {
        "id": "0ZPJma1t3bqY",
        "colab": {
          "base_uri": "https://localhost:8080/",
          "height": 206
        },
        "outputId": "f3cff43d-b521-49dc-9aa3-34911e1d5991"
      },
      "execution_count": 3,
      "outputs": [
        {
          "output_type": "execute_result",
          "data": {
            "text/plain": [
              "   Rk            Player  Nation Pos            Squad  Age  \\\n",
              "0   1   Kevin De Bruyne  be BEL  MF  Manchester City   32   \n",
              "1   2    Erling Haaland  no NOR  FW  Manchester City   23   \n",
              "2   3          Casemiro  br BRA  MF   Manchester Utd   31   \n",
              "3   4     Mohamed Salah  eg EGY  FW        Liverpool   31   \n",
              "4   5  Raphaâl Varane  fr FRA  DF   Manchester Utd   30   \n",
              "\n",
              "                 Player Weekly Wages  \\\n",
              "0  Â£ 400,000 (Ã 466,428, $496,415)   \n",
              "1  Â£ 375,000 (Ã 437,276, $465,389)   \n",
              "2  Â£ 350,000 (Ã 408,125, $434,363)   \n",
              "3  Â£ 350,000 (Ã 408,125, $434,363)   \n",
              "4  Â£ 340,000 (Ã 396,464, $421,952)   \n",
              "\n",
              "                          Player Annual Wages Notes  \n",
              "0  Â£ 20,800,000 (Ã 24,254,260, $25,813,563)   NaN  \n",
              "1  Â£ 19,500,000 (Ã 22,738,369, $24,200,216)   NaN  \n",
              "2  Â£ 18,200,000 (Ã 21,222,478, $22,586,868)   NaN  \n",
              "3  Â£ 18,200,000 (Ã 21,222,478, $22,586,868)   NaN  \n",
              "4  Â£ 17,680,000 (Ã 20,616,121, $21,941,529)   NaN  "
            ],
            "text/html": [
              "\n",
              "  <div id=\"df-0a83c0c8-0e6f-4dfd-b002-6a16516c6a6a\" class=\"colab-df-container\">\n",
              "    <div>\n",
              "<style scoped>\n",
              "    .dataframe tbody tr th:only-of-type {\n",
              "        vertical-align: middle;\n",
              "    }\n",
              "\n",
              "    .dataframe tbody tr th {\n",
              "        vertical-align: top;\n",
              "    }\n",
              "\n",
              "    .dataframe thead th {\n",
              "        text-align: right;\n",
              "    }\n",
              "</style>\n",
              "<table border=\"1\" class=\"dataframe\">\n",
              "  <thead>\n",
              "    <tr style=\"text-align: right;\">\n",
              "      <th></th>\n",
              "      <th>Rk</th>\n",
              "      <th>Player</th>\n",
              "      <th>Nation</th>\n",
              "      <th>Pos</th>\n",
              "      <th>Squad</th>\n",
              "      <th>Age</th>\n",
              "      <th>Player Weekly Wages</th>\n",
              "      <th>Player Annual Wages</th>\n",
              "      <th>Notes</th>\n",
              "    </tr>\n",
              "  </thead>\n",
              "  <tbody>\n",
              "    <tr>\n",
              "      <th>0</th>\n",
              "      <td>1</td>\n",
              "      <td>Kevin De Bruyne</td>\n",
              "      <td>be BEL</td>\n",
              "      <td>MF</td>\n",
              "      <td>Manchester City</td>\n",
              "      <td>32</td>\n",
              "      <td>Â£ 400,000 (Ã 466,428, $496,415)</td>\n",
              "      <td>Â£ 20,800,000 (Ã 24,254,260, $25,813,563)</td>\n",
              "      <td>NaN</td>\n",
              "    </tr>\n",
              "    <tr>\n",
              "      <th>1</th>\n",
              "      <td>2</td>\n",
              "      <td>Erling Haaland</td>\n",
              "      <td>no NOR</td>\n",
              "      <td>FW</td>\n",
              "      <td>Manchester City</td>\n",
              "      <td>23</td>\n",
              "      <td>Â£ 375,000 (Ã 437,276, $465,389)</td>\n",
              "      <td>Â£ 19,500,000 (Ã 22,738,369, $24,200,216)</td>\n",
              "      <td>NaN</td>\n",
              "    </tr>\n",
              "    <tr>\n",
              "      <th>2</th>\n",
              "      <td>3</td>\n",
              "      <td>Casemiro</td>\n",
              "      <td>br BRA</td>\n",
              "      <td>MF</td>\n",
              "      <td>Manchester Utd</td>\n",
              "      <td>31</td>\n",
              "      <td>Â£ 350,000 (Ã 408,125, $434,363)</td>\n",
              "      <td>Â£ 18,200,000 (Ã 21,222,478, $22,586,868)</td>\n",
              "      <td>NaN</td>\n",
              "    </tr>\n",
              "    <tr>\n",
              "      <th>3</th>\n",
              "      <td>4</td>\n",
              "      <td>Mohamed Salah</td>\n",
              "      <td>eg EGY</td>\n",
              "      <td>FW</td>\n",
              "      <td>Liverpool</td>\n",
              "      <td>31</td>\n",
              "      <td>Â£ 350,000 (Ã 408,125, $434,363)</td>\n",
              "      <td>Â£ 18,200,000 (Ã 21,222,478, $22,586,868)</td>\n",
              "      <td>NaN</td>\n",
              "    </tr>\n",
              "    <tr>\n",
              "      <th>4</th>\n",
              "      <td>5</td>\n",
              "      <td>Raphaâl Varane</td>\n",
              "      <td>fr FRA</td>\n",
              "      <td>DF</td>\n",
              "      <td>Manchester Utd</td>\n",
              "      <td>30</td>\n",
              "      <td>Â£ 340,000 (Ã 396,464, $421,952)</td>\n",
              "      <td>Â£ 17,680,000 (Ã 20,616,121, $21,941,529)</td>\n",
              "      <td>NaN</td>\n",
              "    </tr>\n",
              "  </tbody>\n",
              "</table>\n",
              "</div>\n",
              "    <div class=\"colab-df-buttons\">\n",
              "\n",
              "  <div class=\"colab-df-container\">\n",
              "    <button class=\"colab-df-convert\" onclick=\"convertToInteractive('df-0a83c0c8-0e6f-4dfd-b002-6a16516c6a6a')\"\n",
              "            title=\"Convert this dataframe to an interactive table.\"\n",
              "            style=\"display:none;\">\n",
              "\n",
              "  <svg xmlns=\"http://www.w3.org/2000/svg\" height=\"24px\" viewBox=\"0 -960 960 960\">\n",
              "    <path d=\"M120-120v-720h720v720H120Zm60-500h600v-160H180v160Zm220 220h160v-160H400v160Zm0 220h160v-160H400v160ZM180-400h160v-160H180v160Zm440 0h160v-160H620v160ZM180-180h160v-160H180v160Zm440 0h160v-160H620v160Z\"/>\n",
              "  </svg>\n",
              "    </button>\n",
              "\n",
              "  <style>\n",
              "    .colab-df-container {\n",
              "      display:flex;\n",
              "      gap: 12px;\n",
              "    }\n",
              "\n",
              "    .colab-df-convert {\n",
              "      background-color: #E8F0FE;\n",
              "      border: none;\n",
              "      border-radius: 50%;\n",
              "      cursor: pointer;\n",
              "      display: none;\n",
              "      fill: #1967D2;\n",
              "      height: 32px;\n",
              "      padding: 0 0 0 0;\n",
              "      width: 32px;\n",
              "    }\n",
              "\n",
              "    .colab-df-convert:hover {\n",
              "      background-color: #E2EBFA;\n",
              "      box-shadow: 0px 1px 2px rgba(60, 64, 67, 0.3), 0px 1px 3px 1px rgba(60, 64, 67, 0.15);\n",
              "      fill: #174EA6;\n",
              "    }\n",
              "\n",
              "    .colab-df-buttons div {\n",
              "      margin-bottom: 4px;\n",
              "    }\n",
              "\n",
              "    [theme=dark] .colab-df-convert {\n",
              "      background-color: #3B4455;\n",
              "      fill: #D2E3FC;\n",
              "    }\n",
              "\n",
              "    [theme=dark] .colab-df-convert:hover {\n",
              "      background-color: #434B5C;\n",
              "      box-shadow: 0px 1px 3px 1px rgba(0, 0, 0, 0.15);\n",
              "      filter: drop-shadow(0px 1px 2px rgba(0, 0, 0, 0.3));\n",
              "      fill: #FFFFFF;\n",
              "    }\n",
              "  </style>\n",
              "\n",
              "    <script>\n",
              "      const buttonEl =\n",
              "        document.querySelector('#df-0a83c0c8-0e6f-4dfd-b002-6a16516c6a6a button.colab-df-convert');\n",
              "      buttonEl.style.display =\n",
              "        google.colab.kernel.accessAllowed ? 'block' : 'none';\n",
              "\n",
              "      async function convertToInteractive(key) {\n",
              "        const element = document.querySelector('#df-0a83c0c8-0e6f-4dfd-b002-6a16516c6a6a');\n",
              "        const dataTable =\n",
              "          await google.colab.kernel.invokeFunction('convertToInteractive',\n",
              "                                                    [key], {});\n",
              "        if (!dataTable) return;\n",
              "\n",
              "        const docLinkHtml = 'Like what you see? Visit the ' +\n",
              "          '<a target=\"_blank\" href=https://colab.research.google.com/notebooks/data_table.ipynb>data table notebook</a>'\n",
              "          + ' to learn more about interactive tables.';\n",
              "        element.innerHTML = '';\n",
              "        dataTable['output_type'] = 'display_data';\n",
              "        await google.colab.output.renderOutput(dataTable, element);\n",
              "        const docLink = document.createElement('div');\n",
              "        docLink.innerHTML = docLinkHtml;\n",
              "        element.appendChild(docLink);\n",
              "      }\n",
              "    </script>\n",
              "  </div>\n",
              "\n",
              "\n",
              "<div id=\"df-1f630e79-f25e-447a-be3a-86d5f99dda03\">\n",
              "  <button class=\"colab-df-quickchart\" onclick=\"quickchart('df-1f630e79-f25e-447a-be3a-86d5f99dda03')\"\n",
              "            title=\"Suggest charts.\"\n",
              "            style=\"display:none;\">\n",
              "\n",
              "<svg xmlns=\"http://www.w3.org/2000/svg\" height=\"24px\"viewBox=\"0 0 24 24\"\n",
              "     width=\"24px\">\n",
              "    <g>\n",
              "        <path d=\"M19 3H5c-1.1 0-2 .9-2 2v14c0 1.1.9 2 2 2h14c1.1 0 2-.9 2-2V5c0-1.1-.9-2-2-2zM9 17H7v-7h2v7zm4 0h-2V7h2v10zm4 0h-2v-4h2v4z\"/>\n",
              "    </g>\n",
              "</svg>\n",
              "  </button>\n",
              "\n",
              "<style>\n",
              "  .colab-df-quickchart {\n",
              "      --bg-color: #E8F0FE;\n",
              "      --fill-color: #1967D2;\n",
              "      --hover-bg-color: #E2EBFA;\n",
              "      --hover-fill-color: #174EA6;\n",
              "      --disabled-fill-color: #AAA;\n",
              "      --disabled-bg-color: #DDD;\n",
              "  }\n",
              "\n",
              "  [theme=dark] .colab-df-quickchart {\n",
              "      --bg-color: #3B4455;\n",
              "      --fill-color: #D2E3FC;\n",
              "      --hover-bg-color: #434B5C;\n",
              "      --hover-fill-color: #FFFFFF;\n",
              "      --disabled-bg-color: #3B4455;\n",
              "      --disabled-fill-color: #666;\n",
              "  }\n",
              "\n",
              "  .colab-df-quickchart {\n",
              "    background-color: var(--bg-color);\n",
              "    border: none;\n",
              "    border-radius: 50%;\n",
              "    cursor: pointer;\n",
              "    display: none;\n",
              "    fill: var(--fill-color);\n",
              "    height: 32px;\n",
              "    padding: 0;\n",
              "    width: 32px;\n",
              "  }\n",
              "\n",
              "  .colab-df-quickchart:hover {\n",
              "    background-color: var(--hover-bg-color);\n",
              "    box-shadow: 0 1px 2px rgba(60, 64, 67, 0.3), 0 1px 3px 1px rgba(60, 64, 67, 0.15);\n",
              "    fill: var(--button-hover-fill-color);\n",
              "  }\n",
              "\n",
              "  .colab-df-quickchart-complete:disabled,\n",
              "  .colab-df-quickchart-complete:disabled:hover {\n",
              "    background-color: var(--disabled-bg-color);\n",
              "    fill: var(--disabled-fill-color);\n",
              "    box-shadow: none;\n",
              "  }\n",
              "\n",
              "  .colab-df-spinner {\n",
              "    border: 2px solid var(--fill-color);\n",
              "    border-color: transparent;\n",
              "    border-bottom-color: var(--fill-color);\n",
              "    animation:\n",
              "      spin 1s steps(1) infinite;\n",
              "  }\n",
              "\n",
              "  @keyframes spin {\n",
              "    0% {\n",
              "      border-color: transparent;\n",
              "      border-bottom-color: var(--fill-color);\n",
              "      border-left-color: var(--fill-color);\n",
              "    }\n",
              "    20% {\n",
              "      border-color: transparent;\n",
              "      border-left-color: var(--fill-color);\n",
              "      border-top-color: var(--fill-color);\n",
              "    }\n",
              "    30% {\n",
              "      border-color: transparent;\n",
              "      border-left-color: var(--fill-color);\n",
              "      border-top-color: var(--fill-color);\n",
              "      border-right-color: var(--fill-color);\n",
              "    }\n",
              "    40% {\n",
              "      border-color: transparent;\n",
              "      border-right-color: var(--fill-color);\n",
              "      border-top-color: var(--fill-color);\n",
              "    }\n",
              "    60% {\n",
              "      border-color: transparent;\n",
              "      border-right-color: var(--fill-color);\n",
              "    }\n",
              "    80% {\n",
              "      border-color: transparent;\n",
              "      border-right-color: var(--fill-color);\n",
              "      border-bottom-color: var(--fill-color);\n",
              "    }\n",
              "    90% {\n",
              "      border-color: transparent;\n",
              "      border-bottom-color: var(--fill-color);\n",
              "    }\n",
              "  }\n",
              "</style>\n",
              "\n",
              "  <script>\n",
              "    async function quickchart(key) {\n",
              "      const quickchartButtonEl =\n",
              "        document.querySelector('#' + key + ' button');\n",
              "      quickchartButtonEl.disabled = true;  // To prevent multiple clicks.\n",
              "      quickchartButtonEl.classList.add('colab-df-spinner');\n",
              "      try {\n",
              "        const charts = await google.colab.kernel.invokeFunction(\n",
              "            'suggestCharts', [key], {});\n",
              "      } catch (error) {\n",
              "        console.error('Error during call to suggestCharts:', error);\n",
              "      }\n",
              "      quickchartButtonEl.classList.remove('colab-df-spinner');\n",
              "      quickchartButtonEl.classList.add('colab-df-quickchart-complete');\n",
              "    }\n",
              "    (() => {\n",
              "      let quickchartButtonEl =\n",
              "        document.querySelector('#df-1f630e79-f25e-447a-be3a-86d5f99dda03 button');\n",
              "      quickchartButtonEl.style.display =\n",
              "        google.colab.kernel.accessAllowed ? 'block' : 'none';\n",
              "    })();\n",
              "  </script>\n",
              "</div>\n",
              "    </div>\n",
              "  </div>\n"
            ]
          },
          "metadata": {},
          "execution_count": 3
        }
      ]
    },
    {
      "cell_type": "markdown",
      "source": [
        "Merge the 2 datasets into one"
      ],
      "metadata": {
        "id": "K8QBlUwQ-mgg"
      }
    },
    {
      "cell_type": "code",
      "source": [
        "PremLG = pd.merge(Squads,Players, on ='Squad', how = 'outer', indicator=True)"
      ],
      "metadata": {
        "id": "Svhyi9q13-JI"
      },
      "execution_count": 4,
      "outputs": []
    },
    {
      "cell_type": "code",
      "source": [
        "PremLG._merge.value_counts() #aok always investigate!"
      ],
      "metadata": {
        "colab": {
          "base_uri": "https://localhost:8080/"
        },
        "id": "szuluBolc1ON",
        "outputId": "8d5daba4-bcc8-48a3-df72-841b45b97bba"
      },
      "execution_count": 6,
      "outputs": [
        {
          "output_type": "execute_result",
          "data": {
            "text/plain": [
              "both          500\n",
              "left_only       0\n",
              "right_only      0\n",
              "Name: _merge, dtype: int64"
            ]
          },
          "metadata": {},
          "execution_count": 6
        }
      ]
    },
    {
      "cell_type": "markdown",
      "source": [
        "Save PremLG to PremGrouped and group by teh columns we are working with"
      ],
      "metadata": {
        "id": "QDCHbDMC-vbB"
      }
    },
    {
      "cell_type": "code",
      "source": [
        "PremGrouped = PremLG.groupby(['Squad','Player', 'Pos','Player Weekly Wages']).size()\n",
        "#aok but does it make sense? it doesnt--groupy is used to reduce size, your size is still about 500obs\n"
      ],
      "metadata": {
        "id": "iTxzxSw6k6Xz"
      },
      "execution_count": 7,
      "outputs": []
    },
    {
      "cell_type": "code",
      "source": [
        "len(PremGrouped.reset_index())"
      ],
      "metadata": {
        "id": "SP7OsCarndbT",
        "colab": {
          "base_uri": "https://localhost:8080/"
        },
        "outputId": "6d8461e7-48d4-4cc6-fb2c-18efc3ecd29b"
      },
      "execution_count": 9,
      "outputs": [
        {
          "output_type": "execute_result",
          "data": {
            "text/plain": [
              "498"
            ]
          },
          "metadata": {},
          "execution_count": 9
        }
      ]
    },
    {
      "cell_type": "markdown",
      "source": [
        "**Arsenal Players, Positions, and their Weekly Wages**\n",
        "\n",
        "The dataset because it is in English Pounds may have screwed up numerical values reading and trying to order."
      ],
      "metadata": {
        "id": "VSv7if0HsCrp"
      }
    },
    {
      "cell_type": "markdown",
      "source": [
        "I grabbed the Merged Dataset PremGRouped and found all the subsets in that for players belonging to the club Arsenal. From this I sorted by Position here to see how different positions are paid at one of the top clubs in the Premier League\n"
      ],
      "metadata": {
        "id": "fgeMvoVisQFI"
      }
    },
    {
      "cell_type": "code",
      "source": [
        "Arsenal = PremGrouped['Arsenal']\n",
        "#Arsenal.groupby('Pos').agg('Count')\n",
        "ArsenalDF = pd.DataFrame(Arsenal)\n",
        "\n",
        "ArsenalDF.sort_values('Player Weekly Wages')\n",
        "#ArsenalDF = Arsenal.reindex(['Player', 'Pos', 'Player Weekly Wagees'])\n",
        "#print(ArsenalDF)\n",
        "#Arsenal[['Player','Pos','Player Weekly Wages']].groupby('Player Weekly Wages').agg('max')\n",
        "\n",
        "Arsenal[:11]\n",
        "#ArsenalDF = pd.DataFrame(Arsenal)\n",
        "#ArsenalDF\n",
        "#ArsenalDF[['Player','Pos','Player Weekly Wages']].groupby('Player Weekly Wages').agg('mean')"
      ],
      "metadata": {
        "id": "xozXDLSKrBTy"
      },
      "execution_count": null,
      "outputs": []
    },
    {
      "cell_type": "code",
      "source": [
        "#ArsenalDF.sort_values('Player Weekly Wages')\n",
        "ArsenalPos = ArsenalDF.sort_values('Pos')\n",
        "ArsenalPos"
      ],
      "metadata": {
        "id": "5QbwRlaEx7to"
      },
      "execution_count": null,
      "outputs": []
    },
    {
      "cell_type": "code",
      "source": [
        "ArsenalDef = ArsenalPos[0:8]\n",
        "ArsenalDef\n"
      ],
      "metadata": {
        "id": "moY2qPxEwYL2"
      },
      "execution_count": null,
      "outputs": []
    },
    {
      "cell_type": "markdown",
      "source": [
        "This holds true that typically Attack players will get higher wages, Could be because there are less of them on the team and the budget(Squad Weekly Wages)allows for it"
      ],
      "metadata": {
        "id": "_5JROYba2c4J"
      }
    },
    {
      "cell_type": "code",
      "source": [
        "#ArsenalDF.sort_values('Player Weekly Wages')\n",
        "ArsenalAtt = ArsenalPos[10:16]\n",
        "ArsenalAtt"
      ],
      "metadata": {
        "id": "WSVdFcO6yE3y"
      },
      "execution_count": null,
      "outputs": []
    },
    {
      "cell_type": "markdown",
      "source": [
        "***This shows the highest paid player for each club in the Premier League***\n",
        "\n",
        " Was unsure as to why these wages were the way. Think an issue with the csv dataset symbols was causing incorrect values for wages showing. Will have to clean the datasets before using"
      ],
      "metadata": {
        "id": "Rhs4uqFU0Z-s"
      }
    },
    {
      "cell_type": "code",
      "source": [
        "PremTop = PremLG.sort_values('Squad Weekly Wages')\n",
        "PremTop[['Squad','Player','Player Weekly Wages','Squad Weekly Wages']].groupby(['Squad','Squad Weekly Wages']).agg('max')"
      ],
      "metadata": {
        "id": "duD6BLb7yyr9"
      },
      "execution_count": null,
      "outputs": []
    },
    {
      "cell_type": "markdown",
      "source": [
        "This breaks down how many Nations there are by Pos and how many in a Squad"
      ],
      "metadata": {
        "id": "i4PV9J-C7MiW"
      }
    },
    {
      "cell_type": "code",
      "source": [
        "PremLG[['Squad','Player','Nation','Pos']].groupby(['Nation','Pos']).agg('count')\n",
        "\n",
        "'''\n",
        "How would I use this to show all the players from a specific country?\n",
        "  Then save those to their own Dataframe?\n",
        "'''\n",
        "#Nations = PremLG[['Squad','Player','Nation','Pos']].groupby(['Nation','Pos']).agg('count')\n",
        "#Nations['ar ARG']"
      ],
      "metadata": {
        "id": "Vdht24QI6xHM"
      },
      "execution_count": null,
      "outputs": []
    },
    {
      "cell_type": "code",
      "source": [
        "PremLG"
      ],
      "metadata": {
        "id": "2u7B4SLE62cf"
      },
      "execution_count": null,
      "outputs": []
    },
    {
      "cell_type": "code",
      "source": [
        "#PremGrouped['Player Wages'] = PremGrouped.groupby(['Squad', 'Player', 'Player Weekly Wages']).transform('size')"
      ],
      "metadata": {
        "id": "qiY7o9lCoICu"
      },
      "execution_count": null,
      "outputs": []
    },
    {
      "cell_type": "code",
      "source": [
        "#PremInner = pd.merge(Squads, Players, how='inner', on=['Squad']) #inner=keep match\n",
        "#PremInner[['Squad','Player','Pos','Player Weekly Wages']].head(3)\n"
      ],
      "metadata": {
        "id": "Ng5eKMZqg18m"
      },
      "execution_count": null,
      "outputs": []
    }
  ]
}