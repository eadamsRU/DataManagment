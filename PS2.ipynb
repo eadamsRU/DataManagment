{
  "nbformat": 4,
  "nbformat_minor": 0,
  "metadata": {
    "colab": {
      "provenance": [],
      "authorship_tag": "ABX9TyNrUqdf2eG5F75mezEfiLuQ",
      "include_colab_link": true
    },
    "kernelspec": {
      "name": "python3",
      "display_name": "Python 3"
    },
    "language_info": {
      "name": "python"
    }
  },
  "cells": [
    {
      "cell_type": "markdown",
      "metadata": {
        "id": "view-in-github",
        "colab_type": "text"
      },
      "source": [
        "<a href=\"https://colab.research.google.com/github/eadamsRU/DataManagment/blob/main/PS2.ipynb\" target=\"_parent\"><img src=\"https://colab.research.google.com/assets/colab-badge.svg\" alt=\"Open In Colab\"/></a>"
      ]
    },
    {
      "cell_type": "markdown",
      "source": [
        "Grabs our Datasets uploaded on Github"
      ],
      "metadata": {
        "id": "cDnYqN7--Zqw"
      }
    },
    {
      "cell_type": "code",
      "execution_count": 177,
      "metadata": {
        "id": "7RihavzR0uPr"
      },
      "outputs": [],
      "source": [
        "import csv\n",
        "!wget -q -O SquadWages.csv https://github.com/eadamsRU/DataManagment/raw/main/Squad%20Wages.csv\n",
        "!wget -q -O PlayerWages.csv https://github.com/eadamsRU/DataManagment/raw/main/Player%20Wages.csv\n"
      ]
    },
    {
      "cell_type": "markdown",
      "source": [
        "Save our csvs now in our directory as a dataframe"
      ],
      "metadata": {
        "id": "Nw8v7RwW-egy"
      }
    },
    {
      "cell_type": "code",
      "source": [
        "import pandas as pd\n",
        "Squads = pd.read_csv('SquadWages.csv', encoding='unicode_escape')\n",
        "Players = pd.read_csv('PlayerWages.csv', encoding='unicode_escape')\n",
        "\n"
      ],
      "metadata": {
        "id": "9XMIhH732bT_"
      },
      "execution_count": 2,
      "outputs": []
    },
    {
      "cell_type": "markdown",
      "source": [
        "**This data shows the Premier league wages for both individual players and their respective squads for Annual and Weekly wages**"
      ],
      "metadata": {
        "id": "tUsTdQ5bIps7"
      }
    },
    {
      "cell_type": "code",
      "source": [
        "Squads.head(5)\n",
        "Players.head(5)"
      ],
      "metadata": {
        "id": "0ZPJma1t3bqY"
      },
      "execution_count": null,
      "outputs": []
    },
    {
      "cell_type": "markdown",
      "source": [
        "Merge the 2 datasets into one"
      ],
      "metadata": {
        "id": "K8QBlUwQ-mgg"
      }
    },
    {
      "cell_type": "code",
      "source": [
        "PremLG = pd.merge(Squads,Players, on ='Squad', how = 'outer', indicator=True)"
      ],
      "metadata": {
        "id": "Svhyi9q13-JI"
      },
      "execution_count": 151,
      "outputs": []
    },
    {
      "cell_type": "markdown",
      "source": [
        "Save PremLG to PremGrouped and group by teh columns we are working with"
      ],
      "metadata": {
        "id": "QDCHbDMC-vbB"
      }
    },
    {
      "cell_type": "code",
      "source": [
        "PremGrouped = PremLG.groupby(['Squad','Player', 'Pos','Player Weekly Wages']).size()\n"
      ],
      "metadata": {
        "id": "iTxzxSw6k6Xz"
      },
      "execution_count": 152,
      "outputs": []
    },
    {
      "cell_type": "code",
      "source": [
        "PremGrouped.reset_index()"
      ],
      "metadata": {
        "id": "SP7OsCarndbT"
      },
      "execution_count": null,
      "outputs": []
    },
    {
      "cell_type": "markdown",
      "source": [
        "**Arsenal Players, Positions, and their Weekly Wages**\n",
        "\n",
        "The dataset because it is in English Pounds may have screwed up numerical values reading and trying to order."
      ],
      "metadata": {
        "id": "VSv7if0HsCrp"
      }
    },
    {
      "cell_type": "markdown",
      "source": [
        "I grabbed the Merged Dataset PremGRouped and found all the subsets in that for players belonging to the club Arsenal. From this I sorted by Position here to see how different positions are paid at one of the top clubs in the Premier League\n"
      ],
      "metadata": {
        "id": "fgeMvoVisQFI"
      }
    },
    {
      "cell_type": "code",
      "source": [
        "Arsenal = PremGrouped['Arsenal']\n",
        "#Arsenal.groupby('Pos').agg('Count')\n",
        "ArsenalDF = pd.DataFrame(Arsenal)\n",
        "\n",
        "ArsenalDF.sort_values('Player Weekly Wages')\n",
        "#ArsenalDF = Arsenal.reindex(['Player', 'Pos', 'Player Weekly Wagees'])\n",
        "#print(ArsenalDF)\n",
        "#Arsenal[['Player','Pos','Player Weekly Wages']].groupby('Player Weekly Wages').agg('max')\n",
        "\n",
        "Arsenal[:11]\n",
        "#ArsenalDF = pd.DataFrame(Arsenal)\n",
        "#ArsenalDF\n",
        "#ArsenalDF[['Player','Pos','Player Weekly Wages']].groupby('Player Weekly Wages').agg('mean')"
      ],
      "metadata": {
        "id": "xozXDLSKrBTy"
      },
      "execution_count": null,
      "outputs": []
    },
    {
      "cell_type": "code",
      "source": [
        "#ArsenalDF.sort_values('Player Weekly Wages')\n",
        "ArsenalPos = ArsenalDF.sort_values('Pos')\n",
        "ArsenalPos"
      ],
      "metadata": {
        "id": "5QbwRlaEx7to"
      },
      "execution_count": null,
      "outputs": []
    },
    {
      "cell_type": "code",
      "source": [
        "ArsenalDef = ArsenalPos[0:8]\n",
        "ArsenalDef\n"
      ],
      "metadata": {
        "id": "moY2qPxEwYL2"
      },
      "execution_count": null,
      "outputs": []
    },
    {
      "cell_type": "markdown",
      "source": [
        "This holds true that typically Attack players will get higher wages, Could be because there are less of them on the team and the budget(Squad Weekly Wages)allows for it"
      ],
      "metadata": {
        "id": "_5JROYba2c4J"
      }
    },
    {
      "cell_type": "code",
      "source": [
        "#ArsenalDF.sort_values('Player Weekly Wages')\n",
        "ArsenalAtt = ArsenalPos[10:16]\n",
        "ArsenalAtt"
      ],
      "metadata": {
        "id": "WSVdFcO6yE3y"
      },
      "execution_count": null,
      "outputs": []
    },
    {
      "cell_type": "markdown",
      "source": [
        "***This shows the highest paid player for each club in the Premier League***\n",
        "\n",
        " Was unsure as to why these wages were the way. Think an issue with the csv dataset symbols was causing incorrect values for wages showing. Will have to clean the datasets before using"
      ],
      "metadata": {
        "id": "Rhs4uqFU0Z-s"
      }
    },
    {
      "cell_type": "code",
      "source": [
        "PremTop = PremLG.sort_values('Squad Weekly Wages')\n",
        "PremTop[['Squad','Player','Player Weekly Wages','Squad Weekly Wages']].groupby(['Squad','Squad Weekly Wages']).agg('max')"
      ],
      "metadata": {
        "id": "duD6BLb7yyr9"
      },
      "execution_count": null,
      "outputs": []
    },
    {
      "cell_type": "markdown",
      "source": [
        "This breaks down how many Nations there are by Pos and how many in a Squad"
      ],
      "metadata": {
        "id": "i4PV9J-C7MiW"
      }
    },
    {
      "cell_type": "code",
      "source": [
        "PremLG[['Squad','Player','Nation','Pos']].groupby(['Nation','Pos']).agg('count')\n",
        "\n",
        "'''\n",
        "How would I use this to show all the players from a specific country?\n",
        "  Then save those to their own Dataframe?\n",
        "'''\n",
        "#Nations = PremLG[['Squad','Player','Nation','Pos']].groupby(['Nation','Pos']).agg('count')\n",
        "#Nations['ar ARG']"
      ],
      "metadata": {
        "id": "Vdht24QI6xHM"
      },
      "execution_count": null,
      "outputs": []
    },
    {
      "cell_type": "code",
      "source": [
        "PremLG"
      ],
      "metadata": {
        "id": "2u7B4SLE62cf"
      },
      "execution_count": null,
      "outputs": []
    },
    {
      "cell_type": "code",
      "source": [
        "#PremGrouped['Player Wages'] = PremGrouped.groupby(['Squad', 'Player', 'Player Weekly Wages']).transform('size')"
      ],
      "metadata": {
        "id": "qiY7o9lCoICu"
      },
      "execution_count": null,
      "outputs": []
    },
    {
      "cell_type": "code",
      "source": [
        "#PremInner = pd.merge(Squads, Players, how='inner', on=['Squad']) #inner=keep match\n",
        "#PremInner[['Squad','Player','Pos','Player Weekly Wages']].head(3)\n"
      ],
      "metadata": {
        "id": "Ng5eKMZqg18m"
      },
      "execution_count": null,
      "outputs": []
    }
  ]
}